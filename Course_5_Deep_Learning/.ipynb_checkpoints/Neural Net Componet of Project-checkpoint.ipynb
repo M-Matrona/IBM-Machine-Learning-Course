{
 "cells": [
  {
   "cell_type": "code",
   "execution_count": 1,
   "id": "e46e1798",
   "metadata": {},
   "outputs": [
    {
     "name": "stderr",
     "output_type": "stream",
     "text": [
      "Using TensorFlow backend.\n"
     ]
    }
   ],
   "source": [
    "import os\n",
    "import cv2\n",
    "import numpy as np\n",
    "from PIL import Image\n",
    "from collections import Counter\n",
    "from sklearn.model_selection import train_test_split\n",
    "import matplotlib.pyplot as plt\n",
    "import pandas as pd\n",
    "from sklearn.metrics import confusion_matrix\n",
    "from sklearn.metrics import ConfusionMatrixDisplay, accuracy_score\n",
    "import keras\n",
    "\n",
    "#from tensorflow.keras.preprocessing.image import ImageDataGenerator\n",
    "#from tensorflow.keras.models import Sequential\n",
    "#from tensorflow.keras.layers import Dense, Dropout, Activation, Flatten\n",
    "#from tensorflow.keras.layers import Conv2D, MaxPooling2D\n",
    "\n",
    "from keras.preprocessing.image import ImageDataGenerator\n",
    "from keras.models import Sequential\n",
    "from keras.layers import Dense, Dropout, Activation, Flatten\n",
    "from keras.layers import Conv2D, MaxPooling2D\n",
    "from sklearn.preprocessing import LabelEncoder\n",
    "from tensorflow.keras.optimizers import Adam,SGD,Adagrad,Adadelta,RMSprop"
   ]
  },
  {
   "cell_type": "code",
   "execution_count": 2,
   "id": "15a74db7",
   "metadata": {},
   "outputs": [],
   "source": [
    "def mse(a,b):\n",
    "    \"\"\"function to compute the mean square error between two numpy arrays\"\"\"\n",
    "    return np.square(a-b).mean()\n",
    "\n",
    "def load_images(data_path):\n",
    "    \"\"\"Function to load images from NEU Dataset\"\"\"\n",
    "\n",
    "    images=[] \n",
    "    labels=[] \n",
    "\n",
    "    for dirpath, dirnames, filenames in os.walk(data_path):\n",
    "        for filename in filenames:\n",
    "            defect=dirpath.split('\\\\')[-1] \n",
    "            if '.bmp' in filename:\n",
    "                images.append(cv2.imread(os.path.join(dirpath,filename),0))\n",
    "                labels.append(defect)\n",
    "\n",
    "    images=np.asarray(images)\n",
    "    labels=np.asarray(labels)\n",
    "\n",
    "    return images, labels"
   ]
  },
  {
   "cell_type": "code",
   "execution_count": 3,
   "id": "1862b816",
   "metadata": {},
   "outputs": [],
   "source": [
    "data_path = r'C:\\Users\\mmatr\\Desktop\\Learning Data Science\\IBM Machine Learning\\Git\\IBM-Machine-Learning-Course\\Course_5_Deep_Learning\\NEU Metal Surface Defects Data'\n",
    "os.chdir(data_path)\n",
    "\n",
    "data, labels = load_images(data_path)"
   ]
  },
  {
   "cell_type": "code",
   "execution_count": 4,
   "id": "c2554d12",
   "metadata": {},
   "outputs": [],
   "source": [
    "#this is necessary to get the data into the form that to_categorical requires, namely an array of numeric labels\n",
    "le = LabelEncoder()\n",
    "\n",
    "labels_ohe = keras.utils.to_categorical(le.fit_transform(labels).reshape(-1,1), 6)"
   ]
  },
  {
   "cell_type": "code",
   "execution_count": 73,
   "id": "98c4cddf",
   "metadata": {},
   "outputs": [
    {
     "name": "stdout",
     "output_type": "stream",
     "text": [
      "ERROR! Session/line number was not unique in database. History logging moved to new session 620\n"
     ]
    },
    {
     "data": {
      "text/plain": [
       "255"
      ]
     },
     "execution_count": 73,
     "metadata": {},
     "output_type": "execute_result"
    }
   ],
   "source": [
    "np.max(data)"
   ]
  },
  {
   "cell_type": "code",
   "execution_count": 74,
   "id": "ffb62af8",
   "metadata": {},
   "outputs": [],
   "source": [
    "data=data/np.max(data)"
   ]
  },
  {
   "cell_type": "code",
   "execution_count": 75,
   "id": "8216fc36",
   "metadata": {},
   "outputs": [],
   "source": [
    "X_train, X_test, y_train, y_test = train_test_split(data, labels_ohe, test_size=0.15)"
   ]
  },
  {
   "cell_type": "code",
   "execution_count": 76,
   "id": "5fc36771",
   "metadata": {},
   "outputs": [],
   "source": [
    "X_train = X_train.reshape(len(X_train),200,200,1)\n",
    "X_test = X_test.reshape(len(X_test),200,200,1)"
   ]
  },
  {
   "cell_type": "code",
   "execution_count": 77,
   "id": "c357b4b9",
   "metadata": {},
   "outputs": [
    {
     "data": {
      "text/plain": [
       "(200, 200, 1)"
      ]
     },
     "execution_count": 77,
     "metadata": {},
     "output_type": "execute_result"
    }
   ],
   "source": [
    "X_train.shape[1:]"
   ]
  },
  {
   "cell_type": "markdown",
   "id": "0ba1222a",
   "metadata": {},
   "source": [
    "# First Model\n",
    "\n",
    "This model will be a contain a single convolution layer. And serve as the skeleton for subsequent models"
   ]
  },
  {
   "cell_type": "code",
   "execution_count": 78,
   "id": "b43aee73",
   "metadata": {},
   "outputs": [
    {
     "name": "stdout",
     "output_type": "stream",
     "text": [
      "Model: \"sequential_30\"\n",
      "_________________________________________________________________\n",
      "Layer (type)                 Output Shape              Param #   \n",
      "=================================================================\n",
      "conv2d_68 (Conv2D)           (None, 199, 199, 32)      160       \n",
      "_________________________________________________________________\n",
      "max_pooling2d_45 (MaxPooling (None, 49, 49, 32)        0         \n",
      "_________________________________________________________________\n",
      "flatten_28 (Flatten)         (None, 76832)             0         \n",
      "_________________________________________________________________\n",
      "dense_65 (Dense)             (None, 256)               19669248  \n",
      "_________________________________________________________________\n",
      "dropout_40 (Dropout)         (None, 256)               0         \n",
      "_________________________________________________________________\n",
      "dense_66 (Dense)             (None, 6)                 1542      \n",
      "=================================================================\n",
      "Total params: 19,670,950\n",
      "Trainable params: 19,670,950\n",
      "Non-trainable params: 0\n",
      "_________________________________________________________________\n",
      "Compiled!\n"
     ]
    }
   ],
   "source": [
    "model = Sequential()\n",
    "model.add(Conv2D(32, (2,2), activation='relu', input_shape=X_train.shape[1:]))\n",
    "model.add(MaxPooling2D(4, 4))\n",
    "model.add(Flatten())\n",
    "model.add(Dense(256))\n",
    "model.add(Dropout(0.2))\n",
    "model.add(Dense(6, activation='softmax'))\n",
    "\n",
    "model.summary()\n",
    "\n",
    "model.compile(loss='categorical_crossentropy',\n",
    "              optimizer='rmsprop',\n",
    "              metrics=['accuracy'])\n",
    "print('Compiled!')"
   ]
  },
  {
   "cell_type": "code",
   "execution_count": 79,
   "id": "9eb75421",
   "metadata": {},
   "outputs": [
    {
     "name": "stdout",
     "output_type": "stream",
     "text": [
      "Train on 1530 samples, validate on 270 samples\n",
      "Epoch 1/10\n",
      "1530/1530 [==============================] - 14s 9ms/step - loss: 18.7849 - accuracy: 0.2824 - val_loss: 8.1170 - val_accuracy: 0.3667\n",
      "Epoch 2/10\n",
      "1530/1530 [==============================] - 21s 13ms/step - loss: 2.4804 - accuracy: 0.5804 - val_loss: 2.2597 - val_accuracy: 0.4370\n",
      "Epoch 3/10\n",
      "1530/1530 [==============================] - 20s 13ms/step - loss: 0.8110 - accuracy: 0.7595 - val_loss: 0.5198 - val_accuracy: 0.8111\n",
      "Epoch 4/10\n",
      "1530/1530 [==============================] - 20s 13ms/step - loss: 0.5242 - accuracy: 0.8418 - val_loss: 0.3786 - val_accuracy: 0.8407\n",
      "Epoch 5/10\n",
      "1530/1530 [==============================] - 20s 13ms/step - loss: 0.4272 - accuracy: 0.8542 - val_loss: 0.4871 - val_accuracy: 0.8333\n",
      "Epoch 6/10\n",
      "1530/1530 [==============================] - 20s 13ms/step - loss: 0.3242 - accuracy: 0.8928 - val_loss: 0.2704 - val_accuracy: 0.8963\n",
      "Epoch 7/10\n",
      "1530/1530 [==============================] - 20s 13ms/step - loss: 0.3863 - accuracy: 0.8961 - val_loss: 0.2852 - val_accuracy: 0.8926\n",
      "Epoch 8/10\n",
      "1530/1530 [==============================] - 20s 13ms/step - loss: 0.2770 - accuracy: 0.9222 - val_loss: 0.3779 - val_accuracy: 0.8889\n",
      "Epoch 9/10\n",
      "1530/1530 [==============================] - 20s 13ms/step - loss: 0.2743 - accuracy: 0.9235 - val_loss: 0.3657 - val_accuracy: 0.8444\n",
      "Epoch 10/10\n",
      "1530/1530 [==============================] - 20s 13ms/step - loss: 0.2470 - accuracy: 0.9235 - val_loss: 0.4196 - val_accuracy: 0.8593\n"
     ]
    }
   ],
   "source": [
    "history_model1 = model.fit(X_train,y_train,\n",
    "        batch_size = 32,\n",
    "        epochs=10,\n",
    "        validation_data=(X_test,y_test),\n",
    "        verbose=1, shuffle=True)"
   ]
  },
  {
   "cell_type": "code",
   "execution_count": 80,
   "id": "49b579fb",
   "metadata": {},
   "outputs": [
    {
     "data": {
      "image/png": "[encoded data removed]",
      "text/plain": [
       "<Figure size 640x480 with 1 Axes>"
      ]
     },
     "metadata": {},
     "output_type": "display_data"
    }
   ],
   "source": [
    "plt.figure(1)  \n",
    "# summarize history for accuracy  \n",
    "plt.subplot(211)  \n",
    "plt.plot(history_model1.history['accuracy'])  \n",
    "plt.plot(history_model1.history['val_accuracy'])  \n",
    "plt.title('model accuracy')  \n",
    "plt.ylabel('accuracy')  \n",
    "plt.xlabel('epoch')  \n",
    "plt.legend(['train', 'test'], loc='upper left')  \n",
    "plt.show()"
   ]
  },
  {
   "cell_type": "markdown",
   "id": "983a33f9",
   "metadata": {},
   "source": [
    "# Adam Optimizer \n",
    "\n",
    "Else the same as above"
   ]
  },
  {
   "cell_type": "code",
   "execution_count": 81,
   "id": "8afaf350",
   "metadata": {},
   "outputs": [
    {
     "name": "stdout",
     "output_type": "stream",
     "text": [
      "Model: \"sequential_31\"\n",
      "_________________________________________________________________\n",
      "Layer (type)                 Output Shape              Param #   \n",
      "=================================================================\n",
      "conv2d_69 (Conv2D)           (None, 199, 199, 32)      160       \n",
      "_________________________________________________________________\n",
      "max_pooling2d_46 (MaxPooling (None, 49, 49, 32)        0         \n",
      "_________________________________________________________________\n",
      "flatten_29 (Flatten)         (None, 76832)             0         \n",
      "_________________________________________________________________\n",
      "dense_67 (Dense)             (None, 256)               19669248  \n",
      "_________________________________________________________________\n",
      "dropout_41 (Dropout)         (None, 256)               0         \n",
      "_________________________________________________________________\n",
      "dense_68 (Dense)             (None, 6)                 1542      \n",
      "=================================================================\n",
      "Total params: 19,670,950\n",
      "Trainable params: 19,670,950\n",
      "Non-trainable params: 0\n",
      "_________________________________________________________________\n",
      "Compiled!\n"
     ]
    }
   ],
   "source": [
    "model = Sequential()\n",
    "model.add(Conv2D(32, (2,2), activation='relu', input_shape=X_train.shape[1:]))\n",
    "model.add(MaxPooling2D(4, 4))\n",
    "model.add(Flatten())\n",
    "model.add(Dense(256))\n",
    "model.add(Dropout(0.2))\n",
    "model.add(Dense(6, activation='softmax'))\n",
    "\n",
    "model.summary()\n",
    "\n",
    "model.compile(loss='categorical_crossentropy',\n",
    "              optimizer='Adam',\n",
    "              metrics=['accuracy'])\n",
    "print('Compiled!')"
   ]
  },
  {
   "cell_type": "code",
   "execution_count": 82,
   "id": "4888634e",
   "metadata": {},
   "outputs": [
    {
     "name": "stdout",
     "output_type": "stream",
     "text": [
      "Train on 1530 samples, validate on 270 samples\n",
      "Epoch 1/10\n",
      "1530/1530 [==============================] - 15s 10ms/step - loss: 4.6951 - accuracy: 0.3549 - val_loss: 0.7913 - val_accuracy: 0.7259\n",
      "Epoch 2/10\n",
      "1530/1530 [==============================] - 24s 16ms/step - loss: 0.5708 - accuracy: 0.7758 - val_loss: 0.4892 - val_accuracy: 0.7926\n",
      "Epoch 3/10\n",
      "1530/1530 [==============================] - 23s 15ms/step - loss: 0.3862 - accuracy: 0.8582 - val_loss: 0.3790 - val_accuracy: 0.8667\n",
      "Epoch 4/10\n",
      "1530/1530 [==============================] - 22s 14ms/step - loss: 0.3939 - accuracy: 0.8562 - val_loss: 0.4745 - val_accuracy: 0.8667\n",
      "Epoch 5/10\n",
      "1530/1530 [==============================] - 22s 14ms/step - loss: 0.3640 - accuracy: 0.8765 - val_loss: 0.3873 - val_accuracy: 0.8556\n",
      "Epoch 6/10\n",
      "1530/1530 [==============================] - 23s 15ms/step - loss: 0.2460 - accuracy: 0.9157 - val_loss: 0.3478 - val_accuracy: 0.8704\n",
      "Epoch 7/10\n",
      "1530/1530 [==============================] - 23s 15ms/step - loss: 0.2596 - accuracy: 0.9118 - val_loss: 0.9212 - val_accuracy: 0.7630\n",
      "Epoch 8/10\n",
      "1530/1530 [==============================] - 22s 14ms/step - loss: 0.2227 - accuracy: 0.9268 - val_loss: 0.2963 - val_accuracy: 0.8889\n",
      "Epoch 9/10\n",
      "1530/1530 [==============================] - 22s 14ms/step - loss: 0.1948 - accuracy: 0.9373 - val_loss: 0.3170 - val_accuracy: 0.8852\n",
      "Epoch 10/10\n",
      "1530/1530 [==============================] - 21s 14ms/step - loss: 0.1852 - accuracy: 0.9399 - val_loss: 0.3823 - val_accuracy: 0.8556\n"
     ]
    }
   ],
   "source": [
    "history_model1a = model.fit(X_train,y_train,\n",
    "        batch_size = 32,\n",
    "        epochs=10,\n",
    "        validation_data=(X_test,y_test),\n",
    "        verbose=1, shuffle=True)"
   ]
  },
  {
   "cell_type": "code",
   "execution_count": 83,
   "id": "694155a3",
   "metadata": {},
   "outputs": [
    {
     "data": {
      "image/png": "[encoded data removed]",
      "text/plain": [
       "<Figure size 640x480 with 1 Axes>"
      ]
     },
     "metadata": {},
     "output_type": "display_data"
    }
   ],
   "source": [
    "plt.figure(1)  \n",
    "# summarize history for accuracy  \n",
    "plt.subplot(211)  \n",
    "plt.plot(history_model1.history['accuracy'])  \n",
    "plt.plot(history_model1.history['val_accuracy'])  \n",
    "plt.title('model accuracy')  \n",
    "plt.ylabel('accuracy')  \n",
    "plt.xlabel('epoch')  \n",
    "plt.legend(['train', 'test'], loc='upper left')  \n",
    "plt.show()"
   ]
  },
  {
   "cell_type": "markdown",
   "id": "f71b8bc3",
   "metadata": {},
   "source": [
    "# Model 2 \n",
    "\n",
    "Attempt to reduce overfitting of model 1 - Smaller Dense layer"
   ]
  },
  {
   "cell_type": "code",
   "execution_count": 84,
   "id": "6329b06b",
   "metadata": {},
   "outputs": [
    {
     "name": "stdout",
     "output_type": "stream",
     "text": [
      "Model: \"sequential_32\"\n",
      "_________________________________________________________________\n",
      "Layer (type)                 Output Shape              Param #   \n",
      "=================================================================\n",
      "conv2d_70 (Conv2D)           (None, 199, 199, 32)      160       \n",
      "_________________________________________________________________\n",
      "max_pooling2d_47 (MaxPooling (None, 49, 49, 32)        0         \n",
      "_________________________________________________________________\n",
      "flatten_30 (Flatten)         (None, 76832)             0         \n",
      "_________________________________________________________________\n",
      "dense_69 (Dense)             (None, 128)               9834624   \n",
      "_________________________________________________________________\n",
      "dropout_42 (Dropout)         (None, 128)               0         \n",
      "_________________________________________________________________\n",
      "dense_70 (Dense)             (None, 6)                 774       \n",
      "=================================================================\n",
      "Total params: 9,835,558\n",
      "Trainable params: 9,835,558\n",
      "Non-trainable params: 0\n",
      "_________________________________________________________________\n",
      "Compiled!\n"
     ]
    }
   ],
   "source": [
    "model = Sequential()\n",
    "model.add(Conv2D(32, (2,2), activation='relu', input_shape=X_train.shape[1:]))\n",
    "model.add(MaxPooling2D(4, 4))\n",
    "model.add(Flatten())\n",
    "model.add(Dense(128))\n",
    "model.add(Dropout(0.2))\n",
    "model.add(Dense(6, activation='softmax'))\n",
    "\n",
    "model.summary()\n",
    "\n",
    "model.compile(loss='categorical_crossentropy',\n",
    "              optimizer='rmsprop',\n",
    "              metrics=['accuracy'])\n",
    "print('Compiled!')"
   ]
  },
  {
   "cell_type": "code",
   "execution_count": 85,
   "id": "82226887",
   "metadata": {
    "scrolled": false
   },
   "outputs": [
    {
     "name": "stdout",
     "output_type": "stream",
     "text": [
      "Train on 1530 samples, validate on 270 samples\n",
      "Epoch 1/10\n",
      "1530/1530 [==============================] - 11s 7ms/step - loss: 28.4010 - accuracy: 0.2203 - val_loss: 9.4136 - val_accuracy: 0.2481\n",
      "Epoch 2/10\n",
      "1530/1530 [==============================] - 18s 12ms/step - loss: 3.3053 - accuracy: 0.4418 - val_loss: 1.0850 - val_accuracy: 0.6296\n",
      "Epoch 3/10\n",
      "1530/1530 [==============================] - 17s 11ms/step - loss: 0.8953 - accuracy: 0.7163 - val_loss: 0.6987 - val_accuracy: 0.7185\n",
      "Epoch 4/10\n",
      "1530/1530 [==============================] - 17s 11ms/step - loss: 0.5982 - accuracy: 0.7993 - val_loss: 0.3820 - val_accuracy: 0.8519\n",
      "Epoch 5/10\n",
      "1530/1530 [==============================] - 17s 11ms/step - loss: 0.5064 - accuracy: 0.8412 - val_loss: 0.5034 - val_accuracy: 0.7963\n",
      "Epoch 6/10\n",
      "1530/1530 [==============================] - 16s 11ms/step - loss: 0.4179 - accuracy: 0.8510 - val_loss: 0.2893 - val_accuracy: 0.8852\n",
      "Epoch 7/10\n",
      "1530/1530 [==============================] - 16s 11ms/step - loss: 0.3777 - accuracy: 0.8765 - val_loss: 0.3469 - val_accuracy: 0.8593\n",
      "Epoch 8/10\n",
      "1530/1530 [==============================] - 16s 11ms/step - loss: 0.3360 - accuracy: 0.8876 - val_loss: 0.3505 - val_accuracy: 0.8926\n",
      "Epoch 9/10\n",
      "1530/1530 [==============================] - 16s 11ms/step - loss: 0.3602 - accuracy: 0.8948 - val_loss: 0.2914 - val_accuracy: 0.9000\n",
      "Epoch 10/10\n",
      "1530/1530 [==============================] - 17s 11ms/step - loss: 0.2774 - accuracy: 0.9150 - val_loss: 0.4343 - val_accuracy: 0.8519\n"
     ]
    }
   ],
   "source": [
    "history_model2 = model.fit(X_train,y_train,\n",
    "        batch_size = 32,\n",
    "        epochs=10,\n",
    "        validation_data=(X_test,y_test),\n",
    "        verbose=1, shuffle=True)"
   ]
  },
  {
   "cell_type": "code",
   "execution_count": 86,
   "id": "a6629c9c",
   "metadata": {},
   "outputs": [
    {
     "data": {
      "image/png": "[encoded data removed]",
      "text/plain": [
       "<Figure size 640x480 with 1 Axes>"
      ]
     },
     "metadata": {},
     "output_type": "display_data"
    }
   ],
   "source": [
    "\n",
    "plt.figure(1)  \n",
    "# summarize history for accuracy  \n",
    "plt.subplot(211)  \n",
    "plt.plot(history_model2.history['accuracy'])  \n",
    "plt.plot(history_model2.history['val_accuracy'])  \n",
    "plt.title('model accuracy')  \n",
    "plt.ylabel('accuracy')  \n",
    "plt.xlabel('epoch')  \n",
    "plt.legend(['train', 'test'], loc='upper left')  \n",
    "plt.show()"
   ]
  },
  {
   "cell_type": "markdown",
   "id": "9f2ef292",
   "metadata": {},
   "source": [
    "# Filter size test"
   ]
  },
  {
   "cell_type": "code",
   "execution_count": 87,
   "id": "ed26d49f",
   "metadata": {},
   "outputs": [
    {
     "name": "stdout",
     "output_type": "stream",
     "text": [
      "Model: \"sequential_33\"\n",
      "_________________________________________________________________\n",
      "Layer (type)                 Output Shape              Param #   \n",
      "=================================================================\n",
      "conv2d_71 (Conv2D)           (None, 198, 198, 32)      320       \n",
      "_________________________________________________________________\n",
      "max_pooling2d_48 (MaxPooling (None, 49, 49, 32)        0         \n",
      "_________________________________________________________________\n",
      "flatten_31 (Flatten)         (None, 76832)             0         \n",
      "_________________________________________________________________\n",
      "dense_71 (Dense)             (None, 128)               9834624   \n",
      "_________________________________________________________________\n",
      "dropout_43 (Dropout)         (None, 128)               0         \n",
      "_________________________________________________________________\n",
      "dense_72 (Dense)             (None, 6)                 774       \n",
      "=================================================================\n",
      "Total params: 9,835,718\n",
      "Trainable params: 9,835,718\n",
      "Non-trainable params: 0\n",
      "_________________________________________________________________\n",
      "Compiled!\n"
     ]
    }
   ],
   "source": [
    "model = Sequential()\n",
    "model.add(Conv2D(32, (3,3), activation='relu', input_shape=X_train.shape[1:]))\n",
    "model.add(MaxPooling2D(4, 4))\n",
    "model.add(Flatten())\n",
    "model.add(Dense(128))\n",
    "model.add(Dropout(0.2))\n",
    "model.add(Dense(6, activation='softmax'))\n",
    "\n",
    "model.summary()\n",
    "\n",
    "model.compile(loss='categorical_crossentropy',\n",
    "              optimizer='rmsprop',\n",
    "              metrics=['accuracy'])\n",
    "print('Compiled!')"
   ]
  },
  {
   "cell_type": "code",
   "execution_count": 88,
   "id": "351bcbe8",
   "metadata": {
    "scrolled": true
   },
   "outputs": [
    {
     "name": "stdout",
     "output_type": "stream",
     "text": [
      "Train on 1530 samples, validate on 270 samples\n",
      "Epoch 1/10\n",
      "1530/1530 [==============================] - 13s 8ms/step - loss: 8.2055 - accuracy: 0.3771 - val_loss: 1.7608 - val_accuracy: 0.3222\n",
      "Epoch 2/10\n",
      "1530/1530 [==============================] - 17s 11ms/step - loss: 1.0309 - accuracy: 0.6373 - val_loss: 1.2504 - val_accuracy: 0.6074\n",
      "Epoch 3/10\n",
      "1530/1530 [==============================] - 20s 13ms/step - loss: 0.7940 - accuracy: 0.7542 - val_loss: 0.5647 - val_accuracy: 0.8074\n",
      "Epoch 4/10\n",
      "1530/1530 [==============================] - 19s 12ms/step - loss: 0.7036 - accuracy: 0.7712 - val_loss: 0.7698 - val_accuracy: 0.7593\n",
      "Epoch 5/10\n",
      "1530/1530 [==============================] - 18s 12ms/step - loss: 0.8203 - accuracy: 0.8157 - val_loss: 0.3718 - val_accuracy: 0.8852\n",
      "Epoch 6/10\n",
      "1530/1530 [==============================] - 19s 12ms/step - loss: 0.5451 - accuracy: 0.8392 - val_loss: 2.6036 - val_accuracy: 0.3778\n",
      "Epoch 7/10\n",
      "1530/1530 [==============================] - 19s 12ms/step - loss: 0.6850 - accuracy: 0.8333 - val_loss: 0.7015 - val_accuracy: 0.7481\n",
      "Epoch 8/10\n",
      "1530/1530 [==============================] - 19s 12ms/step - loss: 0.5778 - accuracy: 0.8451 - val_loss: 0.4324 - val_accuracy: 0.8370\n",
      "Epoch 9/10\n",
      "1530/1530 [==============================] - 18s 12ms/step - loss: 0.4028 - accuracy: 0.8830 - val_loss: 0.9610 - val_accuracy: 0.6185\n",
      "Epoch 10/10\n",
      "1530/1530 [==============================] - 18s 12ms/step - loss: 0.4689 - accuracy: 0.8745 - val_loss: 0.3712 - val_accuracy: 0.8704\n"
     ]
    }
   ],
   "source": [
    "history_model3 = model.fit(X_train,y_train,\n",
    "        epochs=10,\n",
    "        validation_data=(X_test,y_test),\n",
    "        verbose=1, shuffle=True)"
   ]
  },
  {
   "cell_type": "code",
   "execution_count": 89,
   "id": "a2ba7aff",
   "metadata": {},
   "outputs": [
    {
     "data": {
      "image/png": "[encoded data removed]",
      "text/plain": [
       "<Figure size 640x480 with 1 Axes>"
      ]
     },
     "metadata": {},
     "output_type": "display_data"
    }
   ],
   "source": [
    "\n",
    "plt.figure(1)  \n",
    "# summarize history for accuracy  \n",
    "plt.subplot(211)  \n",
    "plt.plot(history_model3.history['accuracy'])  \n",
    "plt.plot(history_model3.history['val_accuracy'])  \n",
    "plt.title('model accuracy')  \n",
    "plt.ylabel('accuracy')  \n",
    "plt.xlabel('epoch')  \n",
    "plt.legend(['train', 'test'], loc='upper left')  \n",
    "plt.show()"
   ]
  },
  {
   "cell_type": "markdown",
   "id": "4bc80979",
   "metadata": {},
   "source": [
    "# Model with a second convolution layer"
   ]
  },
  {
   "cell_type": "code",
   "execution_count": 95,
   "id": "73e172d0",
   "metadata": {},
   "outputs": [
    {
     "name": "stdout",
     "output_type": "stream",
     "text": [
      "Model: \"sequential_39\"\n",
      "_________________________________________________________________\n",
      "Layer (type)                 Output Shape              Param #   \n",
      "=================================================================\n",
      "conv2d_82 (Conv2D)           (None, 196, 196, 32)      832       \n",
      "_________________________________________________________________\n",
      "max_pooling2d_57 (MaxPooling (None, 98, 98, 32)        0         \n",
      "_________________________________________________________________\n",
      "conv2d_83 (Conv2D)           (None, 96, 96, 32)        9248      \n",
      "_________________________________________________________________\n",
      "max_pooling2d_58 (MaxPooling (None, 48, 48, 32)        0         \n",
      "_________________________________________________________________\n",
      "flatten_37 (Flatten)         (None, 73728)             0         \n",
      "_________________________________________________________________\n",
      "dense_83 (Dense)             (None, 256)               18874624  \n",
      "_________________________________________________________________\n",
      "dropout_49 (Dropout)         (None, 256)               0         \n",
      "_________________________________________________________________\n",
      "dense_84 (Dense)             (None, 6)                 1542      \n",
      "=================================================================\n",
      "Total params: 18,886,246\n",
      "Trainable params: 18,886,246\n",
      "Non-trainable params: 0\n",
      "_________________________________________________________________\n",
      "Compiled!\n"
     ]
    }
   ],
   "source": [
    "model = Sequential()\n",
    "model.add(Conv2D(32, (5,5), activation='relu', input_shape=X_train.shape[1:]))\n",
    "model.add(MaxPooling2D(2, 2))\n",
    "model.add(Conv2D(32, (3,3), activation='relu'))\n",
    "model.add(MaxPooling2D(2, 2))\n",
    "model.add(Flatten())\n",
    "model.add(Dense(256))\n",
    "model.add(Dropout(0.2))\n",
    "model.add(Dense(6, activation='softmax'))\n",
    "\n",
    "model.summary()\n",
    "\n",
    "model.compile(loss='categorical_crossentropy',\n",
    "              optimizer='Adam',\n",
    "              metrics=['accuracy'])\n",
    "print('Compiled!')"
   ]
  },
  {
   "cell_type": "code",
   "execution_count": 96,
   "id": "d23bbb6d",
   "metadata": {},
   "outputs": [
    {
     "name": "stdout",
     "output_type": "stream",
     "text": [
      "Train on 1530 samples, validate on 270 samples\n",
      "Epoch 1/10\n",
      "1530/1530 [==============================] - 37s 24ms/step - loss: 2.0436 - accuracy: 0.4176 - val_loss: 1.0086 - val_accuracy: 0.6370\n",
      "Epoch 2/10\n",
      "1530/1530 [==============================] - 45s 30ms/step - loss: 0.7510 - accuracy: 0.7248 - val_loss: 0.7162 - val_accuracy: 0.6778\n",
      "Epoch 3/10\n",
      "1530/1530 [==============================] - 45s 30ms/step - loss: 0.5813 - accuracy: 0.7967 - val_loss: 0.5086 - val_accuracy: 0.8370\n",
      "Epoch 4/10\n",
      "1530/1530 [==============================] - 45s 29ms/step - loss: 0.4213 - accuracy: 0.8601 - val_loss: 0.3437 - val_accuracy: 0.8667\n",
      "Epoch 5/10\n",
      "1530/1530 [==============================] - 45s 29ms/step - loss: 0.2625 - accuracy: 0.9105 - val_loss: 0.3395 - val_accuracy: 0.8778\n",
      "Epoch 6/10\n",
      "1530/1530 [==============================] - 45s 29ms/step - loss: 0.3866 - accuracy: 0.8719 - val_loss: 0.2924 - val_accuracy: 0.8926\n",
      "Epoch 7/10\n",
      "1530/1530 [==============================] - 45s 30ms/step - loss: 0.1970 - accuracy: 0.9392 - val_loss: 0.3161 - val_accuracy: 0.8667\n",
      "Epoch 8/10\n",
      "1530/1530 [==============================] - 46s 30ms/step - loss: 0.2890 - accuracy: 0.8974 - val_loss: 0.5363 - val_accuracy: 0.8185\n",
      "Epoch 9/10\n",
      "1530/1530 [==============================] - 45s 30ms/step - loss: 0.2030 - accuracy: 0.9379 - val_loss: 0.3017 - val_accuracy: 0.9222\n",
      "Epoch 10/10\n",
      "1530/1530 [==============================] - 45s 30ms/step - loss: 0.1284 - accuracy: 0.9575 - val_loss: 0.2136 - val_accuracy: 0.9259\n"
     ]
    }
   ],
   "source": [
    "history_model4 = model.fit(X_train,y_train,\n",
    "        batch_size = 32,\n",
    "        epochs=10,\n",
    "        validation_data=(X_test,y_test),\n",
    "        verbose=1, shuffle=True)"
   ]
  },
  {
   "cell_type": "code",
   "execution_count": 97,
   "id": "4f4e4e41",
   "metadata": {},
   "outputs": [
    {
     "data": {
      "image/png": "[encoded data removed]",
      "text/plain": [
       "<Figure size 640x480 with 1 Axes>"
      ]
     },
     "metadata": {},
     "output_type": "display_data"
    }
   ],
   "source": [
    "\n",
    "plt.figure(1)  \n",
    "# summarize history for accuracy  \n",
    "plt.subplot(211)  \n",
    "plt.plot(history_model4.history['accuracy'])  \n",
    "plt.plot(history_model4.history['val_accuracy'])  \n",
    "plt.title('model accuracy')  \n",
    "plt.ylabel('accuracy')  \n",
    "plt.xlabel('epoch')  \n",
    "plt.legend(['train', 'test'], loc='upper left')  \n",
    "plt.show()"
   ]
  },
  {
   "cell_type": "code",
   "execution_count": 92,
   "id": "bca12bb5",
   "metadata": {},
   "outputs": [
    {
     "name": "stdout",
     "output_type": "stream",
     "text": [
      "Model: \"sequential_36\"\n",
      "_________________________________________________________________\n",
      "Layer (type)                 Output Shape              Param #   \n",
      "=================================================================\n",
      "conv2d_76 (Conv2D)           (None, 196, 196, 32)      832       \n",
      "_________________________________________________________________\n",
      "conv2d_77 (Conv2D)           (None, 194, 194, 32)      9248      \n",
      "_________________________________________________________________\n",
      "max_pooling2d_52 (MaxPooling (None, 97, 97, 32)        0         \n",
      "_________________________________________________________________\n",
      "flatten_34 (Flatten)         (None, 301088)            0         \n",
      "_________________________________________________________________\n",
      "dense_77 (Dense)             (None, 128)               38539392  \n",
      "_________________________________________________________________\n",
      "dropout_46 (Dropout)         (None, 128)               0         \n",
      "_________________________________________________________________\n",
      "dense_78 (Dense)             (None, 6)                 774       \n",
      "=================================================================\n",
      "Total params: 38,550,246\n",
      "Trainable params: 38,550,246\n",
      "Non-trainable params: 0\n",
      "_________________________________________________________________\n",
      "Compiled!\n"
     ]
    }
   ],
   "source": [
    "model = Sequential()\n",
    "model.add(Conv2D(32, (5,5), activation='relu', input_shape=X_train.shape[1:]))\n",
    "\n",
    "model.add(Conv2D(32, (3,3), activation='relu'))\n",
    "model.add(MaxPooling2D(2, 2))\n",
    "model.add(Flatten())\n",
    "model.add(Dense(128))\n",
    "model.add(Dropout(0.2))\n",
    "model.add(Dense(6, activation='softmax'))\n",
    "\n",
    "model.summary()\n",
    "\n",
    "model.compile(loss='categorical_crossentropy',\n",
    "              optimizer='Adam',\n",
    "              metrics=['accuracy'])\n",
    "print('Compiled!')"
   ]
  },
  {
   "cell_type": "code",
   "execution_count": 60,
   "id": "bfb273c6",
   "metadata": {},
   "outputs": [
    {
     "name": "stdout",
     "output_type": "stream",
     "text": [
      "Train on 1530 samples, validate on 270 samples\n",
      "Epoch 1/10\n",
      "1530/1530 [==============================] - 99s 64ms/step - loss: 1043.0216 - accuracy: 0.2810 - val_loss: 1.5897 - val_accuracy: 0.3407\n",
      "Epoch 2/10\n",
      "1530/1530 [==============================] - 109s 71ms/step - loss: 1.3138 - accuracy: 0.5137 - val_loss: 1.6127 - val_accuracy: 0.3852\n",
      "Epoch 3/10\n",
      "1530/1530 [==============================] - 108s 71ms/step - loss: 0.9942 - accuracy: 0.6608 - val_loss: 1.7602 - val_accuracy: 0.4185\n",
      "Epoch 4/10\n",
      "1530/1530 [==============================] - 104s 68ms/step - loss: 0.8038 - accuracy: 0.7307 - val_loss: 1.7500 - val_accuracy: 0.4778\n",
      "Epoch 5/10\n",
      "1530/1530 [==============================] - 94s 62ms/step - loss: 0.8344 - accuracy: 0.7333 - val_loss: 2.0270 - val_accuracy: 0.4296\n",
      "Epoch 6/10\n",
      "1530/1530 [==============================] - 99s 65ms/step - loss: 0.8891 - accuracy: 0.6732 - val_loss: 2.0661 - val_accuracy: 0.3630\n",
      "Epoch 7/10\n",
      "1530/1530 [==============================] - 98s 64ms/step - loss: 0.8701 - accuracy: 0.6529 - val_loss: 3.4012 - val_accuracy: 0.4185\n",
      "Epoch 8/10\n",
      "1530/1530 [==============================] - 96s 63ms/step - loss: 0.8635 - accuracy: 0.6922 - val_loss: 2.6748 - val_accuracy: 0.3296\n",
      "Epoch 9/10\n",
      "1530/1530 [==============================] - 93s 61ms/step - loss: 0.8351 - accuracy: 0.6876 - val_loss: 3.4489 - val_accuracy: 0.4111\n",
      "Epoch 10/10\n",
      "1530/1530 [==============================] - 103s 67ms/step - loss: 0.8183 - accuracy: 0.7046 - val_loss: 2.4188 - val_accuracy: 0.2926\n"
     ]
    }
   ],
   "source": [
    "history_model4 = model.fit(X_train,y_train,\n",
    "        batch_size = 32,\n",
    "        epochs=10,\n",
    "        validation_data=(X_test,y_test),\n",
    "        verbose=1, shuffle=True)"
   ]
  },
  {
   "cell_type": "markdown",
   "id": "7bb7db28",
   "metadata": {},
   "source": [
    "# same as above save for a bigger pooling layer"
   ]
  },
  {
   "cell_type": "code",
   "execution_count": 68,
   "id": "a456a6af",
   "metadata": {},
   "outputs": [
    {
     "name": "stdout",
     "output_type": "stream",
     "text": [
      "Model: \"sequential_29\"\n",
      "_________________________________________________________________\n",
      "Layer (type)                 Output Shape              Param #   \n",
      "=================================================================\n",
      "conv2d_65 (Conv2D)           (None, 196, 196, 32)      832       \n",
      "_________________________________________________________________\n",
      "conv2d_66 (Conv2D)           (None, 194, 194, 64)      18496     \n",
      "_________________________________________________________________\n",
      "max_pooling2d_43 (MaxPooling (None, 97, 97, 64)        0         \n",
      "_________________________________________________________________\n",
      "conv2d_67 (Conv2D)           (None, 95, 95, 128)       73856     \n",
      "_________________________________________________________________\n",
      "max_pooling2d_44 (MaxPooling (None, 31, 31, 128)       0         \n",
      "_________________________________________________________________\n",
      "flatten_27 (Flatten)         (None, 123008)            0         \n",
      "_________________________________________________________________\n",
      "dense_63 (Dense)             (None, 256)               31490304  \n",
      "_________________________________________________________________\n",
      "dropout_39 (Dropout)         (None, 256)               0         \n",
      "_________________________________________________________________\n",
      "dense_64 (Dense)             (None, 6)                 1542      \n",
      "=================================================================\n",
      "Total params: 31,585,030\n",
      "Trainable params: 31,585,030\n",
      "Non-trainable params: 0\n",
      "_________________________________________________________________\n",
      "Compiled!\n"
     ]
    }
   ],
   "source": [
    "model = Sequential()\n",
    "model.add(Conv2D(32, (5,5), activation='relu', input_shape=X_train.shape[1:]))\n",
    "model.add(Conv2D(64, (3,3), activation='relu'))\n",
    "model.add(MaxPooling2D(2, 2))\n",
    "model.add(Conv2D(128, (3,3), activation='relu'))\n",
    "model.add(MaxPooling2D(3, 3))\n",
    "model.add(Flatten())\n",
    "model.add(Dense(256))\n",
    "model.add(Dropout(0.2))\n",
    "\n",
    "model.add(Dense(6, activation='softmax'))\n",
    "\n",
    "model.summary()\n",
    "\n",
    "model.compile(loss='categorical_crossentropy',\n",
    "              optimizer='Adam',\n",
    "              metrics=['accuracy'])\n",
    "print('Compiled!')"
   ]
  },
  {
   "cell_type": "code",
   "execution_count": 69,
   "id": "e4ca9927",
   "metadata": {},
   "outputs": [
    {
     "name": "stdout",
     "output_type": "stream",
     "text": [
      "Train on 1530 samples, validate on 270 samples\n",
      "Epoch 1/10\n",
      "1530/1530 [==============================] - 168s 110ms/step - loss: 240.3559 - accuracy: 0.2915 - val_loss: 1.5169 - val_accuracy: 0.3852\n",
      "Epoch 2/10\n",
      "1530/1530 [==============================] - 178s 116ms/step - loss: 1.4530 - accuracy: 0.4222 - val_loss: 1.5237 - val_accuracy: 0.3889\n",
      "Epoch 3/10\n",
      "1530/1530 [==============================] - 178s 116ms/step - loss: 1.3504 - accuracy: 0.5085 - val_loss: 1.4808 - val_accuracy: 0.4704\n",
      "Epoch 4/10\n",
      "1530/1530 [==============================] - 178s 116ms/step - loss: 1.1476 - accuracy: 0.5993 - val_loss: 1.6224 - val_accuracy: 0.5481\n",
      "Epoch 5/10\n",
      "1530/1530 [==============================] - 176s 115ms/step - loss: 1.0110 - accuracy: 0.6614 - val_loss: 1.6852 - val_accuracy: 0.5296\n",
      "Epoch 6/10\n",
      "1530/1530 [==============================] - 172s 113ms/step - loss: 0.8417 - accuracy: 0.6948 - val_loss: 1.6987 - val_accuracy: 0.3407\n",
      "Epoch 7/10\n",
      "1530/1530 [==============================] - 174s 113ms/step - loss: 0.7584 - accuracy: 0.7340 - val_loss: 1.8782 - val_accuracy: 0.5630\n",
      "Epoch 8/10\n",
      "1530/1530 [==============================] - 190s 124ms/step - loss: 0.6949 - accuracy: 0.7647 - val_loss: 1.6820 - val_accuracy: 0.5556\n",
      "Epoch 9/10\n",
      "1530/1530 [==============================] - 181s 118ms/step - loss: 0.5256 - accuracy: 0.8157 - val_loss: 1.9129 - val_accuracy: 0.5593\n",
      "Epoch 10/10\n",
      "1530/1530 [==============================] - 177s 115ms/step - loss: 0.5544 - accuracy: 0.8033 - val_loss: 3.2159 - val_accuracy: 0.5519\n"
     ]
    }
   ],
   "source": [
    "history_model5 = model.fit(X_train,y_train,\n",
    "        batch_size = 32,\n",
    "        epochs=10,\n",
    "        validation_data=(X_test,y_test),\n",
    "        verbose=1, shuffle=True)"
   ]
  },
  {
   "cell_type": "code",
   "execution_count": 70,
   "id": "7cb84daa",
   "metadata": {},
   "outputs": [
    {
     "data": {
      "image/png": "[encoded data removed]",
      "text/plain": [
       "<Figure size 640x480 with 1 Axes>"
      ]
     },
     "metadata": {},
     "output_type": "display_data"
    }
   ],
   "source": [
    "plt.figure(1)  \n",
    "# summarize history for accuracy  \n",
    "plt.subplot(211)  \n",
    "plt.plot(history_model5.history['accuracy'])  \n",
    "plt.plot(history_model5.history['val_accuracy'])  \n",
    "plt.title('model accuracy')  \n",
    "plt.ylabel('accuracy')  \n",
    "plt.xlabel('epoch')  \n",
    "plt.legend(['train', 'test'], loc='upper left')  \n",
    "plt.show()"
   ]
  }
 ],
 "metadata": {
  "kernelspec": {
   "display_name": "Python 3 (ipykernel)",
   "language": "python",
   "name": "python3"
  },
  "language_info": {
   "codemirror_mode": {
    "name": "ipython",
    "version": 3
   },
   "file_extension": ".py",
   "mimetype": "text/x-python",
   "name": "python",
   "nbconvert_exporter": "python",
   "pygments_lexer": "ipython3",
   "version": "3.7.13"
  }
 },
 "nbformat": 4,
 "nbformat_minor": 5
}
