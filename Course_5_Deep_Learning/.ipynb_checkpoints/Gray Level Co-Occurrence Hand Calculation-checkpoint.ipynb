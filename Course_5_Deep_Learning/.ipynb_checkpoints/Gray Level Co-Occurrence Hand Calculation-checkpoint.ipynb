{
 "cells": [
  {
   "cell_type": "markdown",
   "id": "561592b8",
   "metadata": {},
   "source": [
    "This notebook is for me to work through the GLCM algorithm which will be used to construct the baseline classifier to which my neural network will be compared."
   ]
  },
  {
   "cell_type": "code",
   "execution_count": 1,
   "id": "20fa2282",
   "metadata": {},
   "outputs": [],
   "source": [
    "import numpy as np"
   ]
  },
  {
   "cell_type": "code",
   "execution_count": 2,
   "id": "cbd4e866",
   "metadata": {},
   "outputs": [
    {
     "data": {
      "text/plain": [
       "array([[0, 1, 2, 3],\n",
       "       [1, 1, 2, 3],\n",
       "       [1, 0, 2, 0],\n",
       "       [0, 0, 0, 3]])"
      ]
     },
     "execution_count": 2,
     "metadata": {},
     "output_type": "execute_result"
    }
   ],
   "source": [
    "#example from the mathworks page\n",
    "GLCM = np.array([[0,1,2,3],[1,1,2,3],[1,0,2,0],[0,0,0,3]])\n",
    "GLCM"
   ]
  },
  {
   "cell_type": "code",
   "execution_count": 3,
   "id": "66d46c35",
   "metadata": {},
   "outputs": [],
   "source": [
    "#np brush up\n",
    "\n",
    "elw = GLCM*GLCM #elementwise multiplication\n",
    "mmul = np.dot(GLCM,GLCM) #matrix multiplication\n",
    "\n"
   ]
  },
  {
   "attachments": {
    "MATHWORKS_GLCM_Example.png": {
     "image/png": "[encoded data removed]"
    }
   },
   "cell_type": "markdown",
   "id": "a09b5890",
   "metadata": {},
   "source": [
    "The goal of this notebook it to reproduce the mathworks calculation from the above GLCM.\n",
    "\n",
    "https://www.mathworks.com/help/images/ref/graycoprops.html\n",
    "\n",
    "![MATHWORKS_GLCM_Example.png](attachment:MATHWORKS_GLCM_Example.png)"
   ]
  },
  {
   "cell_type": "code",
   "execution_count": 4,
   "id": "96a44597",
   "metadata": {},
   "outputs": [],
   "source": [
    "#note that the GLCM method normalized the GLCM matrix so that the sum of it's elements = 1.0\n",
    "GLCM = GLCM/np.sum(GLCM)"
   ]
  },
  {
   "cell_type": "code",
   "execution_count": 17,
   "id": "751bddf6",
   "metadata": {},
   "outputs": [],
   "source": [
    "def energy(GLCM):\n",
    "    return np.sum(np.square(GLCM))\n",
    "\n",
    "def contrast(GLCM):\n",
    "    \n",
    "    array=np.array([])\n",
    "    \n",
    "    for i, row in enumerate(GLCM):\n",
    "        for j, p in enumerate(row):\n",
    "            array=np.append(array,(i-j)**2*p)\n",
    "               \n",
    "    return np.sum(array)            \n",
    "\n",
    "def homogeneity(GLCM):\n",
    "    array=np.array([])\n",
    "    \n",
    "    for i, row in enumerate(GLCM):\n",
    "        for j, p in enumerate(row):\n",
    "            array=np.append(array,p/(1+abs(i-j)))\n",
    "               \n",
    "    return np.sum(array)   \n",
    "\n",
    "def correlation(GLCM):\n",
    "    row, col = GLCM.shape\n",
    "    \n",
    "    row_vals = np.linspace(0, row, row)\n",
    "    "
   ]
  },
  {
   "cell_type": "code",
   "execution_count": 18,
   "id": "29c62fc2",
   "metadata": {},
   "outputs": [
    {
     "data": {
      "text/plain": [
       "0.5657894736842105"
      ]
     },
     "execution_count": 18,
     "metadata": {},
     "output_type": "execute_result"
    }
   ],
   "source": [
    "energy = energy(GLCM)\n",
    "contrast = contrast(GLCM)\n",
    "homogeneity(GLCM)"
   ]
  },
  {
   "cell_type": "code",
   "execution_count": 14,
   "id": "238f5f94",
   "metadata": {},
   "outputs": [
    {
     "data": {
      "text/plain": [
       "array([[0.        , 0.05263158, 0.10526316, 0.15789474],\n",
       "       [0.05263158, 0.05263158, 0.10526316, 0.15789474],\n",
       "       [0.05263158, 0.        , 0.10526316, 0.        ],\n",
       "       [0.        , 0.        , 0.        , 0.15789474]])"
      ]
     },
     "execution_count": 14,
     "metadata": {},
     "output_type": "execute_result"
    }
   ],
   "source": [
    "GLCM        "
   ]
  },
  {
   "cell_type": "code",
   "execution_count": 8,
   "id": "8f135845",
   "metadata": {},
   "outputs": [],
   "source": [
    "array=np.array([])\n",
    "for i,row in enumerate(GLCM):\n",
    "    for j, p in enumerate(row):\n",
    "        np.append(array,((i-j)**2*p))"
   ]
  },
  {
   "cell_type": "code",
   "execution_count": 9,
   "id": "a1b89975",
   "metadata": {},
   "outputs": [
    {
     "data": {
      "text/plain": [
       "array([0.        , 0.05263158, 0.10526316, 0.15789474])"
      ]
     },
     "execution_count": 9,
     "metadata": {},
     "output_type": "execute_result"
    }
   ],
   "source": [
    "GLCM[0,:]"
   ]
  },
  {
   "cell_type": "code",
   "execution_count": 10,
   "id": "3b18af33",
   "metadata": {},
   "outputs": [
    {
     "data": {
      "text/plain": [
       "array([0.        , 0.05263158, 0.10526316, 0.15789474, 0.05263158,\n",
       "       0.05263158, 0.10526316, 0.15789474, 0.05263158, 0.        ,\n",
       "       0.10526316, 0.        , 0.        , 0.        , 0.        ,\n",
       "       0.15789474])"
      ]
     },
     "execution_count": 10,
     "metadata": {},
     "output_type": "execute_result"
    }
   ],
   "source": [
    "GLCM.ravel()np.linspace(0, row, row)"
   ]
  }
 ],
 "metadata": {
  "kernelspec": {
   "display_name": "Python 3 (ipykernel)",
   "language": "python",
   "name": "python3"
  },
  "language_info": {
   "codemirror_mode": {
    "name": "ipython",
    "version": 3
   },
   "file_extension": ".py",
   "mimetype": "text/x-python",
   "name": "python",
   "nbconvert_exporter": "python",
   "pygments_lexer": "ipython3",
   "version": "3.7.13"
  }
 },
 "nbformat": 4,
 "nbformat_minor": 5
}
