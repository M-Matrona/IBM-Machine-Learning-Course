{
 "cells": [
  {
   "cell_type": "code",
   "execution_count": 1,
   "id": "df297a89",
   "metadata": {},
   "outputs": [],
   "source": [
    "import os\n",
    "import cv2\n",
    "import numpy as np\n",
    "from PIL import Image\n",
    "from collections import Counter\n",
    "from sklearn.model_selection import train_test_split\n",
    "import matplotlib.pyplot as plt\n",
    "import pandas as pd\n",
    "from sklearn.metrics import confusion_matrix\n",
    "from sklearn.metrics import ConfusionMatrixDisplay, accuracy_score\n",
    "from sklearn.preprocessing import OneHotEncoder\n",
    "#from skimage.feature import greycomatrix,greycoprops"
   ]
  },
  {
   "cell_type": "code",
   "execution_count": 2,
   "id": "e6114ea3",
   "metadata": {},
   "outputs": [],
   "source": [
    "data_path = r'C:\\Users\\mmatr\\Desktop\\Learning Data Science\\IBM Machine Learning\\Git\\IBM-Machine-Learning-Course\\Course_5_Deep_Learning\\NEU Metal Surface Defects Data'\n",
    "os.chdir(data_path)\n"
   ]
  },
  {
   "cell_type": "code",
   "execution_count": null,
   "id": "d2455ac1",
   "metadata": {},
   "outputs": [],
   "source": [
    "#code to acquaint with cv2. from tutorial on geeksforgeeks\n",
    "\n",
    "# # path\n",
    "# path = data_path + r'\\test\\Crazing\\Cr_1.bmp'\n",
    "  \n",
    "# # Reading an image in grayscale mode\n",
    "# image = cv2.imread(path, 0)\n",
    "  \n",
    "# # Window name in which image is displayed\n",
    "# window_name = 'image'\n",
    "  \n",
    "# # Using cv2.imshow() method\n",
    "# # Displaying the image\n",
    "# cv2.imshow(window_name, image)\n",
    "  \n",
    "# # waits for user to press any key\n",
    "# # (this is necessary to avoid Python kernel form crashing)\n",
    "# cv2.waitKey(0)\n",
    "  \n",
    "# # closing all open windows\n",
    "# cv2.destroyAllWindows()"
   ]
  },
  {
   "cell_type": "markdown",
   "id": "831f6e3c",
   "metadata": {},
   "source": [
    "I anticipate reuse of the following function to use the Train/Test/Validation Splits provided in the dataset.\n",
    "However, as these splits are unbalanced (1656/72/72),constructing a larger test set may be appropriate.\n",
    "\n",
    "\n",
    "I will proceed by loading all of the data into a single dataset and using a 15% test train split.\n"
   ]
  },
  {
   "cell_type": "code",
   "execution_count": null,
   "id": "4f36467e",
   "metadata": {},
   "outputs": [],
   "source": [
    "def mse(a,b):\n",
    "    \"\"\"function to compute the mean square error between two numpy arrays\"\"\"\n",
    "    return np.square(a-b).mean()"
   ]
  },
  {
   "cell_type": "code",
   "execution_count": null,
   "id": "830b9424",
   "metadata": {},
   "outputs": [],
   "source": [
    "def load_images(data_path):\n",
    "    \"\"\"Function to load images from NEU Dataset\"\"\"\n",
    "\n",
    "    images=[] \n",
    "    labels=[] \n",
    "\n",
    "    for dirpath, dirnames, filenames in os.walk(data_path):\n",
    "        for filename in filenames:\n",
    "            defect=dirpath.split('\\\\')[-1] \n",
    "            if '.bmp' in filename:\n",
    "                images.append(cv2.imread(os.path.join(dirpath,filename),0))\n",
    "                labels.append(defect)\n",
    "\n",
    "    images=np.asarray(images)\n",
    "    labels=np.asarray(labels)\n",
    "\n",
    "    return images, labels"
   ]
  },
  {
   "cell_type": "code",
   "execution_count": null,
   "id": "981d923f",
   "metadata": {},
   "outputs": [],
   "source": [
    "#load the data.\n",
    "data, labels = load_images(data_path)\n",
    "\n",
    "# train_images, train_labels = load_images(data_path + r'\\train')\n",
    "# val_images, val_labels = load_images(data_path + r'\\valid')\n",
    "# test_images, test_labels = load_images(data_path + r'\\test')"
   ]
  },
  {
   "cell_type": "code",
   "execution_count": null,
   "id": "96e95ffb",
   "metadata": {},
   "outputs": [],
   "source": [
    "#ensure labels came in correctly \n",
    "Counter(labels)\n"
   ]
  },
  {
   "cell_type": "markdown",
   "id": "248af61b",
   "metadata": {},
   "source": [
    "Gray Scale intensities range from 0-255. \n",
    "\n",
    "The baseline classifier for this project is simply a comparison of contrast distribution in each image.  The normalized pixel intensity for each class will be calculated and displayed on a connected scatter plot.  Then, the mean square error (MSE) of each individual image will be computed with respect to the normalized intensities for each class.  The class the yields the lowest MSE will be the prediction for that image. \n",
    "\n",
    "Limitation of this method include:\n",
    "\n",
    "Image quality. Even among images in the same class, background intensities vary significantly.  Also, I am using the whole dataset to \"train\" this model, meaning every image I attempt to classify has already been seen.  "
   ]
  },
  {
   "cell_type": "code",
   "execution_count": null,
   "id": "9a9e7f03",
   "metadata": {},
   "outputs": [],
   "source": [
    "fig, axs = plt.subplots(3, 2, figsize=(10,7))\n",
    "plt.subplots_adjust(hspace=0.5)\n",
    "fig.suptitle(\"Normalized Gray Level Intensity Distribution by Class\", fontsize=12, y=0.95)\n",
    "\n",
    "hists=[]\n",
    "for i, (case,ax) in enumerate(zip(np.unique(labels), axs.ravel())):\n",
    "    #print(case)\n",
    "    hist=np.zeros((256,1))\n",
    "\n",
    "    cr = labels[labels==case]\n",
    "    crd = data[labels==case]\n",
    "\n",
    "    for image in crd:\n",
    "        hist += cv2.calcHist([image],[0],None,[256],[0,256])\n",
    "        \n",
    "    hist=hist[3:-3]    \n",
    "\n",
    "    ax.plot(hist/max(hist))\n",
    "    ax.set_title(str(i) + \" - \" + case)\n",
    "    hists.append(hist/max(hist))\n",
    "    \n",
    "correct=0\n",
    "count=0\n",
    "true=[]\n",
    "prediction=[]\n",
    "for i,case in enumerate(np.unique(labels)):\n",
    "\n",
    "    cr = labels[labels==case]\n",
    "    crd = data[labels==case]\n",
    "    \n",
    "\n",
    "    for image in crd:\n",
    "        hist = cv2.calcHist([image],[0],None,[256],[0,256])\n",
    "        hist = hist[3:-3]\n",
    "        histn=hist/max(hist)\n",
    "        \n",
    "        msarray=np.array([mse(histn.ravel(), histavg.ravel()) for histavg in hists])\n",
    "        \n",
    "        pred=np.argmin(msarray)\n",
    "                \n",
    "\n",
    "        if pred == i:\n",
    "            correct+=1\n",
    "\n",
    "        true.append(i)\n",
    "        prediction.append(pred)\n",
    "\n",
    "\n",
    "    \n",
    "conmat = confusion_matrix(true,prediction)\n",
    "disp = ConfusionMatrixDisplay(conmat)\n",
    "disp.plot()\n",
    "plt.show()\n",
    "\n",
    "print(\"number of correct predictions = \", correct)\n",
    "print(\"total samples = \", len(data))\n",
    "print(\"accuracy = \", accuracy_score(true,prediction))"
   ]
  },
  {
   "cell_type": "markdown",
   "id": "e06568fc",
   "metadata": {},
   "source": [
    "The following cell uses a train test split so that the predictor has new data to be tested against"
   ]
  },
  {
   "cell_type": "code",
   "execution_count": null,
   "id": "995edd70",
   "metadata": {},
   "outputs": [],
   "source": [
    " X_train, X_test, y_train, y_test = train_test_split(data, labels, test_size=0.33,random_state=42)"
   ]
  },
  {
   "cell_type": "code",
   "execution_count": null,
   "id": "6a7339d4",
   "metadata": {},
   "outputs": [],
   "source": [
    "hists=[]\n",
    "for i, (case,ax) in enumerate(zip(np.unique(labels), axs.ravel())):\n",
    "    #print(case)\n",
    "    hist=np.zeros((256,1))\n",
    "\n",
    "    cr = y_train[y_train==case]\n",
    "    crd = X_train[y_train==case]\n",
    "\n",
    "    for image in crd:\n",
    "        hist += cv2.calcHist([image],[0],None,[256],[0,256])\n",
    "\n",
    "    hist=hist[3:-3]    \n",
    "\n",
    "    hists.append(hist/max(hist))\n",
    "\n",
    "correct=0\n",
    "count=0\n",
    "true=[]\n",
    "prediction=[]\n",
    "for i,case in enumerate(np.unique(labels)):\n",
    "\n",
    "    cr = y_test[y_test==case]\n",
    "    crd = X_test[y_test==case]\n",
    "\n",
    "\n",
    "    for image in crd:\n",
    "        hist = cv2.calcHist([image],[0],None,[256],[0,256])\n",
    "        hist = hist[3:-3]\n",
    "        histn=hist/max(hist)\n",
    "\n",
    "        msarray=np.array([mse(histn.ravel(), histavg.ravel()) for histavg in hists])\n",
    "\n",
    "        pred=np.argmin(msarray)\n",
    "\n",
    "\n",
    "        if pred == i:\n",
    "            correct+=1\n",
    "\n",
    "        true.append(i)\n",
    "        prediction.append(pred)\n",
    "        \n",
    "print(\"number of correct predictions = \", correct)\n",
    "print(\"total samples = \", len(y_test))\n",
    "print(\"accuracy = \", accuracy_score(true,prediction))\n"
   ]
  },
  {
   "cell_type": "code",
   "execution_count": null,
   "id": "cf16e7bd",
   "metadata": {},
   "outputs": [],
   "source": [
    "#running the same experiment 500 times to see the accuracy distribution. \n",
    "\n",
    "# This code is commented out because it takes a while to run and was purely for my own curiosity. \n",
    "\n",
    "# accuracy=[]\n",
    "\n",
    "\n",
    "# for jj in range(500):\n",
    "#     X_train, X_test, y_train, y_test = train_test_split(data, labels, test_size=0.33)\n",
    "#     hists=[]\n",
    "#     for i, (case,ax) in enumerate(zip(np.unique(labels), axs.ravel())):\n",
    "#         #print(case)\n",
    "#         hist=np.zeros((256,1))\n",
    "\n",
    "#         cr = y_train[y_train==case]\n",
    "#         crd = X_train[y_train==case]\n",
    "\n",
    "#         for image in crd:\n",
    "#             hist += cv2.calcHist([image],[0],None,[256],[0,256])\n",
    "\n",
    "#         hist=hist[3:-3]    \n",
    "\n",
    "#         hists.append(hist/max(hist))\n",
    "\n",
    "#     correct=0\n",
    "#     count=0\n",
    "#     true=[]\n",
    "#     prediction=[]\n",
    "#     for i,case in enumerate(np.unique(labels)):\n",
    "\n",
    "#         cr = y_test[y_test==case]\n",
    "#         crd = X_test[y_test==case]\n",
    "\n",
    "\n",
    "#         for image in crd:\n",
    "#             hist = cv2.calcHist([image],[0],None,[256],[0,256])\n",
    "#             hist = hist[3:-3]\n",
    "#             histn=hist/max(hist)\n",
    "\n",
    "#             msarray=np.array([mse(histn.ravel(), histavg.ravel()) for histavg in hists])\n",
    "\n",
    "#             pred=np.argmin(msarray)\n",
    "\n",
    "\n",
    "#             if pred == i:\n",
    "#                 correct+=1\n",
    "\n",
    "#             true.append(i)\n",
    "#             prediction.append(pred)\n",
    "\n",
    "\n",
    "\n",
    "\n",
    "#     accuracy.append(accuracy_score(true,prediction))\n",
    "\n",
    "# plt.hist(accuracy)\n",
    "# plt.xlabel('Accuracy')\n",
    "# plt.ylabel('Instances')\n",
    "# plt.title('500 Trials')\n",
    "# plt.show()\n"
   ]
  },
  {
   "attachments": {
    "Accuracy_Distribution_Only_Contrast_Considered.png": {
     "image/png": "[encoded data removed]"
    }
   },
   "cell_type": "markdown",
   "id": "cee5d59b",
   "metadata": {},
   "source": [
    "The results from the above cell are shown here:\n",
    "\n",
    "\n",
    "![Accuracy_Distribution_Only_Contrast_Considered.png](attachment:Accuracy_Distribution_Only_Contrast_Considered.png)"
   ]
  },
  {
   "cell_type": "markdown",
   "id": "ff5efc26",
   "metadata": {},
   "source": [
    "# Begin Neural Network Model"
   ]
  },
  {
   "cell_type": "code",
   "execution_count": null,
   "id": "756a6eb3",
   "metadata": {
    "scrolled": false
   },
   "outputs": [],
   "source": [
    "import keras\n",
    "\n",
    "#from tensorflow.keras.preprocessing.image import ImageDataGenerator\n",
    "#from tensorflow.keras.models import Sequential\n",
    "#from tensorflow.keras.layers import Dense, Dropout, Activation, Flatten\n",
    "#from tensorflow.keras.layers import Conv2D, MaxPooling2D\n",
    "\n",
    "from keras.preprocessing.image import ImageDataGenerator\n",
    "from keras.models import Sequential\n",
    "from keras.layers import Dense, Dropout, Activation, Flatten\n",
    "from keras.layers import Conv2D, MaxPooling2D\n",
    "import matplotlib.pyplot as plt\n"
   ]
  },
  {
   "cell_type": "code",
   "execution_count": null,
   "id": "e08d0f18",
   "metadata": {},
   "outputs": [],
   "source": [
    "X_train, X_test, y_train, y_test = train_test_split(data, labels, test_size=0.33)"
   ]
  },
  {
   "cell_type": "code",
   "execution_count": null,
   "id": "7fa2ba20",
   "metadata": {
    "scrolled": false
   },
   "outputs": [],
   "source": [
    "y_train = keras.utils.to_categorical(le.fit_transform(y_test), 6)\n",
    "#y_test = keras.utils.to_categorical(y_test, 6)"
   ]
  },
  {
   "cell_type": "code",
   "execution_count": null,
   "id": "5949ce1e",
   "metadata": {},
   "outputs": [],
   "source": [
    "y_train\n"
   ]
  },
  {
   "cell_type": "code",
   "execution_count": null,
   "id": "c5682eb7",
   "metadata": {},
   "outputs": [],
   "source": [
    "oh = OneHotEncoder()\n",
    "oh.fit_transform(y_train.reshape(-1,1))"
   ]
  },
  {
   "cell_type": "code",
   "execution_count": null,
   "id": "55f28d98",
   "metadata": {},
   "outputs": [],
   "source": [
    "from sklearn.preprocessing import LabelEncoder"
   ]
  },
  {
   "cell_type": "code",
   "execution_count": null,
   "id": "3dd712ff",
   "metadata": {},
   "outputs": [],
   "source": [
    "le = LabelEncoder()"
   ]
  },
  {
   "cell_type": "code",
   "execution_count": null,
   "id": "99ed9a43",
   "metadata": {},
   "outputs": [],
   "source": [
    "le.fit_transform(y_test)"
   ]
  }
 ],
 "metadata": {
  "kernelspec": {
   "display_name": "Python 3 (ipykernel)",
   "language": "python",
   "name": "python3"
  },
  "language_info": {
   "codemirror_mode": {
    "name": "ipython",
    "version": 3
   },
   "file_extension": ".py",
   "mimetype": "text/x-python",
   "name": "python",
   "nbconvert_exporter": "python",
   "pygments_lexer": "ipython3",
   "version": "3.7.13"
  }
 },
 "nbformat": 4,
 "nbformat_minor": 5
}
