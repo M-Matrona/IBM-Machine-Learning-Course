{
 "cells": [
  {
   "cell_type": "code",
   "execution_count": 1,
   "id": "df297a89",
   "metadata": {},
   "outputs": [
    {
     "name": "stderr",
     "output_type": "stream",
     "text": [
      "Using TensorFlow backend.\n"
     ]
    }
   ],
   "source": [
    "import os\n",
    "import cv2\n",
    "import numpy as np\n",
    "from PIL import Image\n",
    "from collections import Counter\n",
    "from sklearn.model_selection import train_test_split\n",
    "import matplotlib.pyplot as plt\n",
    "import pandas as pd\n",
    "from sklearn.metrics import confusion_matrix\n",
    "from sklearn.metrics import ConfusionMatrixDisplay, accuracy_score\n",
    "from sklearn.preprocessing import OneHotEncoder\n",
    "#from skimage.feature import greycomatrix,greycoprops\n",
    "import keras\n",
    "\n",
    "#from tensorflow.keras.preprocessing.image import ImageDataGenerator\n",
    "#from tensorflow.keras.models import Sequential\n",
    "#from tensorflow.keras.layers import Dense, Dropout, Activation, Flatten\n",
    "#from tensorflow.keras.layers import Conv2D, MaxPooling2D\n",
    "\n",
    "from keras.preprocessing.image import ImageDataGenerator\n",
    "from keras.models import Sequential\n",
    "from keras.layers import Dense, Dropout, Activation, Flatten\n",
    "from keras.layers import Conv2D, MaxPooling2D\n",
    "from sklearn.preprocessing import LabelEncoder"
   ]
  },
  {
   "cell_type": "code",
   "execution_count": 2,
   "id": "e6114ea3",
   "metadata": {},
   "outputs": [],
   "source": [
    "data_path = r'C:\\Users\\mmatr\\Desktop\\Learning Data Science\\IBM Machine Learning\\Git\\IBM-Machine-Learning-Course\\Course_5_Deep_Learning\\NEU Metal Surface Defects Data'\n",
    "os.chdir(data_path)\n"
   ]
  },
  {
   "cell_type": "code",
   "execution_count": 3,
   "id": "830b9424",
   "metadata": {},
   "outputs": [],
   "source": [
    "def mse(a,b):\n",
    "    \"\"\"function to compute the mean square error between two numpy arrays\"\"\"\n",
    "    return np.square(a-b).mean()\n",
    "\n",
    "def load_images(data_path):\n",
    "    \"\"\"Function to load images from NEU Dataset\"\"\"\n",
    "\n",
    "    images=[] \n",
    "    labels=[] \n",
    "\n",
    "    for dirpath, dirnames, filenames in os.walk(data_path):\n",
    "        for filename in filenames:\n",
    "            defect=dirpath.split('\\\\')[-1] \n",
    "            if '.bmp' in filename:\n",
    "                images.append(cv2.imread(os.path.join(dirpath,filename),0))\n",
    "                labels.append(defect)\n",
    "\n",
    "    images=np.asarray(images)\n",
    "    labels=np.asarray(labels)\n",
    "\n",
    "    return images, labels"
   ]
  },
  {
   "cell_type": "code",
   "execution_count": 4,
   "id": "981d923f",
   "metadata": {},
   "outputs": [],
   "source": [
    "#load the data.\n",
    "data, labels = load_images(data_path)\n",
    "\n",
    "# train_images, train_labels = load_images(data_path + r'\\train')\n",
    "# val_images, val_labels = load_images(data_path + r'\\valid')\n",
    "# test_images, test_labels = load_images(data_path + r'\\test')"
   ]
  },
  {
   "cell_type": "code",
   "execution_count": 5,
   "id": "8f5e5cb6",
   "metadata": {},
   "outputs": [],
   "source": [
    "#this is necessary to get the data into the form that to_categorical requires, namely an array of numeric labels\n",
    "le = LabelEncoder()\n",
    "\n",
    "labels_ohe = keras.utils.to_categorical(le.fit_transform(labels).reshape(-1,1), 6)"
   ]
  },
  {
   "cell_type": "code",
   "execution_count": 6,
   "id": "59dcbf54",
   "metadata": {},
   "outputs": [],
   "source": [
    "data=data/255"
   ]
  },
  {
   "cell_type": "code",
   "execution_count": 7,
   "id": "a31cf95b",
   "metadata": {},
   "outputs": [],
   "source": [
    "X_train, X_test, y_train, y_test = train_test_split(data, labels_ohe, test_size=0.15)"
   ]
  },
  {
   "cell_type": "code",
   "execution_count": 8,
   "id": "ee4e948a",
   "metadata": {},
   "outputs": [],
   "source": [
    "X_train = X_train.reshape(len(X_train),200,200,1)\n",
    "X_test = X_test.reshape(len(X_test),200,200,1)"
   ]
  },
  {
   "cell_type": "markdown",
   "id": "e06568fc",
   "metadata": {},
   "source": [
    "The following cell uses a train test split so that the predictor has new data to be tested against"
   ]
  },
  {
   "cell_type": "code",
   "execution_count": 9,
   "id": "4b7b6d74",
   "metadata": {},
   "outputs": [],
   "source": [
    "from tensorflow.keras.preprocessing.image import ImageDataGenerator"
   ]
  },
  {
   "cell_type": "code",
   "execution_count": 10,
   "id": "964462cc",
   "metadata": {},
   "outputs": [],
   "source": [
    "train_datagen = ImageDataGenerator(\n",
    "    #rescale=1. / 255,\n",
    "    shear_range=0.2,\n",
    "    zoom_range=0.2,\n",
    "    horizontal_flip=True)"
   ]
  },
  {
   "cell_type": "code",
   "execution_count": 11,
   "id": "10e02270",
   "metadata": {
    "scrolled": true
   },
   "outputs": [
    {
     "data": {
      "text/plain": [
       "<keras_preprocessing.image.numpy_array_iterator.NumpyArrayIterator at 0x24fc57e5b48>"
      ]
     },
     "execution_count": 11,
     "metadata": {},
     "output_type": "execute_result"
    }
   ],
   "source": [
    "train_datagen.flow(X_train*255,y_train,batch_size=1)"
   ]
  },
  {
   "cell_type": "code",
   "execution_count": 12,
   "id": "251d1c9e",
   "metadata": {},
   "outputs": [],
   "source": [
    "test=[]\n",
    "for i, v in enumerate(train_datagen.flow(X_train,y_train)):\n",
    "    if i<5:\n",
    "        test.append(v)\n",
    "    else:\n",
    "        break"
   ]
  },
  {
   "cell_type": "code",
   "execution_count": 13,
   "id": "c8b91d5e",
   "metadata": {},
   "outputs": [],
   "source": [
    "sample=test[0][0][2].reshape(200,200)"
   ]
  },
  {
   "cell_type": "code",
   "execution_count": 14,
   "id": "f07e280e",
   "metadata": {},
   "outputs": [],
   "source": [
    "#code to acquaint with cv2. from tutorial on geeksforgeeks\n",
    "\n",
    "# path\n",
    "#path = data_path + r'\\test\\Crazing\\Cr_1.bmp'\n",
    "  \n",
    "# Reading an image in grayscale mode\n",
    "#image = cv2.imread(sample.astype(int), 0)\n",
    "  \n",
    "# Window name in which image is displayed\n",
    "window_name = 'image'\n",
    "  \n",
    "# Using cv2.imshow() method\n",
    "# Displaying the image\n",
    "cv2.imshow(window_name, sample)\n",
    "  \n",
    "# waits for user to press any key\n",
    "# (this is necessary to avoid Python kernel form crashing)\n",
    "cv2.waitKey(0)\n",
    "  \n",
    "# closing all open windows\n",
    "cv2.destroyAllWindows()"
   ]
  },
  {
   "cell_type": "code",
   "execution_count": 15,
   "id": "a260fb8a",
   "metadata": {},
   "outputs": [],
   "source": [
    "#code to acquaint with cv2. from tutorial on geeksforgeeks\n",
    "\n",
    "# path\n",
    "path = data_path + r'\\test\\Crazing\\Cr_1.bmp'\n",
    "  \n",
    "# Reading an image in grayscale mode\n",
    "image = cv2.imread(path, 0)\n",
    "  \n",
    "# Window name in which image is displayed\n",
    "window_name = 'image'\n",
    "  \n",
    "# Using cv2.imshow() method\n",
    "# Displaying the image\n",
    "cv2.imshow(window_name, image)\n",
    "  \n",
    "# waits for user to press any key\n",
    "# (this is necessary to avoid Python kernel form crashing)\n",
    "cv2.waitKey(0)\n",
    "  \n",
    "# closing all open windows\n",
    "cv2.destroyAllWindows()"
   ]
  },
  {
   "cell_type": "markdown",
   "id": "5214590c",
   "metadata": {},
   "source": [
    "# Kaggle Solution Step Through\n",
    "\n",
    "The follow code was taknen from Kaggle.  Used as an example of how to tweak the neural net to get a feel for the impacts of each layer."
   ]
  },
  {
   "cell_type": "code",
   "execution_count": 16,
   "id": "40f4742f",
   "metadata": {},
   "outputs": [
    {
     "name": "stdout",
     "output_type": "stream",
     "text": [
      "Model: \"sequential_1\"\n",
      "_________________________________________________________________\n",
      "Layer (type)                 Output Shape              Param #   \n",
      "=================================================================\n",
      "conv2d_1 (Conv2D)            (None, 199, 199, 32)      160       \n",
      "_________________________________________________________________\n",
      "max_pooling2d_1 (MaxPooling2 (None, 99, 99, 32)        0         \n",
      "_________________________________________________________________\n",
      "conv2d_2 (Conv2D)            (None, 98, 98, 64)        8256      \n",
      "_________________________________________________________________\n",
      "max_pooling2d_2 (MaxPooling2 (None, 49, 49, 64)        0         \n",
      "_________________________________________________________________\n",
      "conv2d_3 (Conv2D)            (None, 48, 48, 128)       32896     \n",
      "_________________________________________________________________\n",
      "max_pooling2d_3 (MaxPooling2 (None, 24, 24, 128)       0         \n",
      "_________________________________________________________________\n",
      "flatten_1 (Flatten)          (None, 73728)             0         \n",
      "_________________________________________________________________\n",
      "dense_1 (Dense)              (None, 256)               18874624  \n",
      "_________________________________________________________________\n",
      "dropout_1 (Dropout)          (None, 256)               0         \n",
      "_________________________________________________________________\n",
      "dense_2 (Dense)              (None, 6)                 1542      \n",
      "=================================================================\n",
      "Total params: 18,917,478\n",
      "Trainable params: 18,917,478\n",
      "Non-trainable params: 0\n",
      "_________________________________________________________________\n"
     ]
    }
   ],
   "source": [
    "model = Sequential([\n",
    "    Conv2D(32, (2,2), activation='relu', input_shape=(200, 200, 1)),\n",
    "    MaxPooling2D(2, 2),\n",
    "    Conv2D(64, (2,2), activation='relu'),\n",
    "    MaxPooling2D(2,2),\n",
    "    Conv2D(128, (2,2), activation='relu'),\n",
    "    MaxPooling2D(2,2),\n",
    "    Flatten(),\n",
    "    Dense(256, activation='relu'),\n",
    "    Dropout(0.2),\n",
    "    Dense(6, activation='softmax')\n",
    "])\n",
    "\n",
    "model.summary()"
   ]
  },
  {
   "cell_type": "code",
   "execution_count": 17,
   "id": "acb9915a",
   "metadata": {},
   "outputs": [
    {
     "name": "stdout",
     "output_type": "stream",
     "text": [
      "Compiled!\n"
     ]
    }
   ],
   "source": [
    "model.compile(loss='categorical_crossentropy',\n",
    "              optimizer='rmsprop',\n",
    "              metrics=['accuracy'])\n",
    "print('Compiled!')"
   ]
  },
  {
   "cell_type": "code",
   "execution_count": 18,
   "id": "8b2b3ded",
   "metadata": {},
   "outputs": [
    {
     "name": "stdout",
     "output_type": "stream",
     "text": [
      "ERROR! Session/line number was not unique in database. History logging moved to new session 658\n",
      "Train on 1530 samples, validate on 270 samples\n",
      "Epoch 1/10\n",
      "1530/1530 [==============================] - 38s 25ms/step - loss: 2.0362 - accuracy: 0.2856 - val_loss: 1.4018 - val_accuracy: 0.4333\n",
      "Epoch 2/10\n",
      "1530/1530 [==============================] - 47s 31ms/step - loss: 1.3437 - accuracy: 0.4856 - val_loss: 1.2216 - val_accuracy: 0.5889\n",
      "Epoch 3/10\n",
      "1530/1530 [==============================] - 53s 35ms/step - loss: 1.0950 - accuracy: 0.6072 - val_loss: 1.1564 - val_accuracy: 0.5519\n",
      "Epoch 4/10\n",
      "1530/1530 [==============================] - 47s 31ms/step - loss: 0.8028 - accuracy: 0.7111 - val_loss: 0.7628 - val_accuracy: 0.7593\n",
      "Epoch 5/10\n",
      "1530/1530 [==============================] - 47s 31ms/step - loss: 0.6982 - accuracy: 0.7634 - val_loss: 0.4320 - val_accuracy: 0.8222\n",
      "Epoch 6/10\n",
      "1530/1530 [==============================] - 46s 30ms/step - loss: 0.6495 - accuracy: 0.7895 - val_loss: 0.4703 - val_accuracy: 0.8222\n",
      "Epoch 7/10\n",
      "1530/1530 [==============================] - 50s 33ms/step - loss: 0.5209 - accuracy: 0.8248 - val_loss: 0.2890 - val_accuracy: 0.9000\n",
      "Epoch 8/10\n",
      "1530/1530 [==============================] - 45s 30ms/step - loss: 0.4491 - accuracy: 0.8634 - val_loss: 0.2561 - val_accuracy: 0.8963\n",
      "Epoch 9/10\n",
      "1530/1530 [==============================] - 45s 30ms/step - loss: 0.4374 - accuracy: 0.8556 - val_loss: 0.2310 - val_accuracy: 0.9333\n",
      "Epoch 10/10\n",
      "1530/1530 [==============================] - 45s 30ms/step - loss: 0.3568 - accuracy: 0.8902 - val_loss: 0.1818 - val_accuracy: 0.9444\n"
     ]
    }
   ],
   "source": [
    "history = model.fit(X_train,y_train,\n",
    "        batch_size = 32,\n",
    "        epochs=10,\n",
    "        validation_data=(X_test,y_test),\n",
    "        verbose=1, shuffle=True)"
   ]
  },
  {
   "cell_type": "code",
   "execution_count": 19,
   "id": "6ff1d059",
   "metadata": {},
   "outputs": [
    {
     "data": {
      "text/plain": [
       "<matplotlib.legend.Legend at 0x24fd4c23708>"
      ]
     },
     "execution_count": 19,
     "metadata": {},
     "output_type": "execute_result"
    },
    {
     "data": {
      "image/png": "[encoded data removed]",
      "text/plain": [
       "<Figure size 640x480 with 1 Axes>"
      ]
     },
     "metadata": {},
     "output_type": "display_data"
    }
   ],
   "source": [
    "plt.figure(1)  \n",
    "# summarize history for accuracy  \n",
    "plt.subplot(211)  \n",
    "plt.plot(history.history['accuracy'])  \n",
    "plt.plot(history.history['val_accuracy'])  \n",
    "plt.title('model accuracy')  \n",
    "plt.ylabel('accuracy')  \n",
    "plt.xlabel('epoch')  \n",
    "plt.legend(['train', 'test'], loc='upper left')  \n",
    "   \n",
    " # summarize history for loss  \n",
    "   \n",
    "# plt.subplot(212)  \n",
    "# plt.plot(history.history['loss'])  \n",
    "# plt.plot(history.history['val_loss'])  \n",
    "# plt.title('model loss')  \n",
    "# plt.ylabel('loss')  \n",
    "# plt.xlabel('epoch')  \n",
    "# plt.legend(['train', 'test'], loc='upper left')  \n",
    "# plt.show()"
   ]
  },
  {
   "cell_type": "code",
   "execution_count": null,
   "id": "dd55c4bc",
   "metadata": {},
   "outputs": [],
   "source": []
  }
 ],
 "metadata": {
  "kernelspec": {
   "display_name": "Python 3 (ipykernel)",
   "language": "python",
   "name": "python3"
  },
  "language_info": {
   "codemirror_mode": {
    "name": "ipython",
    "version": 3
   },
   "file_extension": ".py",
   "mimetype": "text/x-python",
   "name": "python",
   "nbconvert_exporter": "python",
   "pygments_lexer": "ipython3",
   "version": "3.7.13"
  }
 },
 "nbformat": 4,
 "nbformat_minor": 5
}
