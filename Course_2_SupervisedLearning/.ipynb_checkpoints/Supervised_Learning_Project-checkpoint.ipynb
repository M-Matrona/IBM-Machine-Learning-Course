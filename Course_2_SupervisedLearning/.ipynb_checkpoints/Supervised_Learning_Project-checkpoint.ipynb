{
 "cells": [
  {
   "cell_type": "code",
   "execution_count": 1,
   "id": "74f58e37",
   "metadata": {},
   "outputs": [],
   "source": [
    "import os\n",
    "import pandas as pd\n",
    "import numpy as np\n",
    "import matplotlib.pyplot as plt\n",
    "from sklearn.preprocessing import StandardScaler, PolynomialFeatures\n",
    "from sklearn.model_selection import KFold, cross_val_predict,cross_val_score\n",
    "from sklearn.linear_model import LinearRegression, Lasso, Ridge\n",
    "from sklearn.metrics import r2_score\n",
    "from sklearn.model_selection import train_test_split\n",
    "from scipy.stats.mstats import normaltest # D'Agostino K^2 Test\n",
    "from scipy.stats import boxcox"
   ]
  },
  {
   "cell_type": "code",
   "execution_count": 2,
   "id": "4d66b24f",
   "metadata": {},
   "outputs": [
    {
     "data": {
      "text/html": [
       "<div>\n",
       "<style scoped>\n",
       "    .dataframe tbody tr th:only-of-type {\n",
       "        vertical-align: middle;\n",
       "    }\n",
       "\n",
       "    .dataframe tbody tr th {\n",
       "        vertical-align: top;\n",
       "    }\n",
       "\n",
       "    .dataframe thead th {\n",
       "        text-align: right;\n",
       "    }\n",
       "</style>\n",
       "<table border=\"1\" class=\"dataframe\">\n",
       "  <thead>\n",
       "    <tr style=\"text-align: right;\">\n",
       "      <th></th>\n",
       "      <th>Density</th>\n",
       "      <th>BodyFat</th>\n",
       "      <th>BMI</th>\n",
       "      <th>Age</th>\n",
       "      <th>Weight</th>\n",
       "      <th>Height</th>\n",
       "      <th>Neck</th>\n",
       "      <th>Chest</th>\n",
       "      <th>Abdomen</th>\n",
       "      <th>Hip</th>\n",
       "      <th>Thigh</th>\n",
       "      <th>Knee</th>\n",
       "      <th>Ankle</th>\n",
       "      <th>Biceps</th>\n",
       "      <th>Forearm</th>\n",
       "      <th>Wrist</th>\n",
       "    </tr>\n",
       "  </thead>\n",
       "  <tbody>\n",
       "    <tr>\n",
       "      <th>0</th>\n",
       "      <td>1.0708</td>\n",
       "      <td>12.3</td>\n",
       "      <td>23.624460</td>\n",
       "      <td>23</td>\n",
       "      <td>154.25</td>\n",
       "      <td>67.75</td>\n",
       "      <td>36.2</td>\n",
       "      <td>93.1</td>\n",
       "      <td>85.2</td>\n",
       "      <td>94.5</td>\n",
       "      <td>59.0</td>\n",
       "      <td>37.3</td>\n",
       "      <td>21.9</td>\n",
       "      <td>32.0</td>\n",
       "      <td>27.4</td>\n",
       "      <td>17.1</td>\n",
       "    </tr>\n",
       "    <tr>\n",
       "      <th>1</th>\n",
       "      <td>1.0853</td>\n",
       "      <td>6.1</td>\n",
       "      <td>23.332048</td>\n",
       "      <td>22</td>\n",
       "      <td>173.25</td>\n",
       "      <td>72.25</td>\n",
       "      <td>38.5</td>\n",
       "      <td>93.6</td>\n",
       "      <td>83.0</td>\n",
       "      <td>98.7</td>\n",
       "      <td>58.7</td>\n",
       "      <td>37.3</td>\n",
       "      <td>23.4</td>\n",
       "      <td>30.5</td>\n",
       "      <td>28.9</td>\n",
       "      <td>18.2</td>\n",
       "    </tr>\n",
       "    <tr>\n",
       "      <th>2</th>\n",
       "      <td>1.0414</td>\n",
       "      <td>25.3</td>\n",
       "      <td>24.666315</td>\n",
       "      <td>22</td>\n",
       "      <td>154.00</td>\n",
       "      <td>66.25</td>\n",
       "      <td>34.0</td>\n",
       "      <td>95.8</td>\n",
       "      <td>87.9</td>\n",
       "      <td>99.2</td>\n",
       "      <td>59.6</td>\n",
       "      <td>38.9</td>\n",
       "      <td>24.0</td>\n",
       "      <td>28.8</td>\n",
       "      <td>25.2</td>\n",
       "      <td>16.6</td>\n",
       "    </tr>\n",
       "    <tr>\n",
       "      <th>3</th>\n",
       "      <td>1.0751</td>\n",
       "      <td>10.4</td>\n",
       "      <td>24.880784</td>\n",
       "      <td>26</td>\n",
       "      <td>184.75</td>\n",
       "      <td>72.25</td>\n",
       "      <td>37.4</td>\n",
       "      <td>101.8</td>\n",
       "      <td>86.4</td>\n",
       "      <td>101.2</td>\n",
       "      <td>60.1</td>\n",
       "      <td>37.3</td>\n",
       "      <td>22.8</td>\n",
       "      <td>32.4</td>\n",
       "      <td>29.4</td>\n",
       "      <td>18.2</td>\n",
       "    </tr>\n",
       "    <tr>\n",
       "      <th>4</th>\n",
       "      <td>1.0340</td>\n",
       "      <td>28.7</td>\n",
       "      <td>25.514854</td>\n",
       "      <td>24</td>\n",
       "      <td>184.25</td>\n",
       "      <td>71.25</td>\n",
       "      <td>34.4</td>\n",
       "      <td>97.3</td>\n",
       "      <td>100.0</td>\n",
       "      <td>101.9</td>\n",
       "      <td>63.2</td>\n",
       "      <td>42.2</td>\n",
       "      <td>24.0</td>\n",
       "      <td>32.2</td>\n",
       "      <td>27.7</td>\n",
       "      <td>17.7</td>\n",
       "    </tr>\n",
       "  </tbody>\n",
       "</table>\n",
       "</div>"
      ],
      "text/plain": [
       "   Density  BodyFat        BMI  Age  Weight  Height  Neck  Chest  Abdomen  \\\n",
       "0   1.0708     12.3  23.624460   23  154.25   67.75  36.2   93.1     85.2   \n",
       "1   1.0853      6.1  23.332048   22  173.25   72.25  38.5   93.6     83.0   \n",
       "2   1.0414     25.3  24.666315   22  154.00   66.25  34.0   95.8     87.9   \n",
       "3   1.0751     10.4  24.880784   26  184.75   72.25  37.4  101.8     86.4   \n",
       "4   1.0340     28.7  25.514854   24  184.25   71.25  34.4   97.3    100.0   \n",
       "\n",
       "     Hip  Thigh  Knee  Ankle  Biceps  Forearm  Wrist  \n",
       "0   94.5   59.0  37.3   21.9    32.0     27.4   17.1  \n",
       "1   98.7   58.7  37.3   23.4    30.5     28.9   18.2  \n",
       "2   99.2   59.6  38.9   24.0    28.8     25.2   16.6  \n",
       "3  101.2   60.1  37.3   22.8    32.4     29.4   18.2  \n",
       "4  101.9   63.2  42.2   24.0    32.2     27.7   17.7  "
      ]
     },
     "execution_count": 2,
     "metadata": {},
     "output_type": "execute_result"
    }
   ],
   "source": [
    "path = os.getcwd()\n",
    "path = path + '\\\\' + 'bodyfat.csv'\n",
    "data = pd.read_csv(path)\n",
    "data.head()"
   ]
  },
  {
   "cell_type": "code",
   "execution_count": 3,
   "id": "c7951515",
   "metadata": {},
   "outputs": [
    {
     "data": {
      "text/html": [
       "<div>\n",
       "<style scoped>\n",
       "    .dataframe tbody tr th:only-of-type {\n",
       "        vertical-align: middle;\n",
       "    }\n",
       "\n",
       "    .dataframe tbody tr th {\n",
       "        vertical-align: top;\n",
       "    }\n",
       "\n",
       "    .dataframe thead th {\n",
       "        text-align: right;\n",
       "    }\n",
       "</style>\n",
       "<table border=\"1\" class=\"dataframe\">\n",
       "  <thead>\n",
       "    <tr style=\"text-align: right;\">\n",
       "      <th></th>\n",
       "      <th>BMI</th>\n",
       "      <th>Age</th>\n",
       "      <th>Neck</th>\n",
       "      <th>Chest</th>\n",
       "      <th>Abdomen</th>\n",
       "      <th>Hip</th>\n",
       "      <th>Thigh</th>\n",
       "      <th>Knee</th>\n",
       "      <th>Ankle</th>\n",
       "      <th>Biceps</th>\n",
       "      <th>Forearm</th>\n",
       "      <th>Wrist</th>\n",
       "    </tr>\n",
       "  </thead>\n",
       "  <tbody>\n",
       "    <tr>\n",
       "      <th>0</th>\n",
       "      <td>23.624460</td>\n",
       "      <td>23</td>\n",
       "      <td>36.2</td>\n",
       "      <td>93.1</td>\n",
       "      <td>85.2</td>\n",
       "      <td>94.5</td>\n",
       "      <td>59.0</td>\n",
       "      <td>37.3</td>\n",
       "      <td>21.9</td>\n",
       "      <td>32.0</td>\n",
       "      <td>27.4</td>\n",
       "      <td>17.1</td>\n",
       "    </tr>\n",
       "    <tr>\n",
       "      <th>1</th>\n",
       "      <td>23.332048</td>\n",
       "      <td>22</td>\n",
       "      <td>38.5</td>\n",
       "      <td>93.6</td>\n",
       "      <td>83.0</td>\n",
       "      <td>98.7</td>\n",
       "      <td>58.7</td>\n",
       "      <td>37.3</td>\n",
       "      <td>23.4</td>\n",
       "      <td>30.5</td>\n",
       "      <td>28.9</td>\n",
       "      <td>18.2</td>\n",
       "    </tr>\n",
       "    <tr>\n",
       "      <th>2</th>\n",
       "      <td>24.666315</td>\n",
       "      <td>22</td>\n",
       "      <td>34.0</td>\n",
       "      <td>95.8</td>\n",
       "      <td>87.9</td>\n",
       "      <td>99.2</td>\n",
       "      <td>59.6</td>\n",
       "      <td>38.9</td>\n",
       "      <td>24.0</td>\n",
       "      <td>28.8</td>\n",
       "      <td>25.2</td>\n",
       "      <td>16.6</td>\n",
       "    </tr>\n",
       "    <tr>\n",
       "      <th>3</th>\n",
       "      <td>24.880784</td>\n",
       "      <td>26</td>\n",
       "      <td>37.4</td>\n",
       "      <td>101.8</td>\n",
       "      <td>86.4</td>\n",
       "      <td>101.2</td>\n",
       "      <td>60.1</td>\n",
       "      <td>37.3</td>\n",
       "      <td>22.8</td>\n",
       "      <td>32.4</td>\n",
       "      <td>29.4</td>\n",
       "      <td>18.2</td>\n",
       "    </tr>\n",
       "    <tr>\n",
       "      <th>4</th>\n",
       "      <td>25.514854</td>\n",
       "      <td>24</td>\n",
       "      <td>34.4</td>\n",
       "      <td>97.3</td>\n",
       "      <td>100.0</td>\n",
       "      <td>101.9</td>\n",
       "      <td>63.2</td>\n",
       "      <td>42.2</td>\n",
       "      <td>24.0</td>\n",
       "      <td>32.2</td>\n",
       "      <td>27.7</td>\n",
       "      <td>17.7</td>\n",
       "    </tr>\n",
       "  </tbody>\n",
       "</table>\n",
       "</div>"
      ],
      "text/plain": [
       "         BMI  Age  Neck  Chest  Abdomen    Hip  Thigh  Knee  Ankle  Biceps  \\\n",
       "0  23.624460   23  36.2   93.1     85.2   94.5   59.0  37.3   21.9    32.0   \n",
       "1  23.332048   22  38.5   93.6     83.0   98.7   58.7  37.3   23.4    30.5   \n",
       "2  24.666315   22  34.0   95.8     87.9   99.2   59.6  38.9   24.0    28.8   \n",
       "3  24.880784   26  37.4  101.8     86.4  101.2   60.1  37.3   22.8    32.4   \n",
       "4  25.514854   24  34.4   97.3    100.0  101.9   63.2  42.2   24.0    32.2   \n",
       "\n",
       "   Forearm  Wrist  \n",
       "0     27.4   17.1  \n",
       "1     28.9   18.2  \n",
       "2     25.2   16.6  \n",
       "3     29.4   18.2  \n",
       "4     27.7   17.7  "
      ]
     },
     "execution_count": 3,
     "metadata": {},
     "output_type": "execute_result"
    }
   ],
   "source": [
    "#BodyFat is the target. \n",
    "#We are hoping to use the Model so we don't need to measure density\n",
    "X_data = data.drop(['BodyFat', 'Density'],axis=1) \n",
    "\n",
    "\n",
    "#storing height, weight data incase needed later.  BMI was calculated from these measures in the first project\n",
    "#this might be redundant since 'data' also contains these values\n",
    "df_hw = X_data[['Height','Weight']]\n",
    "\n",
    "#removing columns.  Relying on BMI for their information\n",
    "X_data = X_data.drop(['Height','Weight'], axis = 1)\n",
    "\n",
    "Y_data = data['BodyFat']\n",
    "\n",
    "\n",
    "X_data.head()"
   ]
  },
  {
   "cell_type": "code",
   "execution_count": 5,
   "id": "988781f3",
   "metadata": {},
   "outputs": [
    {
     "name": "stdout",
     "output_type": "stream",
     "text": [
      "Skewed variables include:\n",
      "['BMI', 'Neck', 'Chest', 'Abdomen', 'Hip', 'Thigh', 'Knee', 'Ankle', 'Biceps', 'Forearm']\n",
      "\n",
      "Since obesity is an extreme condition, lets exclude it from the model\n"
     ]
    },
    {
     "data": {
      "text/plain": [
       "0      12.3\n",
       "1       6.1\n",
       "2      25.3\n",
       "3      10.4\n",
       "4      28.7\n",
       "       ... \n",
       "241    11.0\n",
       "242    33.6\n",
       "243    29.3\n",
       "244    26.0\n",
       "245    31.9\n",
       "Name: BodyFat, Length: 246, dtype: float64"
      ]
     },
     "execution_count": 5,
     "metadata": {},
     "output_type": "execute_result"
    }
   ],
   "source": [
    "#This cell determines if our X data is Normal\n",
    "\n",
    "X_cols = X_data.columns.to_list()\n",
    "\n",
    "skewlist = []\n",
    "for col in X_cols:\n",
    "    ob = normaltest(X_data[col])\n",
    "    if ob.pvalue < 0.05:\n",
    "        skewlist.append(col)\n",
    "\n",
    "\n",
    "print('Skewed variables include:')        \n",
    "print(skewlist)\n",
    "\n",
    "print('\\nSince obesity is an extreme condition, lets exclude it from the model')\n",
    "\n",
    "Y_data"
   ]
  },
  {
   "cell_type": "code",
   "execution_count": 6,
   "id": "0b374e1e",
   "metadata": {},
   "outputs": [],
   "source": [
    "#removing all obese patients from dataset\n",
    "X_data = X_data[data['BMI']<30.0]\n",
    "Y_data = Y_data[data['BMI']<30.0]"
   ]
  },
  {
   "cell_type": "code",
   "execution_count": 7,
   "id": "1a6dbb78",
   "metadata": {},
   "outputs": [
    {
     "name": "stdout",
     "output_type": "stream",
     "text": [
      "Data with Obese people Included\n",
      "             Skew\n",
      "Ankle    2.289860\n",
      "BMI      1.639816\n",
      "Hip      1.606410\n",
      "Weight   1.292419\n",
      "Abdomen  0.897383\n",
      "Thigh    0.855690\n",
      "Chest    0.775233\n",
      "Neck     0.570604\n",
      "Knee     0.560494\n",
      "Biceps   0.287758\n",
      "Age      0.281010\n",
      "Wrist    0.270985\n",
      "BodyFat  0.173623\n",
      "Height   0.026071\n",
      "Density -0.090215\n",
      "Forearm -0.223953\n",
      "\n",
      "\n",
      "\n",
      "Data with Obese people removed\n",
      "             Skew\n",
      "Ankle    2.704831\n",
      "Age      0.292234\n",
      "Chest    0.223028\n",
      "Thigh    0.187763\n",
      "Knee     0.123080\n",
      "Biceps   0.092918\n",
      "BMI      0.075642\n",
      "Abdomen  0.073981\n",
      "Wrist    0.057410\n",
      "Hip      0.035170\n",
      "Forearm -0.060829\n",
      "Neck    -0.098120\n"
     ]
    }
   ],
   "source": [
    "#another way to check for normality of the columns\n",
    "\n",
    "\n",
    "print('Data with Obese people Included')\n",
    "print(data.skew().sort_values(ascending=False).to_frame().rename(columns={0:'Skew'}))\n",
    "print('\\n\\n')\n",
    "print('Data with Obese people removed')\n",
    "print(X_data.skew().sort_values(ascending=False).to_frame().rename(columns={0:'Skew'}))"
   ]
  },
  {
   "cell_type": "markdown",
   "id": "47278e3f",
   "metadata": {},
   "source": [
    "Looks like Ankle Might have an outlier(s)"
   ]
  },
  {
   "cell_type": "markdown",
   "id": "afbbfda2",
   "metadata": {},
   "source": [
    "#quick printing of the row count of the different dfs\n",
    "print(len(data.index))\n",
    "print(len(X_data.index))\n",
    "print(len(Y_data.index))\n",
    "\n",
    "#Future use only\n",
    "Obese_Data = data[data['BMI']>30]\n",
    "#Obese_Data.head()\n",
    "print(len(Obese_Data.index))"
   ]
  },
  {
   "cell_type": "code",
   "execution_count": 8,
   "id": "8048222c",
   "metadata": {},
   "outputs": [
    {
     "name": "stdout",
     "output_type": "stream",
     "text": [
      "Nonnormal variables include:\n",
      "['BMI', 'Ankle']\n"
     ]
    }
   ],
   "source": [
    "#This cell determines if our X data is Normal now that we have removed obese paitents\n",
    "\n",
    "X_cols = X_data.columns.to_list()\n",
    "\n",
    "skewlist = []\n",
    "for col in X_cols:\n",
    "    ob = normaltest(X_data[col])\n",
    "    if ob.pvalue < 0.05:\n",
    "        skewlist.append(col)\n",
    "        \n",
    "print('Nonnormal variables include:')        \n",
    "print(skewlist)\n"
   ]
  },
  {
   "cell_type": "code",
   "execution_count": 9,
   "id": "76bb215a",
   "metadata": {},
   "outputs": [
    {
     "name": "stdout",
     "output_type": "stream",
     "text": [
      "Taking a look at the remaining Skewed columns\n"
     ]
    },
    {
     "data": {
      "image/png": "[encoded data removed]",
      "text/plain": [
       "<Figure size 432x288 with 2 Axes>"
      ]
     },
     "metadata": {
      "needs_background": "light"
     },
     "output_type": "display_data"
    }
   ],
   "source": [
    "print('Taking a look at the remaining Skewed columns')\n",
    "figure, axes = plt.subplots(nrows=2, ncols=1)\n",
    "plt.subplot(2,1,1)\n",
    "X_data.BMI.hist()\n",
    "plt.title('BMI')\n",
    "figure.tight_layout(pad=3.0)\n",
    "plt.subplot(2,1,2)\n",
    "plt.title('Ankle')\n",
    "X_data.Ankle.hist()\n",
    "plt.show()"
   ]
  },
  {
   "cell_type": "markdown",
   "id": "5e8aeacb",
   "metadata": {},
   "source": [
    "It looks like there are remaining outliers in the ankle column.  Lets Explore"
   ]
  },
  {
   "cell_type": "code",
   "execution_count": 10,
   "id": "2bc1a04e",
   "metadata": {},
   "outputs": [
    {
     "data": {
      "text/html": [
       "<div>\n",
       "<style scoped>\n",
       "    .dataframe tbody tr th:only-of-type {\n",
       "        vertical-align: middle;\n",
       "    }\n",
       "\n",
       "    .dataframe tbody tr th {\n",
       "        vertical-align: top;\n",
       "    }\n",
       "\n",
       "    .dataframe thead th {\n",
       "        text-align: right;\n",
       "    }\n",
       "</style>\n",
       "<table border=\"1\" class=\"dataframe\">\n",
       "  <thead>\n",
       "    <tr style=\"text-align: right;\">\n",
       "      <th></th>\n",
       "      <th>BMI</th>\n",
       "      <th>Age</th>\n",
       "      <th>Neck</th>\n",
       "      <th>Chest</th>\n",
       "      <th>Abdomen</th>\n",
       "      <th>Hip</th>\n",
       "      <th>Thigh</th>\n",
       "      <th>Knee</th>\n",
       "      <th>Ankle</th>\n",
       "      <th>Biceps</th>\n",
       "      <th>Forearm</th>\n",
       "      <th>Wrist</th>\n",
       "    </tr>\n",
       "  </thead>\n",
       "  <tbody>\n",
       "    <tr>\n",
       "      <th>30</th>\n",
       "      <td>23.523539</td>\n",
       "      <td>32</td>\n",
       "      <td>38.7</td>\n",
       "      <td>100.5</td>\n",
       "      <td>88.7</td>\n",
       "      <td>99.8</td>\n",
       "      <td>57.5</td>\n",
       "      <td>38.7</td>\n",
       "      <td>33.9</td>\n",
       "      <td>32.5</td>\n",
       "      <td>27.7</td>\n",
       "      <td>18.4</td>\n",
       "    </tr>\n",
       "    <tr>\n",
       "      <th>82</th>\n",
       "      <td>25.767023</td>\n",
       "      <td>67</td>\n",
       "      <td>36.5</td>\n",
       "      <td>98.9</td>\n",
       "      <td>89.7</td>\n",
       "      <td>96.2</td>\n",
       "      <td>54.7</td>\n",
       "      <td>37.8</td>\n",
       "      <td>33.7</td>\n",
       "      <td>32.4</td>\n",
       "      <td>27.7</td>\n",
       "      <td>18.2</td>\n",
       "    </tr>\n",
       "  </tbody>\n",
       "</table>\n",
       "</div>"
      ],
      "text/plain": [
       "          BMI  Age  Neck  Chest  Abdomen   Hip  Thigh  Knee  Ankle  Biceps  \\\n",
       "30  23.523539   32  38.7  100.5     88.7  99.8   57.5  38.7   33.9    32.5   \n",
       "82  25.767023   67  36.5   98.9     89.7  96.2   54.7  37.8   33.7    32.4   \n",
       "\n",
       "    Forearm  Wrist  \n",
       "30     27.7   18.4  \n",
       "82     27.7   18.2  "
      ]
     },
     "execution_count": 10,
     "metadata": {},
     "output_type": "execute_result"
    }
   ],
   "source": [
    "Cankles = X_data[X_data['Ankle']>30]\n",
    "Cankles.head()"
   ]
  },
  {
   "cell_type": "code",
   "execution_count": 11,
   "id": "f50136c5",
   "metadata": {},
   "outputs": [
    {
     "name": "stdout",
     "output_type": "stream",
     "text": [
      "mean is of the whole column from the dataset\n",
      "stdev is of the whole column from the dataset\n",
      "Z scores for the rows with the outlying Ankle points\n"
     ]
    },
    {
     "data": {
      "text/html": [
       "<div>\n",
       "<style scoped>\n",
       "    .dataframe tbody tr th:only-of-type {\n",
       "        vertical-align: middle;\n",
       "    }\n",
       "\n",
       "    .dataframe tbody tr th {\n",
       "        vertical-align: top;\n",
       "    }\n",
       "\n",
       "    .dataframe thead th {\n",
       "        text-align: right;\n",
       "    }\n",
       "</style>\n",
       "<table border=\"1\" class=\"dataframe\">\n",
       "  <thead>\n",
       "    <tr style=\"text-align: right;\">\n",
       "      <th></th>\n",
       "      <th>mean</th>\n",
       "      <th>stdev</th>\n",
       "      <th>Z_30</th>\n",
       "      <th>Z_82</th>\n",
       "    </tr>\n",
       "  </thead>\n",
       "  <tbody>\n",
       "    <tr>\n",
       "      <th>BMI</th>\n",
       "      <td>24.653439</td>\n",
       "      <td>2.561873</td>\n",
       "      <td>-0.441044</td>\n",
       "      <td>0.434676</td>\n",
       "    </tr>\n",
       "    <tr>\n",
       "      <th>Neck</th>\n",
       "      <td>37.686547</td>\n",
       "      <td>2.138619</td>\n",
       "      <td>0.473882</td>\n",
       "      <td>-0.554819</td>\n",
       "    </tr>\n",
       "    <tr>\n",
       "      <th>Chest</th>\n",
       "      <td>99.269955</td>\n",
       "      <td>6.601170</td>\n",
       "      <td>0.186337</td>\n",
       "      <td>-0.056044</td>\n",
       "    </tr>\n",
       "    <tr>\n",
       "      <th>Abdomen</th>\n",
       "      <td>90.568610</td>\n",
       "      <td>8.417234</td>\n",
       "      <td>-0.221998</td>\n",
       "      <td>-0.103194</td>\n",
       "    </tr>\n",
       "    <tr>\n",
       "      <th>Hip</th>\n",
       "      <td>98.601345</td>\n",
       "      <td>5.323774</td>\n",
       "      <td>0.225151</td>\n",
       "      <td>-0.451061</td>\n",
       "    </tr>\n",
       "    <tr>\n",
       "      <th>Thigh</th>\n",
       "      <td>58.662780</td>\n",
       "      <td>4.401321</td>\n",
       "      <td>-0.264189</td>\n",
       "      <td>-0.900362</td>\n",
       "    </tr>\n",
       "    <tr>\n",
       "      <th>Knee</th>\n",
       "      <td>38.256054</td>\n",
       "      <td>2.090766</td>\n",
       "      <td>0.212337</td>\n",
       "      <td>-0.218128</td>\n",
       "    </tr>\n",
       "    <tr>\n",
       "      <th>Ankle</th>\n",
       "      <td>22.975336</td>\n",
       "      <td>1.617659</td>\n",
       "      <td>6.753378</td>\n",
       "      <td>6.629742</td>\n",
       "    </tr>\n",
       "    <tr>\n",
       "      <th>Biceps</th>\n",
       "      <td>31.907175</td>\n",
       "      <td>2.785021</td>\n",
       "      <td>0.212862</td>\n",
       "      <td>0.176956</td>\n",
       "    </tr>\n",
       "    <tr>\n",
       "      <th>Forearm</th>\n",
       "      <td>28.508072</td>\n",
       "      <td>1.878165</td>\n",
       "      <td>-0.430245</td>\n",
       "      <td>-0.430245</td>\n",
       "    </tr>\n",
       "    <tr>\n",
       "      <th>Wrist</th>\n",
       "      <td>18.143946</td>\n",
       "      <td>0.867868</td>\n",
       "      <td>0.295038</td>\n",
       "      <td>0.064588</td>\n",
       "    </tr>\n",
       "  </tbody>\n",
       "</table>\n",
       "</div>"
      ],
      "text/plain": [
       "              mean     stdev      Z_30      Z_82\n",
       "BMI      24.653439  2.561873 -0.441044  0.434676\n",
       "Neck     37.686547  2.138619  0.473882 -0.554819\n",
       "Chest    99.269955  6.601170  0.186337 -0.056044\n",
       "Abdomen  90.568610  8.417234 -0.221998 -0.103194\n",
       "Hip      98.601345  5.323774  0.225151 -0.451061\n",
       "Thigh    58.662780  4.401321 -0.264189 -0.900362\n",
       "Knee     38.256054  2.090766  0.212337 -0.218128\n",
       "Ankle    22.975336  1.617659  6.753378  6.629742\n",
       "Biceps   31.907175  2.785021  0.212862  0.176956\n",
       "Forearm  28.508072  1.878165 -0.430245 -0.430245\n",
       "Wrist    18.143946  0.867868  0.295038  0.064588"
      ]
     },
     "execution_count": 11,
     "metadata": {},
     "output_type": "execute_result"
    }
   ],
   "source": [
    "X_cols = X_data.columns.to_list()\n",
    "X_cols\n",
    "\n",
    "a = X_data.mean()\n",
    "b = X_data.std()\n",
    "\n",
    "#this is an unweildly way to make this df\n",
    "#df_meta = pd.concat([a,b],axis=1,keys=['mean','stdev'])\n",
    "#instead\n",
    "\n",
    "df_meta = pd.DataFrame({'mean':a,'stdev':b})\n",
    "\n",
    "#I probably could slice the df without transposing\n",
    "workingdata = Cankles.transpose()\n",
    "thirty = workingdata.loc[:,30]\n",
    "ei2 = workingdata.loc[:,82]\n",
    "\n",
    "#calculate Z scores for the outlying data points\n",
    "df_meta['Z_30'] = (thirty - df_meta['mean'])/df_meta['stdev']\n",
    "df_meta['Z_82'] = (ei2 - df_meta['mean'])/df_meta['stdev']\n",
    "\n",
    "print('mean is of the whole column from the dataset')\n",
    "print('stdev is of the whole column from the dataset')\n",
    "print('Z scores for the rows with the outlying Ankle points')\n",
    "\n",
    "#we really don't care about the age of the patient for this analysis\n",
    "df_meta = df_meta.drop(['Age'],axis=0)\n",
    "df_meta\n"
   ]
  },
  {
   "cell_type": "markdown",
   "id": "b749486e",
   "metadata": {},
   "source": [
    "We see that these two people have measurements within 1  standard deviation of the mean for each feature except for Ankle.\n",
    "This leads me to believe that these data points are true outliers, possibly explained by measurement errors. \n",
    "\n",
    "These observations are removed from the analysis\n",
    "\n"
   ]
  },
  {
   "cell_type": "code",
   "execution_count": 12,
   "id": "72f660cf",
   "metadata": {},
   "outputs": [
    {
     "data": {
      "text/plain": [
       "True"
      ]
     },
     "execution_count": 12,
     "metadata": {},
     "output_type": "execute_result"
    }
   ],
   "source": [
    "#remove rows containing the outlying Ankle measurements\n",
    "Y_data=Y_data[X_data['Ankle']<30]\n",
    "X_data=X_data[X_data['Ankle']<30]\n",
    "\n",
    "Y_data.index.to_list()==X_data.index.to_list()"
   ]
  },
  {
   "cell_type": "code",
   "execution_count": 13,
   "id": "998d328a",
   "metadata": {},
   "outputs": [],
   "source": [
    "#boxcox transformation to normalize BMI column\n",
    "bc_result = boxcox(X_data.BMI)\n",
    "boxcox_BMI = bc_result[0]\n",
    "lam = bc_result[1]"
   ]
  },
  {
   "cell_type": "code",
   "execution_count": 14,
   "id": "1633fad7",
   "metadata": {},
   "outputs": [
    {
     "data": {
      "text/plain": [
       "<AxesSubplot:>"
      ]
     },
     "execution_count": 14,
     "metadata": {},
     "output_type": "execute_result"
    },
    {
     "data": {
      "image/png": "[encoded data removed]",
      "text/plain": [
       "<Figure size 432x288 with 1 Axes>"
      ]
     },
     "metadata": {
      "needs_background": "light"
     },
     "output_type": "display_data"
    }
   ],
   "source": [
    "X_data['BMI'].hist()"
   ]
  },
  {
   "cell_type": "code",
   "execution_count": 15,
   "id": "59446054",
   "metadata": {},
   "outputs": [
    {
     "name": "stdout",
     "output_type": "stream",
     "text": [
      "NormaltestResult(statistic=9.592389831077183, pvalue=0.008261121585162443)\n",
      "Boxcox failed to normalize\n"
     ]
    },
    {
     "data": {
      "image/png": "[encoded data removed]",
      "text/plain": [
       "<Figure size 432x288 with 1 Axes>"
      ]
     },
     "metadata": {
      "needs_background": "light"
     },
     "output_type": "display_data"
    }
   ],
   "source": [
    "pd.Series(boxcox_BMI).hist()\n",
    "print(normaltest(boxcox_BMI))\n",
    "print('Boxcox failed to normalize')\n",
    "\n"
   ]
  },
  {
   "cell_type": "markdown",
   "id": "2c0e4cbc",
   "metadata": {},
   "source": [
    "Even with the boccox transformation we are unable to normalize BMI.\n",
    "Too many overweight people in the dataset.\n",
    "\n",
    "However, I think removing the overweight people would limit the robustness of the model."
   ]
  },
  {
   "cell_type": "code",
   "execution_count": 330,
   "id": "7064f1d0",
   "metadata": {},
   "outputs": [
    {
     "name": "stdout",
     "output_type": "stream",
     "text": [
      "do the linear regression with the BMI boxcox transformation\n",
      "\n",
      "\n",
      "\n",
      "Standardized Data\n",
      "r2 =  0.5993322447888936\n",
      "\n",
      "\n",
      "\n",
      "Unstandardized Data\n",
      "r2 =  0.6057733202435461\n"
     ]
    },
    {
     "data": {
      "text/plain": [
       "array([0.716735  , 0.41479759, 0.60762681])"
      ]
     },
     "execution_count": 330,
     "metadata": {},
     "output_type": "execute_result"
    }
   ],
   "source": [
    "print('do the linear regression with the BMI boxcox transformation')\n",
    "#copy features and replace BMI with transformed version\n",
    "print('\\n\\n')\n",
    "s = StandardScaler()\n",
    "df_bx = X_data.copy()\n",
    "df_bx['BMI']=boxcox_BMI\n",
    "\n",
    "X_train, X_test, y_train, y_test = train_test_split(df_bx, Y_data, test_size=0.3, shuffle= True)#,\n",
    "                                                    #random_state=72018)\n",
    "X_train_s = s.fit_transform(X_train)\n",
    "X_test_s = s.fit_transform(X_test)\n",
    "\n",
    "print('Standardized Data')\n",
    "lr = LinearRegression()\n",
    "lr.fit(X_train_s,y_train)\n",
    "y_pred = lr.predict(X_test_s)\n",
    "r = r2_score(y_test, y_pred)\n",
    "print('r2 = ', str(r))\n",
    "\n",
    "print('\\n\\n')\n",
    "print('Unstandardized Data')\n",
    "lr = LinearRegression()\n",
    "lr.fit(X_train,y_train)\n",
    "y_pred = lr.predict(X_test)\n",
    "r = r2_score(y_test, y_pred)\n",
    "print('r2 = ', r)\n",
    "\n",
    "\n",
    "cross_val_score(lr,df_bx,Y_data,cv=3)"
   ]
  },
  {
   "cell_type": "code",
   "execution_count": 46,
   "id": "1d6030b6",
   "metadata": {},
   "outputs": [
    {
     "data": {
      "image/png": "[encoded data removed]",
      "text/plain": [
       "<Figure size 432x288 with 1 Axes>"
      ]
     },
     "metadata": {
      "needs_background": "light"
     },
     "output_type": "display_data"
    }
   ],
   "source": [
    "plt.plot(y_test,y_pred,'o',[0,35],[0,35])\n",
    "plt.title('Standard linear regression')\n",
    "plt.show()"
   ]
  },
  {
   "cell_type": "code",
   "execution_count": 455,
   "id": "1e2f8892",
   "metadata": {},
   "outputs": [
    {
     "name": "stdout",
     "output_type": "stream",
     "text": [
      "do the linear regression without the BMI boxcox transformation\n",
      "\n",
      "\n",
      "\n",
      "Standardized Data\n",
      "r2 =  0.660880232678912\n",
      "5.725957920084667\n",
      "\n",
      "\n",
      "\n",
      "Unstandardized Data\n",
      "r2 =  0.6595069658408617\n",
      "-1.402925265020511\n",
      "\n",
      "\n",
      "\n",
      "correct:\n",
      "test/pred =  0.6595069658408617\n",
      "incorrect:\n",
      "pred/test =  0.5879847435269022\n"
     ]
    }
   ],
   "source": [
    "print('do the linear regression without the BMI boxcox transformation')\n",
    "print('\\n\\n')\n",
    "print('Standardized Data')\n",
    "\n",
    "\n",
    "\n",
    "X_train, X_test, y_train, y_test = train_test_split(X_data, Y_data, test_size=0.3,shuffle=True, \n",
    "                                                    random_state=72018)\n",
    "X_train_s = s.fit_transform(X_train)\n",
    "X_test_s = s.fit_transform(X_test)\n",
    "#training the base linear regression model for comparison with regularization\n",
    "lr = LinearRegression()\n",
    "lr.fit(X_train_s,y_train)\n",
    "y_pred = lr.predict(X_test_s)\n",
    "\n",
    "r = r2_score(y_test,y_pred)\n",
    "print('r2 = ', r)\n",
    "print(lr.coef_.sum())\n",
    "print('\\n\\n')\n",
    "print('Unstandardized Data')\n",
    "lr = LinearRegression()\n",
    "lr.fit(X_train,y_train)\n",
    "y_pred = lr.predict(X_test)\n",
    "r = r2_score(y_test,y_pred)\n",
    "\n",
    "print('r2 = ', r)\n",
    "print(lr.coef_.sum())\n",
    "print('\\n\\n')\n",
    "r = r2_score(y_test,y_pred)\n",
    "print('correct:')\n",
    "print('test/pred = ', r )\n",
    "r = r2_score(y_pred,y_test)\n",
    "print('incorrect:')\n",
    "print('pred/test = ', r )"
   ]
  },
  {
   "cell_type": "markdown",
   "id": "e0a8ba46",
   "metadata": {},
   "source": [
    "The boxcox transform improved the result marginally...\n",
    "\n",
    "Interesting that standardizing made a difference.  Maybe because BMI is not truly normal?"
   ]
  },
  {
   "cell_type": "code",
   "execution_count": 456,
   "id": "aa0226e7",
   "metadata": {},
   "outputs": [
    {
     "name": "stdout",
     "output_type": "stream",
     "text": [
      "0.6188712165786994\n"
     ]
    },
    {
     "data": {
      "text/plain": [
       "array([0.71656651, 0.41441078, 0.60858326])"
      ]
     },
     "execution_count": 456,
     "metadata": {},
     "output_type": "execute_result"
    }
   ],
   "source": [
    "#I will need to refresh myself on how cross_val_predict works\n",
    "X_data_s = s.fit_transform(X_data)\n",
    "predictions = cross_val_predict(lr, X_data_s, Y_data, cv=3)\n",
    "#gives a prediction of each observation when it is in the test category\n",
    "print(r2_score(Y_data,predictions))\n",
    "\n",
    "cross_val_score(lr, X_data, Y_data, cv=3)"
   ]
  },
  {
   "cell_type": "code",
   "execution_count": 457,
   "id": "ff893d48",
   "metadata": {},
   "outputs": [],
   "source": [
    "from sklearn.linear_model import LassoCV, RidgeCV\n",
    "from sklearn.pipeline import Pipeline\n",
    "\n",
    "#Lasso Regression No Features\n",
    "\n",
    "S = StandardScaler()\n",
    "\n",
    "\n",
    "#estimator = Pipeline([(\"scaler\", StandardScaler()),\n",
    "        #(\"polynomial_features\", PolynomialFeatures()),\n",
    "        #(\"ridge_regression\", LassoCV())])\n",
    "\n"
   ]
  },
  {
   "cell_type": "code",
   "execution_count": 458,
   "id": "d4c70505",
   "metadata": {},
   "outputs": [
    {
     "name": "stdout",
     "output_type": "stream",
     "text": [
      "using the same test/train/split as LR above\n",
      "Lasso Regression\n",
      "alpha =  0.22255635039618565\n",
      "r2 = 0.661136703399068\n",
      "5.589029402907491\n"
     ]
    }
   ],
   "source": [
    "print('using the same test/train/split as LR above')\n",
    "#X_train, X_test, y_train, y_test = train_test_split(X_data, Y_data, test_size=0.3, \n",
    "#                                                    shuffle=True)\n",
    "\n",
    "print('Lasso Regression')\n",
    "X_train_s = S.fit_transform(X_train)\n",
    "X_test_s = S.fit_transform(X_test)\n",
    "#Use the lassoCV function to come up with alpha\n",
    "\n",
    "#alphas2 = np.linspace(.0001,.25, 300)\n",
    "lassoCV = LassoCV(alphas=None,\n",
    "                  max_iter=5e4,\n",
    "                  cv=3).fit(X_train_s, y_train)\n",
    "\n",
    "#lassoCV_rmse = rmse(y_test, lassoCV.predict(X_test))\n",
    "alpha = lassoCV.alpha_\n",
    "print('alpha = ', alpha)\n",
    "\n",
    "y_pred_lasso = lassoCV.predict(X_test_s)\n",
    "print('r2 =', r2_score(y_test,y_pred_lasso))\n",
    "\n",
    "print(lassoCV.coef_.sum())\n",
    "\n"
   ]
  },
  {
   "cell_type": "code",
   "execution_count": 459,
   "id": "57a4685a",
   "metadata": {},
   "outputs": [
    {
     "name": "stdout",
     "output_type": "stream",
     "text": [
      "[0.71561876 0.42651604 0.6318831 ]\n"
     ]
    },
    {
     "data": {
      "image/png": "[encoded data removed]",
      "text/plain": [
       "<Figure size 432x288 with 1 Axes>"
      ]
     },
     "metadata": {
      "needs_background": "light"
     },
     "output_type": "display_data"
    }
   ],
   "source": [
    "plt.plot(y_pred_lasso,y_test,'o',[0,35],[0,35])\n",
    "plt.title('Lasso - no PF')\n",
    "print(cross_val_score(lassoCV, X_data, Y_data, cv=3))"
   ]
  },
  {
   "cell_type": "markdown",
   "id": "25294335",
   "metadata": {},
   "source": [
    "Begin Ridge"
   ]
  },
  {
   "cell_type": "code",
   "execution_count": 460,
   "id": "180bc69b",
   "metadata": {},
   "outputs": [
    {
     "name": "stdout",
     "output_type": "stream",
     "text": [
      "Ridge Regression\n",
      "alpha =  5.0\n",
      "r2 = 0.646363000084986\n",
      "Cross Val R2 = \n",
      "[0.70723675 0.42332704 0.60858326]\n"
     ]
    }
   ],
   "source": [
    "print('Ridge Regression')\n",
    "\n",
    "alphas2 = np.linspace(0,5, 300)\n",
    "\n",
    "ridgeCV = RidgeCV(alphas=alphas2,\n",
    "                  cv=3).fit(X_train_s, y_train)\n",
    "\n",
    "#lassoCV_rmse = rmse(y_test, lassoCV.predict(X_test))\n",
    "alpha = ridgeCV.alpha_\n",
    "\n",
    "print('alpha = ', alpha)\n",
    "\n",
    "y_pred_ridge = ridgeCV.predict(X_test_s)\n",
    "print('r2 =', r2_score(y_test,y_pred_ridge))\n",
    "\n",
    "\n",
    "print('Cross Val R2 = ')\n",
    "print(cross_val_score(ridgeCV, S.fit_transform(X_data), Y_data, cv=3))"
   ]
  },
  {
   "cell_type": "code",
   "execution_count": 461,
   "id": "97b44cd7",
   "metadata": {},
   "outputs": [
    {
     "data": {
      "image/png": "[encoded data removed]",
      "text/plain": [
       "<Figure size 432x288 with 1 Axes>"
      ]
     },
     "metadata": {
      "needs_background": "light"
     },
     "output_type": "display_data"
    }
   ],
   "source": [
    "plt.plot(y_test,y_pred_ridge,'o',[0,35],[0,35])\n",
    "plt.title('Ridge - no PF')\n",
    "plt.xlabel('True Value')\n",
    "plt.ylabel('Prediction')\n",
    "plt.show()"
   ]
  },
  {
   "cell_type": "code",
   "execution_count": 464,
   "id": "21add096",
   "metadata": {},
   "outputs": [
    {
     "name": "stdout",
     "output_type": "stream",
     "text": [
      "Looking at the Coefs of the Standard models\n"
     ]
    },
    {
     "data": {
      "text/html": [
       "<div>\n",
       "<style scoped>\n",
       "    .dataframe tbody tr th:only-of-type {\n",
       "        vertical-align: middle;\n",
       "    }\n",
       "\n",
       "    .dataframe tbody tr th {\n",
       "        vertical-align: top;\n",
       "    }\n",
       "\n",
       "    .dataframe thead th {\n",
       "        text-align: right;\n",
       "    }\n",
       "</style>\n",
       "<table border=\"1\" class=\"dataframe\">\n",
       "  <thead>\n",
       "    <tr style=\"text-align: right;\">\n",
       "      <th></th>\n",
       "      <th>LR</th>\n",
       "      <th>Lasso</th>\n",
       "      <th>Ridge</th>\n",
       "    </tr>\n",
       "  </thead>\n",
       "  <tbody>\n",
       "    <tr>\n",
       "      <th>Abdomen</th>\n",
       "      <td>0.788488</td>\n",
       "      <td>5.901866</td>\n",
       "      <td>5.430127</td>\n",
       "    </tr>\n",
       "    <tr>\n",
       "      <th>BMI</th>\n",
       "      <td>0.825218</td>\n",
       "      <td>1.183187</td>\n",
       "      <td>2.044949</td>\n",
       "    </tr>\n",
       "    <tr>\n",
       "      <th>Wrist</th>\n",
       "      <td>2.336635</td>\n",
       "      <td>1.683965</td>\n",
       "      <td>1.855962</td>\n",
       "    </tr>\n",
       "    <tr>\n",
       "      <th>Age</th>\n",
       "      <td>0.072941</td>\n",
       "      <td>0.754612</td>\n",
       "      <td>1.104918</td>\n",
       "    </tr>\n",
       "    <tr>\n",
       "      <th>Neck</th>\n",
       "      <td>0.610401</td>\n",
       "      <td>0.400140</td>\n",
       "      <td>1.082902</td>\n",
       "    </tr>\n",
       "    <tr>\n",
       "      <th>Ankle</th>\n",
       "      <td>0.177958</td>\n",
       "      <td>0.166531</td>\n",
       "      <td>0.341815</td>\n",
       "    </tr>\n",
       "    <tr>\n",
       "      <th>Chest</th>\n",
       "      <td>0.039916</td>\n",
       "      <td>0.000000</td>\n",
       "      <td>0.321460</td>\n",
       "    </tr>\n",
       "    <tr>\n",
       "      <th>Thigh</th>\n",
       "      <td>0.032047</td>\n",
       "      <td>0.000000</td>\n",
       "      <td>0.251843</td>\n",
       "    </tr>\n",
       "    <tr>\n",
       "      <th>Biceps</th>\n",
       "      <td>0.113564</td>\n",
       "      <td>0.000000</td>\n",
       "      <td>0.175508</td>\n",
       "    </tr>\n",
       "    <tr>\n",
       "      <th>Hip</th>\n",
       "      <td>0.147801</td>\n",
       "      <td>0.000000</td>\n",
       "      <td>0.135316</td>\n",
       "    </tr>\n",
       "    <tr>\n",
       "      <th>Knee</th>\n",
       "      <td>0.003856</td>\n",
       "      <td>0.000000</td>\n",
       "      <td>0.070398</td>\n",
       "    </tr>\n",
       "    <tr>\n",
       "      <th>Forearm</th>\n",
       "      <td>0.073673</td>\n",
       "      <td>0.000000</td>\n",
       "      <td>0.044034</td>\n",
       "    </tr>\n",
       "  </tbody>\n",
       "</table>\n",
       "</div>"
      ],
      "text/plain": [
       "               LR     Lasso     Ridge\n",
       "Abdomen  0.788488  5.901866  5.430127\n",
       "BMI      0.825218  1.183187  2.044949\n",
       "Wrist    2.336635  1.683965  1.855962\n",
       "Age      0.072941  0.754612  1.104918\n",
       "Neck     0.610401  0.400140  1.082902\n",
       "Ankle    0.177958  0.166531  0.341815\n",
       "Chest    0.039916  0.000000  0.321460\n",
       "Thigh    0.032047  0.000000  0.251843\n",
       "Biceps   0.113564  0.000000  0.175508\n",
       "Hip      0.147801  0.000000  0.135316\n",
       "Knee     0.003856  0.000000  0.070398\n",
       "Forearm  0.073673  0.000000  0.044034"
      ]
     },
     "execution_count": 464,
     "metadata": {},
     "output_type": "execute_result"
    }
   ],
   "source": [
    "print('Looking at the Coefs of the Standard models')\n",
    "\n",
    "cols = X_data.columns.to_list()\n",
    "lrc = lr.coef_\n",
    "lasc = lassoCV.coef_\n",
    "ridgec = ridgeCV.coef_\n",
    "dict1 = {'LR':lrc, 'Lasso':lasc,'Ridge': ridgec}\n",
    "noPFdf = pd.DataFrame(dict1,index=cols)\n",
    "\n",
    "#pd.DataFrame(noPFdf.abs)\n",
    "\n",
    "noPFdf.abs().sort_values(by='Ridge',ascending=False)"
   ]
  },
  {
   "cell_type": "code",
   "execution_count": null,
   "id": "9f11653a",
   "metadata": {},
   "outputs": [],
   "source": [
    "pf = PolynomialFeatures(degree=2, include_bias=False)\n",
    "X_data = pf.fit_transform(X_data)\n",
    "\n",
    "X_train, X_test, y_train, y_test = train_test_split(X_data, Y_data, test_size=0.3, \n",
    "                                                    random_state=72018)\n",
    "\n",
    "X_train_s = S.fit_transform(X_train)\n",
    "X_test_s = S.fit_transform(X_test)\n",
    "\n",
    "\n",
    "print('Ridge Regression')\n",
    "\n",
    "alphas2 = np.linspace(30000,45000, 15)\n",
    "\n",
    "ridgeCV = RidgeCV(alphas=alphas2,\n",
    "                  cv=3).fit(X_train_s, y_train)\n",
    "\n",
    "#lassoCV_rmse = rmse(y_test, lassoCV.predict(X_test))\n",
    "alpha = ridgeCV.alpha_\n",
    "\n",
    "print('alpha = ', alpha)\n",
    "\n",
    "y_pred_ridge = ridgeCV.predict(X_test_s)\n",
    "print('r2 =', r2_score(y_test,y_pred_ridge))\n",
    "\n",
    "plt.plot(y_pred_ridge,y_test,'o',[0,35],[0,35])\n",
    "plt.title('Ridge - 2 deg PF')\n",
    "#print('Cross Val R2 = ')\n",
    "#print(cross_val_score(ridgeCV, X_data, Y_data, cv=3))"
   ]
  },
  {
   "cell_type": "code",
   "execution_count": null,
   "id": "5ca6970b",
   "metadata": {},
   "outputs": [],
   "source": [
    "pf = PolynomialFeatures(degree=3, include_bias=False)\n",
    "X_data = pf.fit_transform(X_data)\n",
    "\n",
    "X_train, X_test, y_train, y_test = train_test_split(X_data, Y_data, test_size=0.3, \n",
    "                                                    random_state=72018)\n",
    "\n",
    "X_train_s = S.fit_transform(X_train)\n",
    "X_test_s = S.fit_transform(X_test)\n",
    "\n",
    "print('Ridge Regression')\n",
    "\n",
    "alphas2 = np.linspace(30000,45000, 15)\n",
    "\n",
    "ridgeCV = RidgeCV(alphas=alphas2,\n",
    "                  cv=3).fit(X_train_s, y_train)\n",
    "\n",
    "#lassoCV_rmse = rmse(y_test, lassoCV.predict(X_test))\n",
    "alpha = ridgeCV.alpha_\n",
    "\n",
    "print('alpha = ', alpha)\n",
    "\n",
    "y_pred_ridge = ridgeCV.predict(X_test_s)\n",
    "print('r2 =', r2_score(y_test,y_pred_ridge))\n",
    "\n",
    "plt.plot(y_pred_ridge,y_test,'o',[0,35],[0,35])\n",
    "plt.title('Ridge - 3 deg PF')\n",
    "#print('Cross Val R2 = ')\n",
    "#print(cross_val_score(ridgeCV, X_data, Y_data, cv=3))"
   ]
  },
  {
   "cell_type": "code",
   "execution_count": null,
   "id": "40b27668",
   "metadata": {},
   "outputs": [],
   "source": [
    "#Use the lassoCV function to come up with alpha\n",
    "\n",
    "alphas2 = np.linspace(.2,.25, 30)\n",
    "lassoCV = LassoCV(alphas=None,\n",
    "                  max_iter=5e4,\n",
    "                  cv=3).fit(X_train_s, y_train)\n",
    "\n",
    "#lassoCV_rmse = rmse(y_test, lassoCV.predict(X_test))\n",
    "alpha = lassoCV.alpha_\n",
    "print(alpha)\n",
    "\n",
    "y_pred_lasso = lassoCV.predict(X_test_s)\n",
    "print(r2_score(y_pred_lasso, y_test))\n",
    "\n",
    "plt.plot(y_pred_lasso,y_test,'o',[0,35],[0,35])\n",
    "plt.title('Lasso - no PF')\n",
    "print(cross_val_score(lassoCV, X_data, Y_data, cv=3))"
   ]
  },
  {
   "cell_type": "code",
   "execution_count": null,
   "id": "93c94c9d",
   "metadata": {},
   "outputs": [],
   "source": [
    "5+5\n"
   ]
  }
 ],
 "metadata": {
  "kernelspec": {
   "display_name": "Python 3",
   "language": "python",
   "name": "python3"
  },
  "language_info": {
   "codemirror_mode": {
    "name": "ipython",
    "version": 3
   },
   "file_extension": ".py",
   "mimetype": "text/x-python",
   "name": "python",
   "nbconvert_exporter": "python",
   "pygments_lexer": "ipython3",
   "version": "3.6.13"
  }
 },
 "nbformat": 4,
 "nbformat_minor": 5
}
