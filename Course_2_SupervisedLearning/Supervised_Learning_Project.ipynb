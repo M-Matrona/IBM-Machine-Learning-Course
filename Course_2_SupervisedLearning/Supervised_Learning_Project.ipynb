{
 "cells": [
  {
   "cell_type": "code",
   "execution_count": 1,
   "id": "2dc8571a",
   "metadata": {},
   "outputs": [],
   "source": [
    "import os\n",
    "import pandas as pd\n",
    "import numpy as np\n",
    "import matplotlib.pyplot as plt\n",
    "from sklearn.preprocessing import StandardScaler, PolynomialFeatures\n",
    "from sklearn.model_selection import KFold, cross_val_predict,cross_val_score\n",
    "from sklearn.linear_model import LinearRegression, Lasso, Ridge\n",
    "from sklearn.metrics import r2_score\n",
    "from sklearn.model_selection import train_test_split\n",
    "from scipy.stats.mstats import normaltest # D'Agostino K^2 Test\n",
    "from scipy.stats import boxcox\n",
    "import statsmodels.api as sm"
   ]
  },
  {
   "cell_type": "code",
   "execution_count": 2,
   "id": "cc642d42",
   "metadata": {},
   "outputs": [],
   "source": [
    "import numpy as np \n",
    "import pylab \n",
    "import scipy.stats as stats"
   ]
  },
  {
   "cell_type": "code",
   "execution_count": 3,
   "id": "f5a77ec6",
   "metadata": {},
   "outputs": [
    {
     "data": {
      "text/html": [
       "<div>\n",
       "<style scoped>\n",
       "    .dataframe tbody tr th:only-of-type {\n",
       "        vertical-align: middle;\n",
       "    }\n",
       "\n",
       "    .dataframe tbody tr th {\n",
       "        vertical-align: top;\n",
       "    }\n",
       "\n",
       "    .dataframe thead th {\n",
       "        text-align: right;\n",
       "    }\n",
       "</style>\n",
       "<table border=\"1\" class=\"dataframe\">\n",
       "  <thead>\n",
       "    <tr style=\"text-align: right;\">\n",
       "      <th></th>\n",
       "      <th>Density</th>\n",
       "      <th>BodyFat</th>\n",
       "      <th>BMI</th>\n",
       "      <th>Age</th>\n",
       "      <th>Weight</th>\n",
       "      <th>Height</th>\n",
       "      <th>Neck</th>\n",
       "      <th>Chest</th>\n",
       "      <th>Abdomen</th>\n",
       "      <th>Hip</th>\n",
       "      <th>Thigh</th>\n",
       "      <th>Knee</th>\n",
       "      <th>Ankle</th>\n",
       "      <th>Biceps</th>\n",
       "      <th>Forearm</th>\n",
       "      <th>Wrist</th>\n",
       "    </tr>\n",
       "  </thead>\n",
       "  <tbody>\n",
       "    <tr>\n",
       "      <th>0</th>\n",
       "      <td>1.0708</td>\n",
       "      <td>12.3</td>\n",
       "      <td>23.624460</td>\n",
       "      <td>23</td>\n",
       "      <td>154.25</td>\n",
       "      <td>67.75</td>\n",
       "      <td>36.2</td>\n",
       "      <td>93.1</td>\n",
       "      <td>85.2</td>\n",
       "      <td>94.5</td>\n",
       "      <td>59.0</td>\n",
       "      <td>37.3</td>\n",
       "      <td>21.9</td>\n",
       "      <td>32.0</td>\n",
       "      <td>27.4</td>\n",
       "      <td>17.1</td>\n",
       "    </tr>\n",
       "    <tr>\n",
       "      <th>1</th>\n",
       "      <td>1.0853</td>\n",
       "      <td>6.1</td>\n",
       "      <td>23.332048</td>\n",
       "      <td>22</td>\n",
       "      <td>173.25</td>\n",
       "      <td>72.25</td>\n",
       "      <td>38.5</td>\n",
       "      <td>93.6</td>\n",
       "      <td>83.0</td>\n",
       "      <td>98.7</td>\n",
       "      <td>58.7</td>\n",
       "      <td>37.3</td>\n",
       "      <td>23.4</td>\n",
       "      <td>30.5</td>\n",
       "      <td>28.9</td>\n",
       "      <td>18.2</td>\n",
       "    </tr>\n",
       "    <tr>\n",
       "      <th>2</th>\n",
       "      <td>1.0414</td>\n",
       "      <td>25.3</td>\n",
       "      <td>24.666315</td>\n",
       "      <td>22</td>\n",
       "      <td>154.00</td>\n",
       "      <td>66.25</td>\n",
       "      <td>34.0</td>\n",
       "      <td>95.8</td>\n",
       "      <td>87.9</td>\n",
       "      <td>99.2</td>\n",
       "      <td>59.6</td>\n",
       "      <td>38.9</td>\n",
       "      <td>24.0</td>\n",
       "      <td>28.8</td>\n",
       "      <td>25.2</td>\n",
       "      <td>16.6</td>\n",
       "    </tr>\n",
       "    <tr>\n",
       "      <th>3</th>\n",
       "      <td>1.0751</td>\n",
       "      <td>10.4</td>\n",
       "      <td>24.880784</td>\n",
       "      <td>26</td>\n",
       "      <td>184.75</td>\n",
       "      <td>72.25</td>\n",
       "      <td>37.4</td>\n",
       "      <td>101.8</td>\n",
       "      <td>86.4</td>\n",
       "      <td>101.2</td>\n",
       "      <td>60.1</td>\n",
       "      <td>37.3</td>\n",
       "      <td>22.8</td>\n",
       "      <td>32.4</td>\n",
       "      <td>29.4</td>\n",
       "      <td>18.2</td>\n",
       "    </tr>\n",
       "    <tr>\n",
       "      <th>4</th>\n",
       "      <td>1.0340</td>\n",
       "      <td>28.7</td>\n",
       "      <td>25.514854</td>\n",
       "      <td>24</td>\n",
       "      <td>184.25</td>\n",
       "      <td>71.25</td>\n",
       "      <td>34.4</td>\n",
       "      <td>97.3</td>\n",
       "      <td>100.0</td>\n",
       "      <td>101.9</td>\n",
       "      <td>63.2</td>\n",
       "      <td>42.2</td>\n",
       "      <td>24.0</td>\n",
       "      <td>32.2</td>\n",
       "      <td>27.7</td>\n",
       "      <td>17.7</td>\n",
       "    </tr>\n",
       "  </tbody>\n",
       "</table>\n",
       "</div>"
      ],
      "text/plain": [
       "   Density  BodyFat        BMI  Age  Weight  Height  Neck  Chest  Abdomen  \\\n",
       "0   1.0708     12.3  23.624460   23  154.25   67.75  36.2   93.1     85.2   \n",
       "1   1.0853      6.1  23.332048   22  173.25   72.25  38.5   93.6     83.0   \n",
       "2   1.0414     25.3  24.666315   22  154.00   66.25  34.0   95.8     87.9   \n",
       "3   1.0751     10.4  24.880784   26  184.75   72.25  37.4  101.8     86.4   \n",
       "4   1.0340     28.7  25.514854   24  184.25   71.25  34.4   97.3    100.0   \n",
       "\n",
       "     Hip  Thigh  Knee  Ankle  Biceps  Forearm  Wrist  \n",
       "0   94.5   59.0  37.3   21.9    32.0     27.4   17.1  \n",
       "1   98.7   58.7  37.3   23.4    30.5     28.9   18.2  \n",
       "2   99.2   59.6  38.9   24.0    28.8     25.2   16.6  \n",
       "3  101.2   60.1  37.3   22.8    32.4     29.4   18.2  \n",
       "4  101.9   63.2  42.2   24.0    32.2     27.7   17.7  "
      ]
     },
     "execution_count": 3,
     "metadata": {},
     "output_type": "execute_result"
    }
   ],
   "source": [
    "path = os.getcwd()\n",
    "path = path + '\\\\' + 'bodyfat.csv'\n",
    "data = pd.read_csv(path)\n",
    "data.head()"
   ]
  },
  {
   "cell_type": "code",
   "execution_count": 4,
   "id": "2643c12e",
   "metadata": {},
   "outputs": [
    {
     "data": {
      "text/html": [
       "<div>\n",
       "<style scoped>\n",
       "    .dataframe tbody tr th:only-of-type {\n",
       "        vertical-align: middle;\n",
       "    }\n",
       "\n",
       "    .dataframe tbody tr th {\n",
       "        vertical-align: top;\n",
       "    }\n",
       "\n",
       "    .dataframe thead th {\n",
       "        text-align: right;\n",
       "    }\n",
       "</style>\n",
       "<table border=\"1\" class=\"dataframe\">\n",
       "  <thead>\n",
       "    <tr style=\"text-align: right;\">\n",
       "      <th></th>\n",
       "      <th>BMI</th>\n",
       "      <th>Age</th>\n",
       "      <th>Neck</th>\n",
       "      <th>Chest</th>\n",
       "      <th>Abdomen</th>\n",
       "      <th>Hip</th>\n",
       "      <th>Thigh</th>\n",
       "      <th>Knee</th>\n",
       "      <th>Ankle</th>\n",
       "      <th>Biceps</th>\n",
       "      <th>Forearm</th>\n",
       "      <th>Wrist</th>\n",
       "    </tr>\n",
       "  </thead>\n",
       "  <tbody>\n",
       "    <tr>\n",
       "      <th>0</th>\n",
       "      <td>23.624460</td>\n",
       "      <td>23</td>\n",
       "      <td>36.2</td>\n",
       "      <td>93.1</td>\n",
       "      <td>85.2</td>\n",
       "      <td>94.5</td>\n",
       "      <td>59.0</td>\n",
       "      <td>37.3</td>\n",
       "      <td>21.9</td>\n",
       "      <td>32.0</td>\n",
       "      <td>27.4</td>\n",
       "      <td>17.1</td>\n",
       "    </tr>\n",
       "    <tr>\n",
       "      <th>1</th>\n",
       "      <td>23.332048</td>\n",
       "      <td>22</td>\n",
       "      <td>38.5</td>\n",
       "      <td>93.6</td>\n",
       "      <td>83.0</td>\n",
       "      <td>98.7</td>\n",
       "      <td>58.7</td>\n",
       "      <td>37.3</td>\n",
       "      <td>23.4</td>\n",
       "      <td>30.5</td>\n",
       "      <td>28.9</td>\n",
       "      <td>18.2</td>\n",
       "    </tr>\n",
       "    <tr>\n",
       "      <th>2</th>\n",
       "      <td>24.666315</td>\n",
       "      <td>22</td>\n",
       "      <td>34.0</td>\n",
       "      <td>95.8</td>\n",
       "      <td>87.9</td>\n",
       "      <td>99.2</td>\n",
       "      <td>59.6</td>\n",
       "      <td>38.9</td>\n",
       "      <td>24.0</td>\n",
       "      <td>28.8</td>\n",
       "      <td>25.2</td>\n",
       "      <td>16.6</td>\n",
       "    </tr>\n",
       "    <tr>\n",
       "      <th>3</th>\n",
       "      <td>24.880784</td>\n",
       "      <td>26</td>\n",
       "      <td>37.4</td>\n",
       "      <td>101.8</td>\n",
       "      <td>86.4</td>\n",
       "      <td>101.2</td>\n",
       "      <td>60.1</td>\n",
       "      <td>37.3</td>\n",
       "      <td>22.8</td>\n",
       "      <td>32.4</td>\n",
       "      <td>29.4</td>\n",
       "      <td>18.2</td>\n",
       "    </tr>\n",
       "    <tr>\n",
       "      <th>4</th>\n",
       "      <td>25.514854</td>\n",
       "      <td>24</td>\n",
       "      <td>34.4</td>\n",
       "      <td>97.3</td>\n",
       "      <td>100.0</td>\n",
       "      <td>101.9</td>\n",
       "      <td>63.2</td>\n",
       "      <td>42.2</td>\n",
       "      <td>24.0</td>\n",
       "      <td>32.2</td>\n",
       "      <td>27.7</td>\n",
       "      <td>17.7</td>\n",
       "    </tr>\n",
       "  </tbody>\n",
       "</table>\n",
       "</div>"
      ],
      "text/plain": [
       "         BMI  Age  Neck  Chest  Abdomen    Hip  Thigh  Knee  Ankle  Biceps  \\\n",
       "0  23.624460   23  36.2   93.1     85.2   94.5   59.0  37.3   21.9    32.0   \n",
       "1  23.332048   22  38.5   93.6     83.0   98.7   58.7  37.3   23.4    30.5   \n",
       "2  24.666315   22  34.0   95.8     87.9   99.2   59.6  38.9   24.0    28.8   \n",
       "3  24.880784   26  37.4  101.8     86.4  101.2   60.1  37.3   22.8    32.4   \n",
       "4  25.514854   24  34.4   97.3    100.0  101.9   63.2  42.2   24.0    32.2   \n",
       "\n",
       "   Forearm  Wrist  \n",
       "0     27.4   17.1  \n",
       "1     28.9   18.2  \n",
       "2     25.2   16.6  \n",
       "3     29.4   18.2  \n",
       "4     27.7   17.7  "
      ]
     },
     "execution_count": 4,
     "metadata": {},
     "output_type": "execute_result"
    }
   ],
   "source": [
    "#BodyFat is the target. \n",
    "\n",
    "#The goal of the model is to predict BodyFat without Density. Density is removed from the data prior to training.\n",
    "X_data = data.drop(['BodyFat', 'Density'],axis=1) \n",
    "\n",
    "#removing columns.  Relying on BMI for their information\n",
    "#models were tested including these features. Performance was comparible in either case.\n",
    "X_data = X_data.drop(['Height','Weight'], axis = 1)\n",
    "\n",
    "Y_data = data['BodyFat']\n",
    "\n",
    "X_data.head()"
   ]
  },
  {
   "cell_type": "code",
   "execution_count": 5,
   "id": "54954c0c",
   "metadata": {},
   "outputs": [
    {
     "name": "stdout",
     "output_type": "stream",
     "text": [
      "Skewed variables include:\n",
      "['BMI', 'Neck', 'Chest', 'Abdomen', 'Hip', 'Thigh', 'Knee', 'Ankle', 'Biceps', 'Forearm']\n",
      "\n",
      "Since obesity is an extreme condition, lets exclude it from the model\n"
     ]
    }
   ],
   "source": [
    "#This cell determines if our X data is Normal\n",
    "\n",
    "X_cols = X_data.columns.to_list()\n",
    "\n",
    "skewlist = []\n",
    "for col in X_cols:\n",
    "    ob = normaltest(X_data[col])\n",
    "    if ob.pvalue < 0.05:\n",
    "        skewlist.append(col)\n",
    "\n",
    "\n",
    "print('Skewed variables include:')        \n",
    "print(skewlist)\n",
    "\n",
    "print('\\nSince obesity is an extreme condition, lets exclude it from the model')"
   ]
  },
  {
   "cell_type": "code",
   "execution_count": 6,
   "id": "f8b34aad",
   "metadata": {},
   "outputs": [],
   "source": [
    "#removing all obese patients from dataset\n",
    "Y_data = Y_data[X_data['BMI']<30.0]\n",
    "X_data = X_data[X_data['BMI']<30.0]\n",
    "\n"
   ]
  },
  {
   "cell_type": "code",
   "execution_count": 7,
   "id": "482ef72e",
   "metadata": {},
   "outputs": [
    {
     "data": {
      "text/html": [
       "<div>\n",
       "<style scoped>\n",
       "    .dataframe tbody tr th:only-of-type {\n",
       "        vertical-align: middle;\n",
       "    }\n",
       "\n",
       "    .dataframe tbody tr th {\n",
       "        vertical-align: top;\n",
       "    }\n",
       "\n",
       "    .dataframe thead th {\n",
       "        text-align: right;\n",
       "    }\n",
       "</style>\n",
       "<table border=\"1\" class=\"dataframe\">\n",
       "  <thead>\n",
       "    <tr style=\"text-align: right;\">\n",
       "      <th></th>\n",
       "      <th>BMI</th>\n",
       "      <th>Age</th>\n",
       "      <th>Neck</th>\n",
       "      <th>Chest</th>\n",
       "      <th>Abdomen</th>\n",
       "      <th>Hip</th>\n",
       "      <th>Thigh</th>\n",
       "      <th>Knee</th>\n",
       "      <th>Ankle</th>\n",
       "      <th>Biceps</th>\n",
       "      <th>Forearm</th>\n",
       "      <th>Wrist</th>\n",
       "    </tr>\n",
       "  </thead>\n",
       "  <tbody>\n",
       "    <tr>\n",
       "      <th>238</th>\n",
       "      <td>29.889392</td>\n",
       "      <td>67</td>\n",
       "      <td>40.7</td>\n",
       "      <td>118.3</td>\n",
       "      <td>106.1</td>\n",
       "      <td>101.6</td>\n",
       "      <td>58.2</td>\n",
       "      <td>38.8</td>\n",
       "      <td>24.1</td>\n",
       "      <td>32.1</td>\n",
       "      <td>29.3</td>\n",
       "      <td>18.5</td>\n",
       "    </tr>\n",
       "    <tr>\n",
       "      <th>143</th>\n",
       "      <td>29.839185</td>\n",
       "      <td>25</td>\n",
       "      <td>40.9</td>\n",
       "      <td>110.9</td>\n",
       "      <td>100.5</td>\n",
       "      <td>106.2</td>\n",
       "      <td>68.4</td>\n",
       "      <td>40.8</td>\n",
       "      <td>24.6</td>\n",
       "      <td>33.3</td>\n",
       "      <td>29.7</td>\n",
       "      <td>18.4</td>\n",
       "    </tr>\n",
       "    <tr>\n",
       "      <th>245</th>\n",
       "      <td>29.769898</td>\n",
       "      <td>74</td>\n",
       "      <td>40.8</td>\n",
       "      <td>112.4</td>\n",
       "      <td>108.5</td>\n",
       "      <td>107.1</td>\n",
       "      <td>59.3</td>\n",
       "      <td>42.2</td>\n",
       "      <td>24.6</td>\n",
       "      <td>33.7</td>\n",
       "      <td>30.0</td>\n",
       "      <td>20.9</td>\n",
       "    </tr>\n",
       "    <tr>\n",
       "      <th>174</th>\n",
       "      <td>29.733661</td>\n",
       "      <td>39</td>\n",
       "      <td>42.8</td>\n",
       "      <td>109.5</td>\n",
       "      <td>104.5</td>\n",
       "      <td>109.9</td>\n",
       "      <td>69.5</td>\n",
       "      <td>43.1</td>\n",
       "      <td>25.8</td>\n",
       "      <td>39.1</td>\n",
       "      <td>32.5</td>\n",
       "      <td>19.9</td>\n",
       "    </tr>\n",
       "    <tr>\n",
       "      <th>185</th>\n",
       "      <td>29.727796</td>\n",
       "      <td>42</td>\n",
       "      <td>41.8</td>\n",
       "      <td>115.2</td>\n",
       "      <td>113.7</td>\n",
       "      <td>112.4</td>\n",
       "      <td>68.5</td>\n",
       "      <td>45.0</td>\n",
       "      <td>25.5</td>\n",
       "      <td>37.1</td>\n",
       "      <td>31.2</td>\n",
       "      <td>19.9</td>\n",
       "    </tr>\n",
       "    <tr>\n",
       "      <th>...</th>\n",
       "      <td>...</td>\n",
       "      <td>...</td>\n",
       "      <td>...</td>\n",
       "      <td>...</td>\n",
       "      <td>...</td>\n",
       "      <td>...</td>\n",
       "      <td>...</td>\n",
       "      <td>...</td>\n",
       "      <td>...</td>\n",
       "      <td>...</td>\n",
       "      <td>...</td>\n",
       "      <td>...</td>\n",
       "    </tr>\n",
       "    <tr>\n",
       "      <th>51</th>\n",
       "      <td>19.877505</td>\n",
       "      <td>49</td>\n",
       "      <td>35.1</td>\n",
       "      <td>93.3</td>\n",
       "      <td>79.6</td>\n",
       "      <td>91.6</td>\n",
       "      <td>52.6</td>\n",
       "      <td>37.6</td>\n",
       "      <td>22.6</td>\n",
       "      <td>38.5</td>\n",
       "      <td>27.4</td>\n",
       "      <td>18.5</td>\n",
       "    </tr>\n",
       "    <tr>\n",
       "      <th>159</th>\n",
       "      <td>19.801821</td>\n",
       "      <td>34</td>\n",
       "      <td>36.0</td>\n",
       "      <td>89.2</td>\n",
       "      <td>83.4</td>\n",
       "      <td>89.6</td>\n",
       "      <td>52.4</td>\n",
       "      <td>35.6</td>\n",
       "      <td>20.4</td>\n",
       "      <td>28.3</td>\n",
       "      <td>26.2</td>\n",
       "      <td>16.5</td>\n",
       "    </tr>\n",
       "    <tr>\n",
       "      <th>148</th>\n",
       "      <td>19.662217</td>\n",
       "      <td>27</td>\n",
       "      <td>34.1</td>\n",
       "      <td>88.5</td>\n",
       "      <td>72.8</td>\n",
       "      <td>91.1</td>\n",
       "      <td>53.6</td>\n",
       "      <td>36.8</td>\n",
       "      <td>23.8</td>\n",
       "      <td>27.8</td>\n",
       "      <td>26.3</td>\n",
       "      <td>17.4</td>\n",
       "    </tr>\n",
       "    <tr>\n",
       "      <th>144</th>\n",
       "      <td>19.225922</td>\n",
       "      <td>25</td>\n",
       "      <td>35.2</td>\n",
       "      <td>92.3</td>\n",
       "      <td>76.5</td>\n",
       "      <td>92.1</td>\n",
       "      <td>51.9</td>\n",
       "      <td>35.7</td>\n",
       "      <td>22.0</td>\n",
       "      <td>25.8</td>\n",
       "      <td>25.2</td>\n",
       "      <td>16.9</td>\n",
       "    </tr>\n",
       "    <tr>\n",
       "      <th>43</th>\n",
       "      <td>19.042117</td>\n",
       "      <td>39</td>\n",
       "      <td>31.5</td>\n",
       "      <td>85.1</td>\n",
       "      <td>76.0</td>\n",
       "      <td>88.2</td>\n",
       "      <td>50.0</td>\n",
       "      <td>34.7</td>\n",
       "      <td>21.0</td>\n",
       "      <td>26.1</td>\n",
       "      <td>23.1</td>\n",
       "      <td>16.1</td>\n",
       "    </tr>\n",
       "  </tbody>\n",
       "</table>\n",
       "<p>223 rows × 12 columns</p>\n",
       "</div>"
      ],
      "text/plain": [
       "           BMI  Age  Neck  Chest  Abdomen    Hip  Thigh  Knee  Ankle  Biceps  \\\n",
       "238  29.889392   67  40.7  118.3    106.1  101.6   58.2  38.8   24.1    32.1   \n",
       "143  29.839185   25  40.9  110.9    100.5  106.2   68.4  40.8   24.6    33.3   \n",
       "245  29.769898   74  40.8  112.4    108.5  107.1   59.3  42.2   24.6    33.7   \n",
       "174  29.733661   39  42.8  109.5    104.5  109.9   69.5  43.1   25.8    39.1   \n",
       "185  29.727796   42  41.8  115.2    113.7  112.4   68.5  45.0   25.5    37.1   \n",
       "..         ...  ...   ...    ...      ...    ...    ...   ...    ...     ...   \n",
       "51   19.877505   49  35.1   93.3     79.6   91.6   52.6  37.6   22.6    38.5   \n",
       "159  19.801821   34  36.0   89.2     83.4   89.6   52.4  35.6   20.4    28.3   \n",
       "148  19.662217   27  34.1   88.5     72.8   91.1   53.6  36.8   23.8    27.8   \n",
       "144  19.225922   25  35.2   92.3     76.5   92.1   51.9  35.7   22.0    25.8   \n",
       "43   19.042117   39  31.5   85.1     76.0   88.2   50.0  34.7   21.0    26.1   \n",
       "\n",
       "     Forearm  Wrist  \n",
       "238     29.3   18.5  \n",
       "143     29.7   18.4  \n",
       "245     30.0   20.9  \n",
       "174     32.5   19.9  \n",
       "185     31.2   19.9  \n",
       "..       ...    ...  \n",
       "51      27.4   18.5  \n",
       "159     26.2   16.5  \n",
       "148     26.3   17.4  \n",
       "144     25.2   16.9  \n",
       "43      23.1   16.1  \n",
       "\n",
       "[223 rows x 12 columns]"
      ]
     },
     "execution_count": 7,
     "metadata": {},
     "output_type": "execute_result"
    }
   ],
   "source": [
    "X_data.sort_values(by=\"BMI\",ascending=False)"
   ]
  },
  {
   "cell_type": "code",
   "execution_count": 8,
   "id": "20d88b6e",
   "metadata": {},
   "outputs": [
    {
     "name": "stdout",
     "output_type": "stream",
     "text": [
      "Data with Obese people Included\n",
      "             Skew\n",
      "Ankle    2.289860\n",
      "BMI      1.639816\n",
      "Hip      1.606410\n",
      "Weight   1.292419\n",
      "Abdomen  0.897383\n",
      "Thigh    0.855690\n",
      "Chest    0.775233\n",
      "Neck     0.570604\n",
      "Knee     0.560494\n",
      "Biceps   0.287758\n",
      "Age      0.281010\n",
      "Wrist    0.270985\n",
      "BodyFat  0.173623\n",
      "Height   0.026071\n",
      "Density -0.090215\n",
      "Forearm -0.223953\n",
      "\n",
      "\n",
      "\n",
      "Data with Obese people removed\n",
      "             Skew\n",
      "Ankle    2.704831\n",
      "Age      0.292234\n",
      "Chest    0.223028\n",
      "Thigh    0.187763\n",
      "Knee     0.123080\n",
      "Biceps   0.092918\n",
      "BMI      0.075642\n",
      "Abdomen  0.073981\n",
      "Wrist    0.057410\n",
      "Hip      0.035170\n",
      "Forearm -0.060829\n",
      "Neck    -0.098120\n"
     ]
    }
   ],
   "source": [
    "#another way to check for normality of the columns\n",
    "print('Data with Obese people Included')\n",
    "print(data.skew().sort_values(ascending=False).to_frame().rename(columns={0:'Skew'}))\n",
    "print('\\n\\n')\n",
    "print('Data with Obese people removed')\n",
    "print(X_data.skew().sort_values(ascending=False).to_frame().rename(columns={0:'Skew'}))"
   ]
  },
  {
   "cell_type": "code",
   "execution_count": 9,
   "id": "176b63ca",
   "metadata": {},
   "outputs": [
    {
     "name": "stdout",
     "output_type": "stream",
     "text": [
      "check for normality of remaining skewed columns\n"
     ]
    },
    {
     "data": {
      "image/png": "[encoded data removed]",
      "text/plain": [
       "<Figure size 432x288 with 1 Axes>"
      ]
     },
     "metadata": {
      "needs_background": "light"
     },
     "output_type": "display_data"
    },
    {
     "data": {
      "image/png": "[encoded data removed]",
      "text/plain": [
       "<Figure size 432x288 with 1 Axes>"
      ]
     },
     "metadata": {
      "needs_background": "light"
     },
     "output_type": "display_data"
    },
    {
     "data": {
      "image/png": "[encoded data removed]",
      "text/plain": [
       "<Figure size 432x288 with 1 Axes>"
      ]
     },
     "metadata": {
      "needs_background": "light"
     },
     "output_type": "display_data"
    }
   ],
   "source": [
    "print('check for normality of remaining skewed columns')\n",
    "\n",
    "plt.subplot(3,1,1)\n",
    "stats.probplot(data['BMI'], dist=\"norm\", plot=pylab)\n",
    "pylab.title('Raw data BMI')\n",
    "pylab.show()\n",
    "\n",
    "plt.subplot(3,1,2)\n",
    "stats.probplot(X_data['BMI'], dist=\"norm\", plot=pylab)\n",
    "pylab.title('Raw data BMI Removed')\n",
    "pylab.show()\n",
    "\n",
    "plt.subplot(3,1,3)\n",
    "stats.probplot(data['Ankle'], dist=\"norm\", plot=pylab)\n",
    "pylab.title('Raw data Ankle')\n",
    "pylab.show()"
   ]
  },
  {
   "cell_type": "markdown",
   "id": "d70d7d76",
   "metadata": {},
   "source": [
    "Looks like Ankle Might have an outlier(s)"
   ]
  },
  {
   "cell_type": "code",
   "execution_count": 10,
   "id": "8a09a2d7",
   "metadata": {},
   "outputs": [
    {
     "name": "stdout",
     "output_type": "stream",
     "text": [
      "skewed column:  BMI\n",
      "skewed column:  Ankle\n",
      "Nonnormal variables include:\n",
      "['BMI', 'Ankle']\n"
     ]
    }
   ],
   "source": [
    "#This cell determines if our X data is Normal now that we have removed obese paitents\n",
    "\n",
    "X_cols = X_data.columns.to_list()\n",
    "\n",
    "skewlist = []\n",
    "for col in X_cols:\n",
    "    ob = normaltest(X_data[col])\n",
    "    if ob.pvalue < 0.05:\n",
    "        skewlist.append(col)\n",
    "        print('skewed column: ', col)\n",
    "        \n",
    "print('Nonnormal variables include:')        \n",
    "print(skewlist)\n"
   ]
  },
  {
   "cell_type": "code",
   "execution_count": 11,
   "id": "a0e607fe",
   "metadata": {},
   "outputs": [
    {
     "name": "stdout",
     "output_type": "stream",
     "text": [
      "Taking a look at the remaining Skewed columns\n"
     ]
    },
    {
     "data": {
      "image/png": "[encoded data removed]",
      "text/plain": [
       "<Figure size 432x288 with 2 Axes>"
      ]
     },
     "metadata": {
      "needs_background": "light"
     },
     "output_type": "display_data"
    }
   ],
   "source": [
    "print('Taking a look at the remaining Skewed columns')\n",
    "figure, axes = plt.subplots(nrows=2, ncols=1)\n",
    "plt.subplot(2,1,1)\n",
    "X_data.BMI.hist()\n",
    "plt.title('BMI')\n",
    "figure.tight_layout(pad=3.0)\n",
    "plt.subplot(2,1,2)\n",
    "plt.title('Ankle')\n",
    "X_data.Ankle.hist()\n",
    "plt.show()"
   ]
  },
  {
   "cell_type": "markdown",
   "id": "629f7b9e",
   "metadata": {},
   "source": [
    "It looks like there are remaining outliers in the ankle column.  Lets Explore"
   ]
  },
  {
   "cell_type": "code",
   "execution_count": 12,
   "id": "8fb0e7d7",
   "metadata": {},
   "outputs": [
    {
     "data": {
      "text/html": [
       "<div>\n",
       "<style scoped>\n",
       "    .dataframe tbody tr th:only-of-type {\n",
       "        vertical-align: middle;\n",
       "    }\n",
       "\n",
       "    .dataframe tbody tr th {\n",
       "        vertical-align: top;\n",
       "    }\n",
       "\n",
       "    .dataframe thead th {\n",
       "        text-align: right;\n",
       "    }\n",
       "</style>\n",
       "<table border=\"1\" class=\"dataframe\">\n",
       "  <thead>\n",
       "    <tr style=\"text-align: right;\">\n",
       "      <th></th>\n",
       "      <th>BMI</th>\n",
       "      <th>Age</th>\n",
       "      <th>Neck</th>\n",
       "      <th>Chest</th>\n",
       "      <th>Abdomen</th>\n",
       "      <th>Hip</th>\n",
       "      <th>Thigh</th>\n",
       "      <th>Knee</th>\n",
       "      <th>Ankle</th>\n",
       "      <th>Biceps</th>\n",
       "      <th>Forearm</th>\n",
       "      <th>Wrist</th>\n",
       "    </tr>\n",
       "  </thead>\n",
       "  <tbody>\n",
       "    <tr>\n",
       "      <th>30</th>\n",
       "      <td>23.523539</td>\n",
       "      <td>32</td>\n",
       "      <td>38.7</td>\n",
       "      <td>100.5</td>\n",
       "      <td>88.7</td>\n",
       "      <td>99.8</td>\n",
       "      <td>57.5</td>\n",
       "      <td>38.7</td>\n",
       "      <td>33.9</td>\n",
       "      <td>32.5</td>\n",
       "      <td>27.7</td>\n",
       "      <td>18.4</td>\n",
       "    </tr>\n",
       "    <tr>\n",
       "      <th>82</th>\n",
       "      <td>25.767023</td>\n",
       "      <td>67</td>\n",
       "      <td>36.5</td>\n",
       "      <td>98.9</td>\n",
       "      <td>89.7</td>\n",
       "      <td>96.2</td>\n",
       "      <td>54.7</td>\n",
       "      <td>37.8</td>\n",
       "      <td>33.7</td>\n",
       "      <td>32.4</td>\n",
       "      <td>27.7</td>\n",
       "      <td>18.2</td>\n",
       "    </tr>\n",
       "  </tbody>\n",
       "</table>\n",
       "</div>"
      ],
      "text/plain": [
       "          BMI  Age  Neck  Chest  Abdomen   Hip  Thigh  Knee  Ankle  Biceps  \\\n",
       "30  23.523539   32  38.7  100.5     88.7  99.8   57.5  38.7   33.9    32.5   \n",
       "82  25.767023   67  36.5   98.9     89.7  96.2   54.7  37.8   33.7    32.4   \n",
       "\n",
       "    Forearm  Wrist  \n",
       "30     27.7   18.4  \n",
       "82     27.7   18.2  "
      ]
     },
     "execution_count": 12,
     "metadata": {},
     "output_type": "execute_result"
    }
   ],
   "source": [
    "#grab the outlying ankle points\n",
    "Cankles = X_data[X_data['Ankle']>28]\n",
    "Cankles.head()"
   ]
  },
  {
   "cell_type": "code",
   "execution_count": 13,
   "id": "9a8aa00e",
   "metadata": {},
   "outputs": [
    {
     "name": "stdout",
     "output_type": "stream",
     "text": [
      "mean is of the whole column from the dataset\n",
      "stdev is of the whole column from the dataset\n",
      "Z scores for the rows with the outlying Ankle points\n"
     ]
    },
    {
     "data": {
      "text/html": [
       "<div>\n",
       "<style scoped>\n",
       "    .dataframe tbody tr th:only-of-type {\n",
       "        vertical-align: middle;\n",
       "    }\n",
       "\n",
       "    .dataframe tbody tr th {\n",
       "        vertical-align: top;\n",
       "    }\n",
       "\n",
       "    .dataframe thead th {\n",
       "        text-align: right;\n",
       "    }\n",
       "</style>\n",
       "<table border=\"1\" class=\"dataframe\">\n",
       "  <thead>\n",
       "    <tr style=\"text-align: right;\">\n",
       "      <th></th>\n",
       "      <th>mean</th>\n",
       "      <th>stdev</th>\n",
       "      <th>Z_30</th>\n",
       "      <th>Z_82</th>\n",
       "    </tr>\n",
       "  </thead>\n",
       "  <tbody>\n",
       "    <tr>\n",
       "      <th>BMI</th>\n",
       "      <td>24.653439</td>\n",
       "      <td>2.561873</td>\n",
       "      <td>-0.441044</td>\n",
       "      <td>0.434676</td>\n",
       "    </tr>\n",
       "    <tr>\n",
       "      <th>Neck</th>\n",
       "      <td>37.686547</td>\n",
       "      <td>2.138619</td>\n",
       "      <td>0.473882</td>\n",
       "      <td>-0.554819</td>\n",
       "    </tr>\n",
       "    <tr>\n",
       "      <th>Chest</th>\n",
       "      <td>99.269955</td>\n",
       "      <td>6.601170</td>\n",
       "      <td>0.186337</td>\n",
       "      <td>-0.056044</td>\n",
       "    </tr>\n",
       "    <tr>\n",
       "      <th>Abdomen</th>\n",
       "      <td>90.568610</td>\n",
       "      <td>8.417234</td>\n",
       "      <td>-0.221998</td>\n",
       "      <td>-0.103194</td>\n",
       "    </tr>\n",
       "    <tr>\n",
       "      <th>Hip</th>\n",
       "      <td>98.601345</td>\n",
       "      <td>5.323774</td>\n",
       "      <td>0.225151</td>\n",
       "      <td>-0.451061</td>\n",
       "    </tr>\n",
       "    <tr>\n",
       "      <th>Thigh</th>\n",
       "      <td>58.662780</td>\n",
       "      <td>4.401321</td>\n",
       "      <td>-0.264189</td>\n",
       "      <td>-0.900362</td>\n",
       "    </tr>\n",
       "    <tr>\n",
       "      <th>Knee</th>\n",
       "      <td>38.256054</td>\n",
       "      <td>2.090766</td>\n",
       "      <td>0.212337</td>\n",
       "      <td>-0.218128</td>\n",
       "    </tr>\n",
       "    <tr>\n",
       "      <th>Ankle</th>\n",
       "      <td>22.975336</td>\n",
       "      <td>1.617659</td>\n",
       "      <td>6.753378</td>\n",
       "      <td>6.629742</td>\n",
       "    </tr>\n",
       "    <tr>\n",
       "      <th>Biceps</th>\n",
       "      <td>31.907175</td>\n",
       "      <td>2.785021</td>\n",
       "      <td>0.212862</td>\n",
       "      <td>0.176956</td>\n",
       "    </tr>\n",
       "    <tr>\n",
       "      <th>Forearm</th>\n",
       "      <td>28.508072</td>\n",
       "      <td>1.878165</td>\n",
       "      <td>-0.430245</td>\n",
       "      <td>-0.430245</td>\n",
       "    </tr>\n",
       "    <tr>\n",
       "      <th>Wrist</th>\n",
       "      <td>18.143946</td>\n",
       "      <td>0.867868</td>\n",
       "      <td>0.295038</td>\n",
       "      <td>0.064588</td>\n",
       "    </tr>\n",
       "  </tbody>\n",
       "</table>\n",
       "</div>"
      ],
      "text/plain": [
       "              mean     stdev      Z_30      Z_82\n",
       "BMI      24.653439  2.561873 -0.441044  0.434676\n",
       "Neck     37.686547  2.138619  0.473882 -0.554819\n",
       "Chest    99.269955  6.601170  0.186337 -0.056044\n",
       "Abdomen  90.568610  8.417234 -0.221998 -0.103194\n",
       "Hip      98.601345  5.323774  0.225151 -0.451061\n",
       "Thigh    58.662780  4.401321 -0.264189 -0.900362\n",
       "Knee     38.256054  2.090766  0.212337 -0.218128\n",
       "Ankle    22.975336  1.617659  6.753378  6.629742\n",
       "Biceps   31.907175  2.785021  0.212862  0.176956\n",
       "Forearm  28.508072  1.878165 -0.430245 -0.430245\n",
       "Wrist    18.143946  0.867868  0.295038  0.064588"
      ]
     },
     "execution_count": 13,
     "metadata": {},
     "output_type": "execute_result"
    }
   ],
   "source": [
    "#deeper dive into the two 'Ankle' outliers\n",
    "\n",
    "X_cols = X_data.columns.to_list()\n",
    "\n",
    "#grab the mean and stdev of each column in the dataset\n",
    "a = X_data.mean()\n",
    "b = X_data.std()\n",
    "\n",
    "df_meta = pd.concat([a,b],axis=1,keys=['mean','stdev'])\n",
    "\n",
    "#construct a matrix to calculate the Z-scores for all features describing the observations with large ankle measurements.\n",
    "workingdata = Cankles.transpose()\n",
    "thirty = workingdata.loc[:,30]\n",
    "ei2 = workingdata.loc[:,82]\n",
    "\n",
    "#calculate Z scores for the outlying data points\n",
    "df_meta['Z_30'] = (thirty - df_meta['mean'])/df_meta['stdev']\n",
    "df_meta['Z_82'] = (ei2 - df_meta['mean'])/df_meta['stdev']\n",
    "\n",
    "print('mean is of the whole column from the dataset')\n",
    "print('stdev is of the whole column from the dataset')\n",
    "print('Z scores for the rows with the outlying Ankle points')\n",
    "\n",
    "#we really don't care about the age of the patient for this analysis\n",
    "df_meta = df_meta.drop(['Age'],axis=0)\n",
    "df_meta\n"
   ]
  },
  {
   "cell_type": "markdown",
   "id": "b1059388",
   "metadata": {},
   "source": [
    "We see that these two observations have measurements within 1 standard deviation of the mean for each feature except for Ankle.\n",
    "\n",
    "This leads me to believe that these data points are true outliers, possibly explained by measurement errors. \n",
    "\n",
    "These observations are removed from the analysis\n",
    "\n"
   ]
  },
  {
   "cell_type": "code",
   "execution_count": 14,
   "id": "9ea6027c",
   "metadata": {},
   "outputs": [],
   "source": [
    "#remove rows containing the outlying Ankle measurements\n",
    "Y_data=Y_data[X_data['Ankle']<30]\n",
    "X_data=X_data[X_data['Ankle']<30]\n"
   ]
  },
  {
   "cell_type": "code",
   "execution_count": 15,
   "id": "95f14f98",
   "metadata": {},
   "outputs": [
    {
     "name": "stdout",
     "output_type": "stream",
     "text": [
      "checking the skew of the data without the ankle outliers\n"
     ]
    },
    {
     "data": {
      "text/plain": [
       "Age        0.287797\n",
       "Chest      0.223845\n",
       "Ankle      0.194663\n",
       "Thigh      0.175550\n",
       "Knee       0.122536\n",
       "Neck       0.098850\n",
       "Biceps     0.097802\n",
       "BMI        0.075432\n",
       "Forearm    0.071734\n",
       "Abdomen    0.069302\n",
       "Wrist      0.061979\n",
       "Hip        0.032356\n",
       "dtype: float64"
      ]
     },
     "execution_count": 15,
     "metadata": {},
     "output_type": "execute_result"
    }
   ],
   "source": [
    "print('checking the skew of the data without the ankle outliers')\n",
    "\n",
    "X_data.skew().apply(abs).sort_values(ascending = False)"
   ]
  },
  {
   "cell_type": "markdown",
   "id": "e9b2d253",
   "metadata": {},
   "source": [
    "All columns are within acceptable skew limits."
   ]
  },
  {
   "cell_type": "code",
   "execution_count": 16,
   "id": "8ceab730",
   "metadata": {},
   "outputs": [
    {
     "data": {
      "text/plain": [
       "-0.013824911723240671"
      ]
     },
     "execution_count": 16,
     "metadata": {},
     "output_type": "execute_result"
    }
   ],
   "source": [
    "#boxcox transformation to normalize BMI column\n",
    "bc_result = boxcox(X_data.BMI)\n",
    "boxcox_BMI = bc_result[0]\n",
    "lam = bc_result[1]\n",
    "pd.Series(boxcox_BMI).skew()"
   ]
  },
  {
   "cell_type": "code",
   "execution_count": 17,
   "id": "06553e16",
   "metadata": {},
   "outputs": [
    {
     "name": "stdout",
     "output_type": "stream",
     "text": [
      "NormaltestResult(statistic=9.911185357125358, pvalue=0.007043904271179539)\n"
     ]
    },
    {
     "data": {
      "image/png": "[encoded data removed]",
      "text/plain": [
       "<Figure size 432x288 with 1 Axes>"
      ]
     },
     "metadata": {
      "needs_background": "light"
     },
     "output_type": "display_data"
    }
   ],
   "source": [
    "X_data['BMI'].hist()\n",
    "print(normaltest(X_data['BMI']))\n",
    "plt.title('BMI before transformation')\n",
    "plt.xlabel(X_data['BMI'].skew())\n",
    "plt.show()"
   ]
  },
  {
   "cell_type": "code",
   "execution_count": 18,
   "id": "f0536c7c",
   "metadata": {},
   "outputs": [
    {
     "name": "stdout",
     "output_type": "stream",
     "text": [
      "NormaltestResult(statistic=9.592389831077183, pvalue=0.008261121585162443)\n",
      "Boxcox failed to normalize\n"
     ]
    },
    {
     "data": {
      "image/png": "[encoded data removed]",
      "text/plain": [
       "<Figure size 432x288 with 1 Axes>"
      ]
     },
     "metadata": {
      "needs_background": "light"
     },
     "output_type": "display_data"
    }
   ],
   "source": [
    "pd.Series(boxcox_BMI).hist()\n",
    "print(normaltest(boxcox_BMI))\n",
    "plt.xlabel(pd.Series(boxcox_BMI).skew())\n",
    "print('Boxcox failed to normalize')\n",
    "\n"
   ]
  },
  {
   "cell_type": "markdown",
   "id": "55945cfe",
   "metadata": {},
   "source": [
    "Even with the boxcox transformation we are unable to normalize BMI.  \n",
    "Too many overweight people in the dataset.\n",
    "\n",
    "However, I think removing the overweight people would limit the robustness of the model."
   ]
  },
  {
   "cell_type": "code",
   "execution_count": 19,
   "id": "66317675",
   "metadata": {},
   "outputs": [
    {
     "name": "stdout",
     "output_type": "stream",
     "text": [
      "Do the linear regression with the BMI boxcox transformation\n",
      "\n",
      "\n",
      "Standardized Data\n",
      "r2 =  0.6588604485397735\n",
      "\n",
      "\n",
      "Unstandardized Data\n",
      "r2 =  0.6588604485397732\n"
     ]
    },
    {
     "data": {
      "text/plain": [
       "array([0.716735  , 0.41479759, 0.60762681])"
      ]
     },
     "execution_count": 19,
     "metadata": {},
     "output_type": "execute_result"
    }
   ],
   "source": [
    "print('Do the linear regression with the BMI boxcox transformation')\n",
    "\n",
    "#copy features and replace BMI with transformed version\n",
    "print('\\n')\n",
    "s = StandardScaler()\n",
    "df_bx = X_data.copy()\n",
    "df_bx['BMI']=boxcox_BMI\n",
    "\n",
    "X_train_b, X_test_b, y_train_b, y_test_b = train_test_split(df_bx, Y_data, test_size=0.3, random_state=72018)\n",
    "\n",
    "X_train_sb = s.fit_transform(X_train_b)\n",
    "X_test_sb = s.transform(X_test_b)\n",
    "\n",
    "print('Standardized Data')\n",
    "lrbs = LinearRegression()\n",
    "lrbs.fit(X_train_sb,y_train_b)\n",
    "y_pred_b = lrbs.predict(X_test_sb)\n",
    "rb = r2_score(y_test_b, y_pred_b)\n",
    "print('r2 = ', str(rb))\n",
    "\n",
    "print('\\n')\n",
    "print('Unstandardized Data')\n",
    "lrb = LinearRegression()\n",
    "lrb.fit(X_train_b,y_train_b)\n",
    "y_pred_b = lrb.predict(X_test_b)\n",
    "r = r2_score(y_test_b, y_pred_b)\n",
    "print('r2 = ', r)\n",
    "\n",
    "\n",
    "cross_val_score(lrb,df_bx,Y_data,cv=3)"
   ]
  },
  {
   "cell_type": "markdown",
   "id": "bb8fae37",
   "metadata": {},
   "source": [
    "### Initializing Data for remaining analysis - keep the splits the same for each flavor of regression.\n",
    "\n",
    "#### Model 2: Linear Regression without Polynomial Features"
   ]
  },
  {
   "cell_type": "code",
   "execution_count": 20,
   "id": "0cfec5af",
   "metadata": {},
   "outputs": [
    {
     "name": "stdout",
     "output_type": "stream",
     "text": [
      "Use this split for other models - no pfs\n"
     ]
    }
   ],
   "source": [
    "print('Use this split for other models - no pfs')\n",
    "\n",
    "X_train, X_test, y_train, y_test = train_test_split(X_data, Y_data, test_size=0.3, random_state=72018)\n",
    "X_train_s = s.fit_transform(X_train)\n",
    "X_test_s = s.transform(X_test)"
   ]
  },
  {
   "cell_type": "markdown",
   "id": "4aab645e",
   "metadata": {},
   "source": [
    "This cell is intended to compare a plain linear regression model using a standard BMI feature to the model above, which used the boxcox transformed BMI.\n"
   ]
  },
  {
   "cell_type": "code",
   "execution_count": 21,
   "id": "732d7fd0",
   "metadata": {},
   "outputs": [
    {
     "name": "stdout",
     "output_type": "stream",
     "text": [
      "Do the linear regression without the BMI boxcox transformation\n",
      "\n",
      "\n",
      "Unstandardized Data\n",
      "experimentation purpose only\n",
      "r2 =  0.6588604485397732\n",
      "sum of |coef| =  5.222499359838723\n",
      "\n",
      "\n",
      "Standardized Data\n",
      "r2 =  0.6595069658408614\n",
      "sum of |coef| =  14.80397900365175\n"
     ]
    },
    {
     "data": {
      "text/plain": [
       "array([0.71656651, 0.41441078, 0.60858326])"
      ]
     },
     "execution_count": 21,
     "metadata": {},
     "output_type": "execute_result"
    }
   ],
   "source": [
    "print('Do the linear regression without the BMI boxcox transformation')\n",
    "print('\\n')\n",
    "\n",
    "print('Unstandardized Data')\n",
    "print('experimentation purpose only')\n",
    "lrs = LinearRegression()\n",
    "lrs.fit(X_train,y_train)\n",
    "y_pred = lrs.predict(X_test)\n",
    "sumcoeff = abs(lrs.coef_).sum()\n",
    "print('r2 = ', r)\n",
    "r = r2_score(y_test,y_pred)\n",
    "print('sum of |coef| = ', sumcoeff)\n",
    "#cross_val_score(lrs,X_data,Y_data,cv=3)\n",
    "\n",
    "\n",
    "print('\\n')\n",
    "\n",
    "print('Standardized Data')\n",
    "\n",
    "#training the base linear regression model for comparison with regularization\n",
    "lr = LinearRegression()\n",
    "lr.fit(X_train_s,y_train)\n",
    "y_pred = lr.predict(X_test_s)\n",
    "r = r2_score(y_test,y_pred)\n",
    "print('r2 = ', r)\n",
    "sumcoeff = abs(lr.coef_).sum()\n",
    "print('sum of |coef| = ', sumcoeff)\n",
    "\n",
    "\n",
    "\n",
    "\n",
    "\n",
    "cross_val_score(lrs,X_data,Y_data,cv=3,scoring=\"r2\")"
   ]
  },
  {
   "cell_type": "markdown",
   "id": "a4e55d66",
   "metadata": {},
   "source": [
    "### The boxcox transform of BMI did not have any bearing on model performance.  \n"
   ]
  },
  {
   "cell_type": "code",
   "execution_count": 22,
   "id": "09d9a3f7",
   "metadata": {},
   "outputs": [],
   "source": [
    "from sklearn.linear_model import LassoCV, RidgeCV\n",
    "from sklearn.pipeline import Pipeline\n",
    "from sklearn.model_selection import GridSearchCV\n",
    "\n"
   ]
  },
  {
   "cell_type": "markdown",
   "id": "5a6ed892",
   "metadata": {},
   "source": [
    "### Model 3: Lasso Regression without Polynomial Features"
   ]
  },
  {
   "cell_type": "code",
   "execution_count": 23,
   "id": "dffddf5b",
   "metadata": {},
   "outputs": [
    {
     "name": "stdout",
     "output_type": "stream",
     "text": [
      "using the same test/train/split as LR above\n",
      "Lasso Regression\n",
      "alpha =  0.22255635039618565\n",
      "r2 = 0.6610996447632823\n",
      "10.090301326884902\n"
     ]
    }
   ],
   "source": [
    "print('using the same test/train/split as LR above')\n",
    "\n",
    "print('Lasso Regression')\n",
    "\n",
    "#Use the lassoCV function to come up with alpha\n",
    "\n",
    "lassoCV = LassoCV(alphas=None,\n",
    "                  max_iter=5e4,\n",
    "                  cv=3).fit(X_train_s, y_train)\n",
    "\n",
    "alpha = lassoCV.alpha_\n",
    "print('alpha = ', alpha)\n",
    "\n",
    "y_pred_lasso = lassoCV.predict(X_test_s)\n",
    "print('r2 =', r2_score(y_test,y_pred_lasso))\n",
    "\n",
    "print(abs(lassoCV.coef_).sum())\n",
    "\n"
   ]
  },
  {
   "cell_type": "code",
   "execution_count": 24,
   "id": "1b8081db",
   "metadata": {},
   "outputs": [
    {
     "name": "stdout",
     "output_type": "stream",
     "text": [
      "[0.71561876 0.42651604 0.6318831 ]\n"
     ]
    },
    {
     "data": {
      "image/png": "[encoded data removed]",
      "text/plain": [
       "<Figure size 432x288 with 1 Axes>"
      ]
     },
     "metadata": {
      "needs_background": "light"
     },
     "output_type": "display_data"
    }
   ],
   "source": [
    "plt.plot(y_pred_lasso,y_test,'o',[0,35],[0,35])\n",
    "plt.title('Lasso - no PF')\n",
    "print(cross_val_score(lassoCV, X_data, Y_data, cv=3))"
   ]
  },
  {
   "cell_type": "markdown",
   "id": "4251dd70",
   "metadata": {},
   "source": [
    "### Model 4: Ridge Regression without Polynomial Features"
   ]
  },
  {
   "cell_type": "code",
   "execution_count": 25,
   "id": "c77eeeee",
   "metadata": {},
   "outputs": [
    {
     "name": "stdout",
     "output_type": "stream",
     "text": [
      "Ridge Regression\n",
      "alpha =  9.665551839464882\n",
      "r2 = 0.6369213326320788\n",
      "sum of |coef| =  12.4184986777955\n",
      "Cross Val R2 = \n",
      "0.5790917970379036\n"
     ]
    }
   ],
   "source": [
    "print('Ridge Regression')\n",
    "\n",
    "alphas2 = np.linspace(0,10,300)\n",
    "\n",
    "ridgeCV = RidgeCV(alphas=alphas2,\n",
    "                  cv=3).fit(X_train_s, y_train)\n",
    "\n",
    "alpha = ridgeCV.alpha_\n",
    "\n",
    "print('alpha = ', alpha)\n",
    "\n",
    "y_pred_ridge = ridgeCV.predict(X_test_s)\n",
    "print('r2 =', r2_score(y_test,y_pred_ridge))\n",
    "coef = abs(ridgeCV.coef_).sum()\n",
    "\n",
    "print('sum of |coef| = ', coef)\n",
    "\n",
    "print('Cross Val R2 = ')\n",
    "print(cross_val_score(ridgeCV, s.fit_transform(X_data), Y_data, cv=3).mean())"
   ]
  },
  {
   "cell_type": "code",
   "execution_count": 26,
   "id": "eeacd823",
   "metadata": {},
   "outputs": [
    {
     "data": {
      "image/png": "[encoded data removed]",
      "text/plain": [
       "<Figure size 432x288 with 1 Axes>"
      ]
     },
     "metadata": {
      "needs_background": "light"
     },
     "output_type": "display_data"
    }
   ],
   "source": [
    "plt.plot(y_test,y_pred_ridge,'o',[0,35],[0,35])\n",
    "plt.title('Ridge - no PF')\n",
    "plt.xlabel('True Value')\n",
    "plt.ylabel('Prediction')\n",
    "plt.show()"
   ]
  },
  {
   "cell_type": "markdown",
   "id": "07ff9d18",
   "metadata": {},
   "source": [
    "### Comparing the coeficients of each feature for models 2-4"
   ]
  },
  {
   "cell_type": "code",
   "execution_count": 27,
   "id": "696e9da6",
   "metadata": {},
   "outputs": [
    {
     "name": "stdout",
     "output_type": "stream",
     "text": [
      "Looking at the Coefs of the models trained on standardized X_data\n",
      "\n",
      " with standardized data\n"
     ]
    },
    {
     "data": {
      "text/html": [
       "<div>\n",
       "<style scoped>\n",
       "    .dataframe tbody tr th:only-of-type {\n",
       "        vertical-align: middle;\n",
       "    }\n",
       "\n",
       "    .dataframe tbody tr th {\n",
       "        vertical-align: top;\n",
       "    }\n",
       "\n",
       "    .dataframe thead th {\n",
       "        text-align: right;\n",
       "    }\n",
       "</style>\n",
       "<table border=\"1\" class=\"dataframe\">\n",
       "  <thead>\n",
       "    <tr style=\"text-align: right;\">\n",
       "      <th></th>\n",
       "      <th>LR</th>\n",
       "      <th>Ridge</th>\n",
       "      <th>Lasso</th>\n",
       "    </tr>\n",
       "  </thead>\n",
       "  <tbody>\n",
       "    <tr>\n",
       "      <th>Abdomen</th>\n",
       "      <td>6.615432</td>\n",
       "      <td>4.780401</td>\n",
       "      <td>5.901866</td>\n",
       "    </tr>\n",
       "    <tr>\n",
       "      <th>Wrist</th>\n",
       "      <td>2.005245</td>\n",
       "      <td>1.723832</td>\n",
       "      <td>1.683965</td>\n",
       "    </tr>\n",
       "    <tr>\n",
       "      <th>BMI</th>\n",
       "      <td>2.105915</td>\n",
       "      <td>1.979395</td>\n",
       "      <td>1.183187</td>\n",
       "    </tr>\n",
       "    <tr>\n",
       "      <th>Age</th>\n",
       "      <td>0.930067</td>\n",
       "      <td>1.172316</td>\n",
       "      <td>0.754612</td>\n",
       "    </tr>\n",
       "    <tr>\n",
       "      <th>Neck</th>\n",
       "      <td>1.292544</td>\n",
       "      <td>0.939983</td>\n",
       "      <td>0.400140</td>\n",
       "    </tr>\n",
       "    <tr>\n",
       "      <th>Ankle</th>\n",
       "      <td>0.217619</td>\n",
       "      <td>0.414232</td>\n",
       "      <td>0.166531</td>\n",
       "    </tr>\n",
       "    <tr>\n",
       "      <th>Chest</th>\n",
       "      <td>0.259646</td>\n",
       "      <td>0.603475</td>\n",
       "      <td>0.000000</td>\n",
       "    </tr>\n",
       "    <tr>\n",
       "      <th>Hip</th>\n",
       "      <td>0.763956</td>\n",
       "      <td>0.147820</td>\n",
       "      <td>0.000000</td>\n",
       "    </tr>\n",
       "    <tr>\n",
       "      <th>Thigh</th>\n",
       "      <td>0.141944</td>\n",
       "      <td>0.325256</td>\n",
       "      <td>0.000000</td>\n",
       "    </tr>\n",
       "    <tr>\n",
       "      <th>Knee</th>\n",
       "      <td>0.008196</td>\n",
       "      <td>0.086471</td>\n",
       "      <td>0.000000</td>\n",
       "    </tr>\n",
       "    <tr>\n",
       "      <th>Biceps</th>\n",
       "      <td>0.324239</td>\n",
       "      <td>0.106938</td>\n",
       "      <td>0.000000</td>\n",
       "    </tr>\n",
       "    <tr>\n",
       "      <th>Forearm</th>\n",
       "      <td>0.139176</td>\n",
       "      <td>0.138378</td>\n",
       "      <td>0.000000</td>\n",
       "    </tr>\n",
       "  </tbody>\n",
       "</table>\n",
       "</div>"
      ],
      "text/plain": [
       "               LR     Ridge     Lasso\n",
       "Abdomen  6.615432  4.780401  5.901866\n",
       "Wrist    2.005245  1.723832  1.683965\n",
       "BMI      2.105915  1.979395  1.183187\n",
       "Age      0.930067  1.172316  0.754612\n",
       "Neck     1.292544  0.939983  0.400140\n",
       "Ankle    0.217619  0.414232  0.166531\n",
       "Chest    0.259646  0.603475  0.000000\n",
       "Hip      0.763956  0.147820  0.000000\n",
       "Thigh    0.141944  0.325256  0.000000\n",
       "Knee     0.008196  0.086471  0.000000\n",
       "Biceps   0.324239  0.106938  0.000000\n",
       "Forearm  0.139176  0.138378  0.000000"
      ]
     },
     "execution_count": 27,
     "metadata": {},
     "output_type": "execute_result"
    }
   ],
   "source": [
    "print('Looking at the Coefs of the models trained on standardized X_data')\n",
    "print('\\n with standardized data')\n",
    "\n",
    "cols = X_data.columns.to_list()\n",
    "lrc = lr.coef_\n",
    "lasc = lassoCV.coef_\n",
    "ridgec = ridgeCV.coef_\n",
    "dict1 = {'LR':lrc,'Ridge': ridgec, 'Lasso':lasc}\n",
    "noPFdf = pd.DataFrame(dict1,index=cols)\n",
    "\n",
    "#pd.DataFrame(noPFdf.abs)\n",
    "\n",
    "noPFdf.abs().sort_values(by='Lasso',ascending=False)"
   ]
  },
  {
   "cell_type": "markdown",
   "id": "9f4250b9",
   "metadata": {},
   "source": [
    "### Degree 2 PFs"
   ]
  },
  {
   "cell_type": "code",
   "execution_count": 28,
   "id": "60b70b88",
   "metadata": {},
   "outputs": [],
   "source": [
    "#2nd degree polynomial features\n",
    "\n",
    "pf = PolynomialFeatures(degree=2, include_bias=False)\n",
    "X_poly2 = pf.fit_transform(X_data)\n",
    "\n",
    "X_train, X_test, y_train, y_test = train_test_split(X_poly2, Y_data, test_size=0.3, \n",
    "                                                    random_state=72018)\n",
    "X_train_s2 = s.fit_transform(X_train)\n",
    "X_test_s2 = s.transform(X_test)"
   ]
  },
  {
   "cell_type": "markdown",
   "id": "7a767d74",
   "metadata": {},
   "source": [
    "#### Model 5 - Linear regression - Degree 2 PFs"
   ]
  },
  {
   "cell_type": "code",
   "execution_count": 29,
   "id": "133589c6",
   "metadata": {},
   "outputs": [
    {
     "name": "stdout",
     "output_type": "stream",
     "text": [
      "Linear Regression - 2nd degree\n",
      "r2 = 0.42004598800480486\n"
     ]
    },
    {
     "data": {
      "image/png": "[encoded data removed]",
      "text/plain": [
       "<Figure size 432x288 with 1 Axes>"
      ]
     },
     "metadata": {
      "needs_background": "light"
     },
     "output_type": "display_data"
    }
   ],
   "source": [
    "print('Linear Regression - 2nd degree')\n",
    "\n",
    "lr2 = LinearRegression()\n",
    "lr2.fit(X_train_s2,y_train)\n",
    "y_pred = lr2.predict(X_test_s2)\n",
    "\n",
    "r = r2_score(y_test,y_pred)\n",
    "\n",
    "print('r2 =', r)\n",
    "\n",
    "plt.plot(y_pred,y_test,'o',[0,35],[0,35])\n",
    "plt.title('Linear - 2 deg PF')\n",
    "plt.show()"
   ]
  },
  {
   "cell_type": "markdown",
   "id": "7e315aea",
   "metadata": {},
   "source": [
    "### Model 6 - Ridge Regression - degree 2 PFs"
   ]
  },
  {
   "cell_type": "code",
   "execution_count": 30,
   "id": "4d41c388",
   "metadata": {},
   "outputs": [
    {
     "name": "stdout",
     "output_type": "stream",
     "text": [
      "Ridge Regression - 2nd degree\n",
      "alpha =  56.785714285714285\n",
      "r2 = 0.6333990612032756\n",
      "15.798597744936808\n"
     ]
    },
    {
     "data": {
      "image/png": "[encoded data removed]",
      "text/plain": [
       "<Figure size 432x288 with 1 Axes>"
      ]
     },
     "metadata": {
      "needs_background": "light"
     },
     "output_type": "display_data"
    }
   ],
   "source": [
    "print('Ridge Regression - 2nd degree')\n",
    "\n",
    "alphas2 = np.linspace(55,60, 15)\n",
    "\n",
    "ridgeCV2 = RidgeCV(alphas=alphas2,\n",
    "                  cv=3).fit(X_train_s2, y_train)\n",
    "\n",
    "#lassoCV_rmse = rmse(y_test, lassoCV.predict(X_test))\n",
    "alpha = ridgeCV2.alpha_\n",
    "\n",
    "print('alpha = ', alpha)\n",
    "\n",
    "y_pred_ridge = ridgeCV2.predict(X_test_s2)\n",
    "print('r2 =', r2_score(y_test,y_pred_ridge))\n",
    "\n",
    "plt.plot(y_pred_ridge,y_test,'o',[0,35],[0,35])\n",
    "plt.title('Ridge - 2 deg PF')\n",
    "#print('Cross Val R2 = ')\n",
    "#print(cross_val_score(ridgeCV, X_data, Y_data, cv=3))\n",
    "\n",
    "print(abs(ridgeCV2.coef_).sum())\n"
   ]
  },
  {
   "cell_type": "markdown",
   "id": "2747fdce",
   "metadata": {},
   "source": [
    "### Model 7 - Lasso Regression - degree 2 PFs"
   ]
  },
  {
   "cell_type": "code",
   "execution_count": 31,
   "id": "ff98add3",
   "metadata": {},
   "outputs": [
    {
     "name": "stdout",
     "output_type": "stream",
     "text": [
      "using the same 2nd order pf and test/train/split as Ridge above\n",
      "Lasso Regression - 2nd degree\n",
      "alpha =  0.2571428571428571\n",
      "r2 = 0.6603979823818057\n",
      "9.677783160933009\n"
     ]
    }
   ],
   "source": [
    "print('using the same 2nd order pf and test/train/split as Ridge above')\n",
    "\n",
    "\n",
    "print('Lasso Regression - 2nd degree')\n",
    "\n",
    "#Use the lassoCV function to come up with alpha\n",
    "\n",
    "lassoCV2 = LassoCV(alphas=np.linspace(.20,.3,8),\n",
    "                  max_iter=5e4,\n",
    "                  cv=3).fit(X_train_s2, y_train)\n",
    "\n",
    "alpha = lassoCV2.alpha_\n",
    "print('alpha = ', alpha)\n",
    "\n",
    "y_pred_lasso = lassoCV2.predict(X_test_s2)\n",
    "print('r2 =', r2_score(y_test,y_pred_lasso))\n",
    "\n",
    "print(abs(lassoCV2.coef_).sum())\n",
    "\n"
   ]
  },
  {
   "cell_type": "markdown",
   "id": "84bfa6c8",
   "metadata": {},
   "source": [
    "### Degree 4 PFs"
   ]
  },
  {
   "cell_type": "code",
   "execution_count": 32,
   "id": "fe052492",
   "metadata": {},
   "outputs": [],
   "source": [
    "pf4 = PolynomialFeatures(degree=4, include_bias=False)\n",
    "X_polyg = pf4.fit_transform(X_data)\n",
    "\n",
    "X_train, X_test, y_train, y_test = train_test_split(X_polyg, Y_data, test_size=0.3, \n",
    "                                                    random_state=72018)\n",
    "\n",
    "X_train_sg = s.fit_transform(X_train)\n",
    "X_test_sg = s.transform(X_test)"
   ]
  },
  {
   "cell_type": "markdown",
   "id": "7043933a",
   "metadata": {},
   "source": [
    "### Model 8 - Ridge Regression - degree 4 PFs"
   ]
  },
  {
   "cell_type": "code",
   "execution_count": 33,
   "id": "6f142715",
   "metadata": {},
   "outputs": [
    {
     "name": "stdout",
     "output_type": "stream",
     "text": [
      "Ridge Regression\n",
      "alpha =  741.4141414141415\n",
      "r2 = 0.6119352857589342\n",
      "20.9038591948963\n"
     ]
    },
    {
     "data": {
      "image/png": "[encoded data removed]",
      "text/plain": [
       "<Figure size 432x288 with 1 Axes>"
      ]
     },
     "metadata": {
      "needs_background": "light"
     },
     "output_type": "display_data"
    }
   ],
   "source": [
    "print('Ridge Regression')\n",
    "a = 700\n",
    "b = 800\n",
    "alphas2 = np.linspace(a,b, 100)\n",
    "\n",
    "ridgeCV = RidgeCV(alphas=alphas2,\n",
    "                  cv=3).fit(X_train_sg, y_train)\n",
    "\n",
    "#lassoCV_rmse = rmse(y_test, lassoCV.predict(X_test))\n",
    "alpha = ridgeCV.alpha_\n",
    "\n",
    "print('alpha = ', alpha)\n",
    "\n",
    "y_pred_ridge = ridgeCV.predict(X_test_sg)\n",
    "print('r2 =', r2_score(y_test,y_pred_ridge))\n",
    "\n",
    "plt.plot(y_pred_ridge,y_test,'o',[0,35],[0,35])\n",
    "plt.title('Ridge - 3 deg PF')\n",
    "#print('Cross Val R2 = ')\n",
    "#print(cross_val_score(ridgeCV, X_data, Y_data, cv=3))7\n",
    "\n",
    "\n",
    "print(abs(ridgeCV.coef_).sum())\n"
   ]
  },
  {
   "cell_type": "markdown",
   "id": "1103ea73",
   "metadata": {},
   "source": [
    "### Model 9 - Lasso Regression - degree 4 PFs"
   ]
  },
  {
   "cell_type": "code",
   "execution_count": 34,
   "id": "ee2926dc",
   "metadata": {},
   "outputs": [
    {
     "name": "stdout",
     "output_type": "stream",
     "text": [
      "using the same 4th order pf and test/train/split as Ridge above\n",
      "Lasso Regression\n",
      "alpha =  0.2857142857142857\n",
      "r2 = 0.6604355510569477\n",
      "9.336873110015224\n"
     ]
    }
   ],
   "source": [
    "print('using the same 4th order pf and test/train/split as Ridge above')\n",
    "\n",
    "print('Lasso Regression')\n",
    "\n",
    "#Use the lassoCV function to come up with alpha\n",
    "\n",
    "\n",
    "lassoCV = LassoCV(alphas=np.linspace(.2,.3,8),\n",
    "                  max_iter=5e4,\n",
    "                  cv=3).fit(X_train_sg, y_train)\n",
    "\n",
    "#lassoCV_rmse = rmse(y_test, lassoCV.predict(X_test))\n",
    "alpha = lassoCV.alpha_\n",
    "print('alpha = ', alpha)\n",
    "\n",
    "y_pred_lasso = lassoCV.predict(X_test_sg)\n",
    "print('r2 =', r2_score(y_test,y_pred_lasso))\n",
    "\n",
    "print(abs(lassoCV.coef_).sum())\n",
    "\n"
   ]
  },
  {
   "cell_type": "markdown",
   "id": "bc7d82b9",
   "metadata": {},
   "source": [
    "## GridSearch \n",
    "\n",
    "### Ridge"
   ]
  },
  {
   "cell_type": "code",
   "execution_count": 35,
   "id": "330af348",
   "metadata": {},
   "outputs": [],
   "source": [
    "estimator = Pipeline([(\"scaler\", StandardScaler()),\n",
    "        (\"polynomial_features\", PolynomialFeatures()),\n",
    "        (\"ridge_regression\", Ridge())])\n",
    "\n",
    "params = {\n",
    "    'polynomial_features__degree': [1,2,3],\n",
    "    'ridge_regression__alpha': np.geomspace(2.5, 15, 30)\n",
    "}\n",
    "\n",
    "r_grid = GridSearchCV(estimator, params, cv=3)"
   ]
  },
  {
   "cell_type": "code",
   "execution_count": 36,
   "id": "6fcb329f",
   "metadata": {},
   "outputs": [
    {
     "name": "stdout",
     "output_type": "stream",
     "text": [
      "0.5832883097851893 {'polynomial_features__degree': 1, 'ridge_regression__alpha': 3.0091124245911667}\n"
     ]
    },
    {
     "data": {
      "text/plain": [
       "0.6880295802967116"
      ]
     },
     "execution_count": 36,
     "metadata": {},
     "output_type": "execute_result"
    }
   ],
   "source": [
    "r_grid.fit(X_data, Y_data)\n",
    "print(r_grid.best_score_, r_grid.best_params_)\n",
    "gp = r_grid.predict(X_data)\n",
    "r2_score(Y_data,gp)"
   ]
  },
  {
   "cell_type": "markdown",
   "id": "0a6d9724",
   "metadata": {},
   "source": [
    "### Lasso"
   ]
  },
  {
   "cell_type": "code",
   "execution_count": 37,
   "id": "aba08142",
   "metadata": {},
   "outputs": [],
   "source": [
    "estimator = Pipeline([(\"scaler\", StandardScaler()),\n",
    "        (\"polynomial_features\", PolynomialFeatures()),\n",
    "        (\"Lasso_regression\", Lasso(max_iter=5e5))])\n",
    "\n",
    "params = {\n",
    "    'polynomial_features__degree': [1,2,3],\n",
    "    'Lasso_regression__alpha': np.geomspace(.001, 1, 10)\n",
    "}\n",
    "\n",
    "a_grid = GridSearchCV(estimator, params, cv=3)\n"
   ]
  },
  {
   "cell_type": "code",
   "execution_count": 38,
   "id": "7ddd4a93",
   "metadata": {},
   "outputs": [
    {
     "name": "stdout",
     "output_type": "stream",
     "text": [
      "0.6199245257636469 {'Lasso_regression__alpha': 0.21544346900318823, 'polynomial_features__degree': 2}\n"
     ]
    },
    {
     "data": {
      "text/plain": [
       "0.6992715996993318"
      ]
     },
     "execution_count": 38,
     "metadata": {},
     "output_type": "execute_result"
    }
   ],
   "source": [
    "a_grid.fit(X_data, Y_data)\n",
    "print(a_grid.best_score_, a_grid.best_params_)\n",
    "gp = a_grid.predict(X_data)\n",
    "r2_score(Y_data,gp)"
   ]
  },
  {
   "cell_type": "markdown",
   "id": "21537f56",
   "metadata": {},
   "source": [
    "# General Note"
   ]
  },
  {
   "cell_type": "code",
   "execution_count": 39,
   "id": "1a929bc1",
   "metadata": {},
   "outputs": [
    {
     "name": "stdout",
     "output_type": "stream",
     "text": [
      "correct:\n",
      "test/pred =  0.42004598800480486\n",
      "incorrect:\n",
      "pred/test =  0.41570028679386384\n"
     ]
    }
   ],
   "source": [
    "#the IBM course had the order of r2_scores arguements messed up in some locations\n",
    "#the code below was for my own sanity!!!\n",
    "\n",
    "r = r2_score(y_test,y_pred)\n",
    "print('correct:')\n",
    "print('test/pred = ', r )\n",
    "r = r2_score(y_pred,y_test)\n",
    "print('incorrect:')\n",
    "print('pred/test = ', r )\n"
   ]
  }
 ],
 "metadata": {
  "kernelspec": {
   "display_name": "Python 3",
   "language": "python",
   "name": "python3"
  },
  "language_info": {
   "codemirror_mode": {
    "name": "ipython",
    "version": 3
   },
   "file_extension": ".py",
   "mimetype": "text/x-python",
   "name": "python",
   "nbconvert_exporter": "python",
   "pygments_lexer": "ipython3",
   "version": "3.6.13"
  }
 },
 "nbformat": 4,
 "nbformat_minor": 5
}
