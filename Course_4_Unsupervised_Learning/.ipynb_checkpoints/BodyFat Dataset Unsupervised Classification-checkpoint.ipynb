{
 "cells": [
  {
   "cell_type": "code",
   "execution_count": 1,
   "id": "c2200325",
   "metadata": {},
   "outputs": [],
   "source": [
    "import pandas as pd\n",
    "import os\n",
    "import seaborn as sns\n",
    "import numpy as np\n",
    "import matplotlib.pyplot as plt\n",
    "import scipy.stats as stats\n",
    "import scipy"
   ]
  },
  {
   "cell_type": "code",
   "execution_count": 2,
   "id": "9c1e461c",
   "metadata": {},
   "outputs": [],
   "source": [
    "from sklearn.model_selection import KFold, cross_val_predict,cross_val_score\n",
    "from sklearn.linear_model import LinearRegression, Lasso, Ridge\n",
    "from sklearn.model_selection import train_test_split\n",
    "from sklearn.metrics import r2_score\n",
    "from sklearn.linear_model import LassoCV, RidgeCV"
   ]
  },
  {
   "cell_type": "code",
   "execution_count": 3,
   "id": "438e849e",
   "metadata": {},
   "outputs": [],
   "source": [
    "def check_skew(df):\n",
    "    \"\"\"function to check the normality of the float columns of a dataframe. Uses D'Agostino's K-Squared test\"\"\"\n",
    "    \n",
    "    skewlist=[]\n",
    "    vallist=[]\n",
    "    \n",
    "    X_cols=df.select_dtypes(include='float').columns.to_list()\n",
    "\n",
    "    for col in X_cols:\n",
    "        ob=normaltest(df[col])\n",
    "        if ob.pvalue < 0.05:\n",
    "            skewlist.append(col)\n",
    "            vallist.append(min(df[col])) #keep track of min value to ensure we are only working with nonnegative data\n",
    "            \n",
    "    return skewlist, vallist       \n"
   ]
  },
  {
   "cell_type": "code",
   "execution_count": 4,
   "id": "1758313e",
   "metadata": {},
   "outputs": [],
   "source": [
    "from scipy.stats.mstats import normaltest # D'Agostino K^2 Test\n",
    "from sklearn.preprocessing import StandardScaler"
   ]
  },
  {
   "cell_type": "markdown",
   "id": "ca20519a",
   "metadata": {},
   "source": [
    "**Load in dataset after EDA and cleaning.** \n",
    "\n",
    "See Course 1 for details."
   ]
  },
  {
   "cell_type": "code",
   "execution_count": 5,
   "id": "1c48ee3c",
   "metadata": {},
   "outputs": [],
   "source": [
    "df_cleaner=pd.read_csv('df_clean.csv')"
   ]
  },
  {
   "cell_type": "code",
   "execution_count": 6,
   "id": "358bb334",
   "metadata": {},
   "outputs": [],
   "source": [
    "df_coef=pd.DataFrame() #initialize dataframe to store R2 coefficients for comparison"
   ]
  },
  {
   "cell_type": "code",
   "execution_count": 7,
   "id": "a412e961",
   "metadata": {},
   "outputs": [],
   "source": [
    "df=df_cleaner.copy() #df used to check skews and normalize \n",
    "df_bmi=df_cleaner.copy() #keep this copy before all the transformations so that \n",
    "#list of groups can be appended to a human interpretable version"
   ]
  },
  {
   "cell_type": "markdown",
   "id": "caf01d4d",
   "metadata": {},
   "source": [
    "### Split the dataset"
   ]
  },
  {
   "cell_type": "code",
   "execution_count": 8,
   "id": "42894658",
   "metadata": {},
   "outputs": [],
   "source": [
    "X_data=df_cleaner.drop(columns=['BodyFat', 'Density'])\n",
    "Y_data=df_cleaner['BodyFat']\n",
    "\n",
    "#transform skewed distributions\n",
    "\n",
    "skew,_=check_skew(X_data)\n",
    "\n",
    "for x in skew:\n",
    "    X_data[x]=np.log(X_data[x])\n",
    "\n",
    "X_train, X_test, y_train, y_test=train_test_split(X_data, Y_data, test_size=0.3, random_state=72018)"
   ]
  },
  {
   "cell_type": "markdown",
   "id": "cbe1c529",
   "metadata": {},
   "source": [
    "# Baseline Lasso Regression - No Clustering"
   ]
  },
  {
   "cell_type": "code",
   "execution_count": 9,
   "id": "51840381",
   "metadata": {},
   "outputs": [
    {
     "name": "stdout",
     "output_type": "stream",
     "text": [
      "Lasso Regression\n",
      "alpha = 0.037289473684210525\n"
     ]
    }
   ],
   "source": [
    "s=StandardScaler()\n",
    "\n",
    "X_train_s=s.fit_transform(X_train)\n",
    "X_test_s=s.transform(X_test)\n",
    "\n",
    "print('Lasso Regression')\n",
    "\n",
    "#Use the lassoCV function to tune alpha\n",
    "\n",
    "lassoCV=LassoCV(alphas=np.linspace(.0065,.065,20),\n",
    "                  max_iter=5e4,\n",
    "                  cv=3).fit(X_train_s, y_train)\n",
    "\n",
    "alpha=lassoCV.alpha_\n",
    "print('alpha =', alpha)\n",
    "\n",
    "y_pred_lasso=lassoCV.predict(X_test_s)\n",
    "r2=r2_score(y_test,y_pred_lasso)"
   ]
  },
  {
   "cell_type": "code",
   "execution_count": 10,
   "id": "de0f1b94",
   "metadata": {},
   "outputs": [
    {
     "name": "stdout",
     "output_type": "stream",
     "text": [
      "Lasso Regression\n",
      "alpha = 0.037289473684210525\n",
      "r2 = 0.6762184193092151\n",
      "sum of coef =  15.959933619993802\n"
     ]
    }
   ],
   "source": [
    "s=StandardScaler()\n",
    "\n",
    "X_train_s=s.fit_transform(X_train)\n",
    "X_test_s=s.transform(X_test)\n",
    "\n",
    "print('Lasso Regression')\n",
    "\n",
    "#Use the lassoCV function to tune alpha\n",
    "\n",
    "lassoCV=LassoCV(alphas=np.linspace(.0065,.065,20),\n",
    "                  max_iter=5e4,\n",
    "                  cv=3).fit(X_train_s, y_train)\n",
    "\n",
    "alpha=lassoCV.alpha_\n",
    "print('alpha =', alpha)\n",
    "\n",
    "y_pred_lasso=lassoCV.predict(X_test_s)\n",
    "r2=r2_score(y_test,y_pred_lasso)\n",
    "\n",
    "#these try/except blocks were required in development because the axes of df_coef are transposed at the end.\n",
    "#they are not required for running and reading unless changes are made to the hyperparameters.\n",
    "\n",
    "try:\n",
    "    df_coef['NO_Cluster']=[r2, len(X_data)]\n",
    "    \n",
    "except:\n",
    "    df_coef.loc['NO_Cluster','R2']=r2\n",
    "    df_coef.loc['NO_Cluster','NumPoints']=len(X_data)\n",
    "\n",
    "print('r2 =', r2)\n",
    "\n",
    "print('sum of coef = ',abs(lassoCV.coef_).sum())"
   ]
  },
  {
   "cell_type": "markdown",
   "id": "e7fdab80",
   "metadata": {},
   "source": [
    "**Feature Importances**"
   ]
  },
  {
   "cell_type": "code",
   "execution_count": 11,
   "id": "acfa23eb",
   "metadata": {},
   "outputs": [],
   "source": [
    "lasc=lassoCV.coef_\n",
    "cols=X_data.columns.to_list()\n",
    "coefdf=pd.DataFrame(lasc,cols)\n",
    "coefdf.rename({0:'LASSO'},axis=1,inplace=True)"
   ]
  },
  {
   "cell_type": "markdown",
   "id": "27518915",
   "metadata": {},
   "source": [
    "The intuition motivated goal of the unsupervised clustering is to see if the models are able to identify the obese/not obese split at BMI=25.  \n",
    "\n",
    "However, any cluster which normalizes feature distributions could provide an improvement to the regression models.\n",
    "\n",
    "Perhaps the algorithms will give some surprising results."
   ]
  },
  {
   "cell_type": "code",
   "execution_count": 12,
   "id": "f8f14c94",
   "metadata": {},
   "outputs": [],
   "source": [
    "df_final=df_bmi.copy() #df to label the cluster assignments of each algorithm\n",
    "\n",
    "df=df_bmi.copy().drop(columns='BMI') #untransformed (skewed) data with the BMI column dropped -\n",
    "#                                     I don't want to give any hints to the algorithm "
   ]
  },
  {
   "cell_type": "markdown",
   "id": "f5d11139",
   "metadata": {},
   "source": [
    "The X dataframe will be used for all clustering algorithms.   I want to leave the BMI feature off to see if it can \n",
    "#be found through clustering."
   ]
  },
  {
   "cell_type": "code",
   "execution_count": 13,
   "id": "ceb92599",
   "metadata": {},
   "outputs": [],
   "source": [
    "Xu=df.drop(columns=['Density','BodyFat']) #these are related to targets\n",
    "y=df['BodyFat']\n",
    "\n",
    "skewed,l=check_skew(Xu)\n",
    "\n",
    "#normalize the distributions for the KNN algorithm\n",
    "for i in skewed:\n",
    "    Xu[i]=np.log(Xu[i])\n",
    "\n",
    "s=StandardScaler() #scaling is important for distance based algorithms\n",
    "X=s.fit_transform(Xu)"
   ]
  },
  {
   "cell_type": "markdown",
   "id": "fedfe092",
   "metadata": {},
   "source": [
    "# DMDBSCAN Clustering"
   ]
  },
  {
   "cell_type": "markdown",
   "id": "59c760fc",
   "metadata": {},
   "source": [
    "DM stands for Dynamic Method, and is a technique for determining the optimal epsilon in the DBSCAN algorithm.\n",
    "\n",
    "This technique was developed to handle datasets with clusters of varying densities.\n",
    "\n",
    "In this case, we do not have density variation amongst clusters - this technique is simply used to find the radius to the outliers."
   ]
  },
  {
   "cell_type": "code",
   "execution_count": 14,
   "id": "1179d5e2",
   "metadata": {},
   "outputs": [],
   "source": [
    "from sklearn.cluster import DBSCAN\n",
    "from sklearn.neighbors import NearestNeighbors\n",
    "\n",
    "#the combination of these two will yield the DMDBSCAN algorithm"
   ]
  },
  {
   "cell_type": "markdown",
   "id": "871dc77d",
   "metadata": {},
   "source": [
    "Code to compute the distance to the nearest neighbor for each point."
   ]
  },
  {
   "cell_type": "code",
   "execution_count": 15,
   "id": "6077ba43",
   "metadata": {},
   "outputs": [],
   "source": [
    "neigh=NearestNeighbors(n_neighbors=5)\n",
    "nbrs=neigh.fit(X)\n",
    "distances,indices=nbrs.kneighbors(X)"
   ]
  },
  {
   "cell_type": "markdown",
   "id": "ea41cefd",
   "metadata": {},
   "source": [
    "Plot the distance to the nearest neighbor for each point. This plot is used to choose epsilon for DBSCAN."
   ]
  },
  {
   "cell_type": "code",
   "execution_count": 16,
   "id": "d03ee8f0",
   "metadata": {},
   "outputs": [
    {
     "data": {
      "text/plain": [
       "Text(0.5, 1.0, 'DMDBSCAN - epsilon')"
      ]
     },
     "execution_count": 16,
     "metadata": {},
     "output_type": "execute_result"
    },
    {
     "data": {
      "image/png": "[encoded data removed]",
      "text/plain": [
       "<Figure size 432x288 with 1 Axes>"
      ]
     },
     "metadata": {
      "needs_background": "light"
     },
     "output_type": "display_data"
    }
   ],
   "source": [
    "distances=np.sort(distances, axis=0) #sorts each points distance to neighbor\n",
    "distances1=distances[:,1] #keep the first nonzero entry of each row array\n",
    "plt.plot(distances1)\n",
    "\n",
    "plt.xlabel('point number')\n",
    "plt.ylabel('distance to nearest neighbor (ep)')\n",
    "plt.title('DMDBSCAN - epsilon')"
   ]
  },
  {
   "cell_type": "markdown",
   "id": "7646c68f",
   "metadata": {},
   "source": [
    "We see that distances to the nearest neighbor increase drastically at point number ~230. Use this distance value as epsilon."
   ]
  },
  {
   "cell_type": "markdown",
   "id": "99e79e26",
   "metadata": {},
   "source": [
    "The next hyperparameter is the minimum number of points in the neighborhood of a core point.\n",
    "\n",
    "Determine this by analyzing how the number of outliers trends with the min_samples."
   ]
  },
  {
   "cell_type": "code",
   "execution_count": 17,
   "id": "c1198d2c",
   "metadata": {},
   "outputs": [],
   "source": [
    "outliers=[]\n",
    "ep=2.25\n",
    "for i in range(1,25):\n",
    "    dbs=DBSCAN(eps=ep,min_samples=i, metric='euclidean')\n",
    "    dbs.fit(X)\n",
    "    outliers.append(np.count_nonzero(dbs.labels_==-1))"
   ]
  },
  {
   "cell_type": "code",
   "execution_count": 18,
   "id": "fa7cb41e",
   "metadata": {},
   "outputs": [
    {
     "data": {
      "image/png": "[encoded data removed]",
      "text/plain": [
       "<Figure size 432x288 with 1 Axes>"
      ]
     },
     "metadata": {
      "needs_background": "light"
     },
     "output_type": "display_data"
    }
   ],
   "source": [
    "plt.plot(outliers,'o')\n",
    "plt.xlabel('min number of core samples for core point')\n",
    "plt.ylabel('number of outliers')\n",
    "plt.show()"
   ]
  },
  {
   "cell_type": "markdown",
   "id": "c7738620",
   "metadata": {},
   "source": [
    "From above, min_samples=2."
   ]
  },
  {
   "cell_type": "code",
   "execution_count": 19,
   "id": "bda74250",
   "metadata": {},
   "outputs": [
    {
     "name": "stdout",
     "output_type": "stream",
     "text": [
      "number of outliers = 17\n",
      "number of clustered points = 226\n",
      "cluster labels:  [-1  0]\n"
     ]
    }
   ],
   "source": [
    "#fit the DBSCAN model with the optimized epsilon and min_samples\n",
    "\n",
    "dbs=DBSCAN(eps=ep,min_samples=2, metric='euclidean')\n",
    "dbs.fit(X)\n",
    "\n",
    "print('number of outliers =', np.count_nonzero(dbs.labels_==-1))\n",
    "print('number of clustered points =',np.count_nonzero(dbs.labels_!=-1))\n",
    "print('cluster labels: ',np.unique(dbs.labels_))\n",
    "\n",
    "#label original dataset for comparison of algorithms\n",
    "df_final['Cluster_Assign_DB']=dbs.labels_"
   ]
  },
  {
   "cell_type": "markdown",
   "id": "e303da0e",
   "metadata": {},
   "source": [
    "# Lasso Regression - DBSCAN Clustering"
   ]
  },
  {
   "cell_type": "code",
   "execution_count": 20,
   "id": "096d7778",
   "metadata": {},
   "outputs": [],
   "source": [
    "#use the bmi feature for the regression.\n",
    "df_cluster=df_bmi.copy()\n",
    "\n",
    "#add cluster labels to separate out outliers\n",
    "#outliers are always -1 for DBSCAN\n",
    "\n",
    "df_cluster['Cluster_Assign_DB']=dbs.labels_\n",
    "df_cluster=df_cluster[df_cluster['Cluster_Assign_DB']==0]\n",
    "\n",
    "#drop outliers\n",
    "df_cluster.drop(['Cluster_Assign_DB'],axis=1,inplace=True)\n",
    "\n",
    "X_data=df_cluster.drop(columns=['BodyFat', 'Density'])\n",
    "Y_data=df_cluster['BodyFat']\n",
    "    \n",
    "# test train split after outliers are removed  \n",
    "X_train, X_test, y_train, y_test=train_test_split(X_data, Y_data, test_size=0.3, random_state=72018)"
   ]
  },
  {
   "cell_type": "code",
   "execution_count": 21,
   "id": "00a7360e",
   "metadata": {},
   "outputs": [
    {
     "name": "stdout",
     "output_type": "stream",
     "text": [
      "Lasso Regression\n",
      "alpha= 0.049798994974874375\n",
      "r2 = 0.7085220796027615\n",
      "sum of coef = 15.422207187493708\n"
     ]
    }
   ],
   "source": [
    "s=StandardScaler()\n",
    "X_train_s=s.fit_transform(X_train)\n",
    "X_test_s=s.transform(X_test)\n",
    "\n",
    "print('Lasso Regression')\n",
    "\n",
    "lassoCV=LassoCV(alphas=np.linspace(.01,1,200),\n",
    "                  max_iter=5e4,\n",
    "                  cv=3).fit(X_train_s, y_train)\n",
    "\n",
    "alpha=lassoCV.alpha_\n",
    "print('alpha=', alpha)\n",
    "\n",
    "\n",
    "y_pred_lasso=lassoCV.predict(X_test_s)\n",
    "r2=r2_score(y_test,y_pred_lasso)\n",
    "\n",
    "try: \n",
    "    df_coef['DBSCAN']=[r2,len(X_data)]\n",
    "    \n",
    "except:\n",
    "    df_coef.loc['DBSCAN','R2']=r2\n",
    "    df_coef.loc['DBSCAN','NumPoints']=len(X_data)\n",
    "\n",
    "print('r2 =', r2)\n",
    "\n",
    "print('sum of coef =', abs(lassoCV.coef_).sum())"
   ]
  },
  {
   "cell_type": "markdown",
   "id": "c1c53f05",
   "metadata": {},
   "source": [
    "**Keep track of the feature importances for each model.**"
   ]
  },
  {
   "cell_type": "code",
   "execution_count": 22,
   "id": "d8b0dcbb",
   "metadata": {},
   "outputs": [],
   "source": [
    "lasc=lassoCV.coef_\n",
    "cols=X_data.columns.to_list()\n",
    "coefdf=coefdf.join(pd.DataFrame(lasc,cols,['DBSCAN']))"
   ]
  },
  {
   "cell_type": "markdown",
   "id": "4fc2d096",
   "metadata": {},
   "source": [
    "# KMEANS"
   ]
  },
  {
   "cell_type": "code",
   "execution_count": 23,
   "id": "8d1e69ec",
   "metadata": {},
   "outputs": [],
   "source": [
    "from sklearn.cluster import KMeans"
   ]
  },
  {
   "cell_type": "code",
   "execution_count": 24,
   "id": "23fc9e4c",
   "metadata": {},
   "outputs": [
    {
     "data": {
      "text/plain": [
       "KMeans(n_clusters=2, random_state=42)"
      ]
     },
     "execution_count": 24,
     "metadata": {},
     "output_type": "execute_result"
    }
   ],
   "source": [
    "k2=KMeans(n_clusters=2,random_state=42)\n",
    "k2.fit(X)"
   ]
  },
  {
   "cell_type": "code",
   "execution_count": 25,
   "id": "69b0e623",
   "metadata": {},
   "outputs": [
    {
     "data": {
      "image/png": "[encoded data removed]",
      "text/plain": [
       "<Figure size 432x288 with 1 Axes>"
      ]
     },
     "metadata": {
      "needs_background": "light"
     },
     "output_type": "display_data"
    }
   ],
   "source": [
    "inertia=[]\n",
    "list_num_clusters=list(range(1,11))\n",
    "for num_clusters in list_num_clusters:\n",
    "    km=KMeans(n_clusters=num_clusters)\n",
    "    km.fit(X)\n",
    "    inertia.append(km.inertia_)\n",
    "    \n",
    "plt.plot(list_num_clusters,inertia)\n",
    "plt.scatter(list_num_clusters,inertia)\n",
    "plt.xlabel('Number of Clusters')\n",
    "plt.ylabel('Inertia');\n"
   ]
  },
  {
   "cell_type": "code",
   "execution_count": 26,
   "id": "fc596ff8",
   "metadata": {},
   "outputs": [],
   "source": [
    "#label original dataset for comparison of algorithms\n",
    "df_final['Cluster_Assign_kmeans']=k2.labels_"
   ]
  },
  {
   "cell_type": "code",
   "execution_count": 27,
   "id": "c1ed6889",
   "metadata": {},
   "outputs": [
    {
     "name": "stdout",
     "output_type": "stream",
     "text": [
      "28.009365986263422\n",
      "23.235176154022998\n"
     ]
    }
   ],
   "source": [
    "df_kmeans=df_bmi.copy()\n",
    "\n",
    "#label the dataset used for the regression\n",
    "df_kmeans['Cluster_Assign_kmeans']=k2.labels_\n",
    "\n",
    "#look at which group corresponds to which label\n",
    "print(df_kmeans[df_kmeans.Cluster_Assign_kmeans==1]['BMI'].mean())\n",
    "print(df_kmeans[df_kmeans.Cluster_Assign_kmeans==0]['BMI'].mean())"
   ]
  },
  {
   "cell_type": "markdown",
   "id": "2a4b6ec5",
   "metadata": {},
   "source": [
    "# Lasso Regression - Kmeans Clustering - Cluster 0\n",
    "\n",
    "KMEANS is not able to identify outliers like DBSCAN. The regression will be done on both clusters. The higher performance will be reported."
   ]
  },
  {
   "cell_type": "code",
   "execution_count": 28,
   "id": "c48c9d9f",
   "metadata": {},
   "outputs": [
    {
     "name": "stdout",
     "output_type": "stream",
     "text": [
      "Lasso Regression\n",
      "alpha = 0.15226130653266334\n",
      "r2 = 0.45666263792061146\n",
      "sum of coef = 8.822522122797691\n"
     ]
    }
   ],
   "source": [
    "#training regression model on kmeans cluster 0\n",
    "\n",
    "df_kr=df_kmeans[df_kmeans['Cluster_Assign_kmeans']==0]\n",
    "df_cluster=df_kr.drop(columns=['Cluster_Assign_kmeans'])\n",
    "\n",
    "#split the data with cluster 1 removed\n",
    "X_data=df_cluster.drop(columns=['BodyFat', 'Density'])\n",
    "Y_data=df_cluster['BodyFat']\n",
    "    \n",
    "X_train, X_test, y_train, y_test=train_test_split(X_data, Y_data, test_size=0.3, random_state=72018)\n",
    "\n",
    "#scale\n",
    "s=StandardScaler()\n",
    "X_train_s=s.fit_transform(X_train)\n",
    "X_test_s=s.transform(X_test)\n",
    "\n",
    "print('Lasso Regression')\n",
    "\n",
    "lassoCV0=LassoCV(alphas=np.linspace(.1,.5,200),\n",
    "                  max_iter=5e4,\n",
    "                  cv=3).fit(X_train_s, y_train)\n",
    "\n",
    "alpha=lassoCV0.alpha_\n",
    "print('alpha =', alpha)\n",
    "\n",
    "y_pred_lasso=lassoCV0.predict(X_test_s)\n",
    "\n",
    "r2h=r2_score(y_test,y_pred_lasso)\n",
    "\n",
    "try: \n",
    "    df_coef['kmeans']=[r2h,len(X_data)]\n",
    "   \n",
    "except:    \n",
    "    df_coef.loc['KMEANS','R2']=r2h\n",
    "    df_coef.loc['KMEANS','NumPoints']=len(X_data)\n",
    "\n",
    "#store coefficients\n",
    "lasc=lassoCV0.coef_\n",
    "\n",
    "print('r2 =', r2_score(y_test,y_pred_lasso))\n",
    "print('sum of coef =',abs(lassoCV0.coef_).sum())"
   ]
  },
  {
   "cell_type": "markdown",
   "id": "f12ed958",
   "metadata": {},
   "source": [
    "# Lasso Regression - Kmeans Clustering - Cluster 1"
   ]
  },
  {
   "cell_type": "code",
   "execution_count": 29,
   "id": "0877b401",
   "metadata": {},
   "outputs": [
    {
     "name": "stdout",
     "output_type": "stream",
     "text": [
      "Lasso Regression\n",
      "alpha= 0.46798994974874375\n",
      "r2 = 0.6278570609242586\n",
      "sum of coef = 7.503587336758982\n"
     ]
    }
   ],
   "source": [
    "#training regression model on kmeans cluster 1\n",
    "\n",
    "df_kr=df_kmeans[df_kmeans['Cluster_Assign_kmeans']==1]\n",
    "df_cluster=df_kr.drop(columns=['Cluster_Assign_kmeans'])\n",
    "\n",
    "#split the data with cluster 0 removed\n",
    "X_data=df_cluster.drop(columns=['BodyFat', 'Density'])\n",
    "Y_data=df_cluster['BodyFat']\n",
    "\n",
    "X_train, X_test, y_train, y_test=train_test_split(X_data, Y_data, test_size=0.3, random_state=72018)\n",
    "\n",
    "#scale\n",
    "s=StandardScaler()\n",
    "X_train_s=s.fit_transform(X_train)\n",
    "X_test_s=s.transform(X_test)\n",
    "\n",
    "print('Lasso Regression')\n",
    "\n",
    "lassoCV=LassoCV(alphas=np.linspace(.01,.5,200),\n",
    "                  max_iter=5e4,\n",
    "                  cv=3).fit(X_train_s, y_train)\n",
    "\n",
    "alpha=lassoCV.alpha_\n",
    "print('alpha=', alpha)\n",
    "\n",
    "y_pred_lasso=lassoCV.predict(X_test_s)\n",
    "\n",
    "r2=r2_score(y_test,y_pred_lasso)\n",
    "\n",
    "if r2>r2h: #we only want to keep the higher scoring kmeans cluster/regression. \n",
    "    try: \n",
    "        df_coef['kmeans']=[r2,len(X_data)]\n",
    "    except:    \n",
    "        df_coef.loc['KMEANS','R2']=r2h\n",
    "        df_coef.loc['KMEANS','NumPoints']=len(X_data)\n",
    "        \n",
    "    lasc=lassoCV.coef_\n",
    "\n",
    "print('r2 =', r2_score(y_test,y_pred_lasso))\n",
    "print('sum of coef =',abs(lassoCV.coef_).sum())"
   ]
  },
  {
   "cell_type": "markdown",
   "id": "bf07e249",
   "metadata": {},
   "source": [
    "**Feature Importances**"
   ]
  },
  {
   "cell_type": "code",
   "execution_count": 30,
   "id": "b8bf7f4c",
   "metadata": {},
   "outputs": [],
   "source": [
    "cols=X_data.columns.to_list()\n",
    "coefdf=coefdf.join(pd.DataFrame(lasc,cols,['KMEANS']))"
   ]
  },
  {
   "cell_type": "markdown",
   "id": "94bade02",
   "metadata": {},
   "source": [
    "## HA Clustering"
   ]
  },
  {
   "cell_type": "code",
   "execution_count": 31,
   "id": "dae170e8",
   "metadata": {},
   "outputs": [],
   "source": [
    "from sklearn.cluster import AgglomerativeClustering"
   ]
  },
  {
   "cell_type": "code",
   "execution_count": 32,
   "id": "56d103d4",
   "metadata": {},
   "outputs": [],
   "source": [
    "HA=AgglomerativeClustering(n_clusters=2, affinity='euclidean', linkage='ward')"
   ]
  },
  {
   "cell_type": "code",
   "execution_count": 33,
   "id": "a13b92e7",
   "metadata": {},
   "outputs": [],
   "source": [
    "HA.fit(Xu) #training on unstandardized data leads to drastically better model performance\n",
    "HA.labels_.sum()\n",
    "df_final['Cluster_Assign_HA']=HA.labels_"
   ]
  },
  {
   "cell_type": "code",
   "execution_count": 34,
   "id": "75e2c9eb",
   "metadata": {},
   "outputs": [
    {
     "name": "stdout",
     "output_type": "stream",
     "text": [
      "Lasso Regression\n",
      "alpha= 0.1868421052631579\n",
      "r2 = 0.7217672447946247\n",
      "sum of coef = 9.485850795297855\n"
     ]
    }
   ],
   "source": [
    "#training regression model on HA cluster\n",
    "\n",
    "df_ha=df_bmi.copy()\n",
    "df_ha['Cluster_Assign_HA']=HA.labels_\n",
    "df_ha_r=df_ha[df_ha['Cluster_Assign_HA']==0]\n",
    "\n",
    "df_cluster=df_ha_r.drop(columns=['Cluster_Assign_HA'])\n",
    "\n",
    "X_data=df_cluster.drop(columns=['BodyFat', 'Density'])\n",
    "Y_data=df_cluster['BodyFat']\n",
    "\n",
    "X_train, X_test, y_train, y_test=train_test_split(X_data, Y_data, test_size=0.3, random_state=72018)\n",
    "\n",
    "s=StandardScaler()\n",
    "\n",
    "X_train_s=s.fit_transform(X_train)\n",
    "X_test_s=s.transform(X_test)\n",
    "\n",
    "print('Lasso Regression')\n",
    "\n",
    "#Use the lassoCV function to come up with alpha\n",
    "\n",
    "\n",
    "lassoCV=LassoCV(alphas=np.linspace(.15,.25,20),\n",
    "                  max_iter=5e4,\n",
    "                  cv=3).fit(X_train_s, y_train)\n",
    "\n",
    "alpha=lassoCV.alpha_\n",
    "print('alpha=', alpha)\n",
    "\n",
    "y_pred_lasso=lassoCV.predict(X_test_s)\n",
    "\n",
    "r2=r2_score(y_test,y_pred_lasso)\n",
    "\n",
    "try:\n",
    "    df_coef['HA']=[r2,len(X_data)]\n",
    "except:\n",
    "    df_coef.loc['HA','R2']=r2h\n",
    "    df_coef.loc['HA','NumPoints']=len(X_data)\n",
    "\n",
    "print('r2 =', r2_score(y_test,y_pred_lasso))\n",
    "\n",
    "print('sum of coef =',abs(lassoCV.coef_).sum())"
   ]
  },
  {
   "cell_type": "markdown",
   "id": "62a81ef7",
   "metadata": {},
   "source": [
    "**Feature Importances**"
   ]
  },
  {
   "cell_type": "code",
   "execution_count": 35,
   "id": "1b46e223",
   "metadata": {
    "scrolled": false
   },
   "outputs": [],
   "source": [
    "lasc=lassoCV.coef_\n",
    "cols=X_data.columns.to_list()\n",
    "coefdf=coefdf.join(pd.DataFrame(lasc,cols,['HA']))\n"
   ]
  },
  {
   "cell_type": "code",
   "execution_count": 36,
   "id": "9a617fb0",
   "metadata": {},
   "outputs": [
    {
     "data": {
      "text/html": [
       "<div>\n",
       "<style scoped>\n",
       "    .dataframe tbody tr th:only-of-type {\n",
       "        vertical-align: middle;\n",
       "    }\n",
       "\n",
       "    .dataframe tbody tr th {\n",
       "        vertical-align: top;\n",
       "    }\n",
       "\n",
       "    .dataframe thead th {\n",
       "        text-align: right;\n",
       "    }\n",
       "</style>\n",
       "<table border=\"1\" class=\"dataframe\">\n",
       "  <thead>\n",
       "    <tr style=\"text-align: right;\">\n",
       "      <th></th>\n",
       "      <th>LASSO</th>\n",
       "      <th>DBSCAN</th>\n",
       "      <th>KMEANS</th>\n",
       "      <th>HA</th>\n",
       "    </tr>\n",
       "  </thead>\n",
       "  <tbody>\n",
       "    <tr>\n",
       "      <th>Height</th>\n",
       "      <td>-0.667473</td>\n",
       "      <td>-0.219265</td>\n",
       "      <td>-0.626972</td>\n",
       "      <td>-1.160461</td>\n",
       "    </tr>\n",
       "    <tr>\n",
       "      <th>Ankle</th>\n",
       "      <td>-0.377767</td>\n",
       "      <td>-0.000000</td>\n",
       "      <td>0.000000</td>\n",
       "      <td>-0.480510</td>\n",
       "    </tr>\n",
       "    <tr>\n",
       "      <th>Wrist</th>\n",
       "      <td>-1.313316</td>\n",
       "      <td>-1.480734</td>\n",
       "      <td>-0.655426</td>\n",
       "      <td>-0.428996</td>\n",
       "    </tr>\n",
       "    <tr>\n",
       "      <th>Neck</th>\n",
       "      <td>-1.202657</td>\n",
       "      <td>-0.702810</td>\n",
       "      <td>0.000000</td>\n",
       "      <td>-0.029024</td>\n",
       "    </tr>\n",
       "    <tr>\n",
       "      <th>BMI</th>\n",
       "      <td>1.682588</td>\n",
       "      <td>0.551865</td>\n",
       "      <td>0.000000</td>\n",
       "      <td>0.000000</td>\n",
       "    </tr>\n",
       "    <tr>\n",
       "      <th>Age</th>\n",
       "      <td>0.552434</td>\n",
       "      <td>1.252737</td>\n",
       "      <td>0.652906</td>\n",
       "      <td>0.000000</td>\n",
       "    </tr>\n",
       "    <tr>\n",
       "      <th>Weight</th>\n",
       "      <td>0.000000</td>\n",
       "      <td>-0.000000</td>\n",
       "      <td>-0.000000</td>\n",
       "      <td>0.000000</td>\n",
       "    </tr>\n",
       "    <tr>\n",
       "      <th>Chest</th>\n",
       "      <td>-0.371825</td>\n",
       "      <td>-0.000000</td>\n",
       "      <td>-0.000000</td>\n",
       "      <td>0.000000</td>\n",
       "    </tr>\n",
       "    <tr>\n",
       "      <th>Hip</th>\n",
       "      <td>-0.684931</td>\n",
       "      <td>-1.400880</td>\n",
       "      <td>-0.000000</td>\n",
       "      <td>0.000000</td>\n",
       "    </tr>\n",
       "    <tr>\n",
       "      <th>Knee</th>\n",
       "      <td>0.204482</td>\n",
       "      <td>-0.575855</td>\n",
       "      <td>0.000000</td>\n",
       "      <td>-0.000000</td>\n",
       "    </tr>\n",
       "    <tr>\n",
       "      <th>Forearm</th>\n",
       "      <td>0.370086</td>\n",
       "      <td>-0.027946</td>\n",
       "      <td>0.000000</td>\n",
       "      <td>0.000000</td>\n",
       "    </tr>\n",
       "    <tr>\n",
       "      <th>Biceps</th>\n",
       "      <td>-0.498983</td>\n",
       "      <td>0.950361</td>\n",
       "      <td>0.000000</td>\n",
       "      <td>0.014968</td>\n",
       "    </tr>\n",
       "    <tr>\n",
       "      <th>Thigh</th>\n",
       "      <td>0.662580</td>\n",
       "      <td>1.221377</td>\n",
       "      <td>0.000000</td>\n",
       "      <td>0.922706</td>\n",
       "    </tr>\n",
       "    <tr>\n",
       "      <th>Abdomen</th>\n",
       "      <td>7.370813</td>\n",
       "      <td>7.038379</td>\n",
       "      <td>5.568284</td>\n",
       "      <td>6.449187</td>\n",
       "    </tr>\n",
       "  </tbody>\n",
       "</table>\n",
       "</div>"
      ],
      "text/plain": [
       "            LASSO    DBSCAN    KMEANS        HA\n",
       "Height  -0.667473 -0.219265 -0.626972 -1.160461\n",
       "Ankle   -0.377767 -0.000000  0.000000 -0.480510\n",
       "Wrist   -1.313316 -1.480734 -0.655426 -0.428996\n",
       "Neck    -1.202657 -0.702810  0.000000 -0.029024\n",
       "BMI      1.682588  0.551865  0.000000  0.000000\n",
       "Age      0.552434  1.252737  0.652906  0.000000\n",
       "Weight   0.000000 -0.000000 -0.000000  0.000000\n",
       "Chest   -0.371825 -0.000000 -0.000000  0.000000\n",
       "Hip     -0.684931 -1.400880 -0.000000  0.000000\n",
       "Knee     0.204482 -0.575855  0.000000 -0.000000\n",
       "Forearm  0.370086 -0.027946  0.000000  0.000000\n",
       "Biceps  -0.498983  0.950361  0.000000  0.014968\n",
       "Thigh    0.662580  1.221377  0.000000  0.922706\n",
       "Abdomen  7.370813  7.038379  5.568284  6.449187"
      ]
     },
     "execution_count": 36,
     "metadata": {},
     "output_type": "execute_result"
    }
   ],
   "source": [
    "#final feature importances\n",
    "coefdf.sort_values(by='HA')"
   ]
  },
  {
   "cell_type": "code",
   "execution_count": 37,
   "id": "a1e7c49e",
   "metadata": {},
   "outputs": [],
   "source": [
    "# assemble R**2 table.\n",
    "df_coef=df_coef.T\n",
    "df_coef.rename(columns={0:'R2',1:'NumPoints'}, inplace=True)\n"
   ]
  },
  {
   "cell_type": "markdown",
   "id": "ce05d784",
   "metadata": {},
   "source": [
    "**Final Summary**"
   ]
  },
  {
   "cell_type": "code",
   "execution_count": 38,
   "id": "8ee6b6b9",
   "metadata": {},
   "outputs": [
    {
     "data": {
      "text/html": [
       "<div>\n",
       "<style scoped>\n",
       "    .dataframe tbody tr th:only-of-type {\n",
       "        vertical-align: middle;\n",
       "    }\n",
       "\n",
       "    .dataframe tbody tr th {\n",
       "        vertical-align: top;\n",
       "    }\n",
       "\n",
       "    .dataframe thead th {\n",
       "        text-align: right;\n",
       "    }\n",
       "</style>\n",
       "<table border=\"1\" class=\"dataframe\">\n",
       "  <thead>\n",
       "    <tr style=\"text-align: right;\">\n",
       "      <th></th>\n",
       "      <th>R2</th>\n",
       "      <th>NumPoints</th>\n",
       "    </tr>\n",
       "  </thead>\n",
       "  <tbody>\n",
       "    <tr>\n",
       "      <th>NO_Cluster</th>\n",
       "      <td>0.676218</td>\n",
       "      <td>243.0</td>\n",
       "    </tr>\n",
       "    <tr>\n",
       "      <th>DBSCAN</th>\n",
       "      <td>0.708522</td>\n",
       "      <td>226.0</td>\n",
       "    </tr>\n",
       "    <tr>\n",
       "      <th>kmeans</th>\n",
       "      <td>0.627857</td>\n",
       "      <td>106.0</td>\n",
       "    </tr>\n",
       "    <tr>\n",
       "      <th>HA</th>\n",
       "      <td>0.721767</td>\n",
       "      <td>176.0</td>\n",
       "    </tr>\n",
       "  </tbody>\n",
       "</table>\n",
       "</div>"
      ],
      "text/plain": [
       "                  R2  NumPoints\n",
       "NO_Cluster  0.676218      243.0\n",
       "DBSCAN      0.708522      226.0\n",
       "kmeans      0.627857      106.0\n",
       "HA          0.721767      176.0"
      ]
     },
     "execution_count": 38,
     "metadata": {},
     "output_type": "execute_result"
    }
   ],
   "source": [
    "df_coef"
   ]
  },
  {
   "cell_type": "code",
   "execution_count": 39,
   "id": "569a5304",
   "metadata": {},
   "outputs": [],
   "source": [
    "#df_final.to_csv('all2.csv')"
   ]
  }
 ],
 "metadata": {
  "kernelspec": {
   "display_name": "Python 3",
   "language": "python",
   "name": "python3"
  },
  "language_info": {
   "codemirror_mode": {
    "name": "ipython",
    "version": 3
   },
   "file_extension": ".py",
   "mimetype": "text/x-python",
   "name": "python",
   "nbconvert_exporter": "python",
   "pygments_lexer": "ipython3",
   "version": "3.6.13"
  }
 },
 "nbformat": 4,
 "nbformat_minor": 5
}
