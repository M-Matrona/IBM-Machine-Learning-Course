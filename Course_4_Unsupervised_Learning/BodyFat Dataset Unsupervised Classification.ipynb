{
 "cells": [
  {
   "cell_type": "code",
   "execution_count": 1,
   "id": "c2200325",
   "metadata": {},
   "outputs": [],
   "source": [
    "import pandas as pd\n",
    "import os\n",
    "import seaborn as sns\n",
    "import numpy as np\n",
    "import matplotlib.pyplot as plt\n",
    "import scipy.stats as stats\n",
    "import scipy"
   ]
  },
  {
   "cell_type": "code",
   "execution_count": 2,
   "id": "9c1e461c",
   "metadata": {},
   "outputs": [],
   "source": [
    "from sklearn.model_selection import KFold, cross_val_predict,cross_val_score\n",
    "from sklearn.linear_model import LinearRegression, Lasso, Ridge\n",
    "from sklearn.model_selection import train_test_split\n",
    "from sklearn.metrics import r2_score\n",
    "from sklearn.linear_model import LassoCV, RidgeCV"
   ]
  },
  {
   "cell_type": "code",
   "execution_count": 3,
   "id": "12b1cbbf",
   "metadata": {
    "scrolled": true
   },
   "outputs": [
    {
     "data": {
      "text/html": [
       "<div>\n",
       "<style scoped>\n",
       "    .dataframe tbody tr th:only-of-type {\n",
       "        vertical-align: middle;\n",
       "    }\n",
       "\n",
       "    .dataframe tbody tr th {\n",
       "        vertical-align: top;\n",
       "    }\n",
       "\n",
       "    .dataframe thead th {\n",
       "        text-align: right;\n",
       "    }\n",
       "</style>\n",
       "<table border=\"1\" class=\"dataframe\">\n",
       "  <thead>\n",
       "    <tr style=\"text-align: right;\">\n",
       "      <th></th>\n",
       "      <th>Density</th>\n",
       "      <th>BodyFat</th>\n",
       "      <th>Age</th>\n",
       "      <th>Weight</th>\n",
       "      <th>Height</th>\n",
       "      <th>Neck</th>\n",
       "      <th>Chest</th>\n",
       "      <th>Abdomen</th>\n",
       "      <th>Hip</th>\n",
       "      <th>Thigh</th>\n",
       "      <th>Knee</th>\n",
       "      <th>Ankle</th>\n",
       "      <th>Biceps</th>\n",
       "      <th>Forearm</th>\n",
       "      <th>Wrist</th>\n",
       "    </tr>\n",
       "  </thead>\n",
       "  <tbody>\n",
       "    <tr>\n",
       "      <th>0</th>\n",
       "      <td>1.0708</td>\n",
       "      <td>12.3</td>\n",
       "      <td>23</td>\n",
       "      <td>154.25</td>\n",
       "      <td>67.75</td>\n",
       "      <td>36.2</td>\n",
       "      <td>93.1</td>\n",
       "      <td>85.2</td>\n",
       "      <td>94.5</td>\n",
       "      <td>59.0</td>\n",
       "      <td>37.3</td>\n",
       "      <td>21.9</td>\n",
       "      <td>32.0</td>\n",
       "      <td>27.4</td>\n",
       "      <td>17.1</td>\n",
       "    </tr>\n",
       "    <tr>\n",
       "      <th>1</th>\n",
       "      <td>1.0853</td>\n",
       "      <td>6.1</td>\n",
       "      <td>22</td>\n",
       "      <td>173.25</td>\n",
       "      <td>72.25</td>\n",
       "      <td>38.5</td>\n",
       "      <td>93.6</td>\n",
       "      <td>83.0</td>\n",
       "      <td>98.7</td>\n",
       "      <td>58.7</td>\n",
       "      <td>37.3</td>\n",
       "      <td>23.4</td>\n",
       "      <td>30.5</td>\n",
       "      <td>28.9</td>\n",
       "      <td>18.2</td>\n",
       "    </tr>\n",
       "    <tr>\n",
       "      <th>2</th>\n",
       "      <td>1.0414</td>\n",
       "      <td>25.3</td>\n",
       "      <td>22</td>\n",
       "      <td>154.00</td>\n",
       "      <td>66.25</td>\n",
       "      <td>34.0</td>\n",
       "      <td>95.8</td>\n",
       "      <td>87.9</td>\n",
       "      <td>99.2</td>\n",
       "      <td>59.6</td>\n",
       "      <td>38.9</td>\n",
       "      <td>24.0</td>\n",
       "      <td>28.8</td>\n",
       "      <td>25.2</td>\n",
       "      <td>16.6</td>\n",
       "    </tr>\n",
       "    <tr>\n",
       "      <th>3</th>\n",
       "      <td>1.0751</td>\n",
       "      <td>10.4</td>\n",
       "      <td>26</td>\n",
       "      <td>184.75</td>\n",
       "      <td>72.25</td>\n",
       "      <td>37.4</td>\n",
       "      <td>101.8</td>\n",
       "      <td>86.4</td>\n",
       "      <td>101.2</td>\n",
       "      <td>60.1</td>\n",
       "      <td>37.3</td>\n",
       "      <td>22.8</td>\n",
       "      <td>32.4</td>\n",
       "      <td>29.4</td>\n",
       "      <td>18.2</td>\n",
       "    </tr>\n",
       "    <tr>\n",
       "      <th>4</th>\n",
       "      <td>1.0340</td>\n",
       "      <td>28.7</td>\n",
       "      <td>24</td>\n",
       "      <td>184.25</td>\n",
       "      <td>71.25</td>\n",
       "      <td>34.4</td>\n",
       "      <td>97.3</td>\n",
       "      <td>100.0</td>\n",
       "      <td>101.9</td>\n",
       "      <td>63.2</td>\n",
       "      <td>42.2</td>\n",
       "      <td>24.0</td>\n",
       "      <td>32.2</td>\n",
       "      <td>27.7</td>\n",
       "      <td>17.7</td>\n",
       "    </tr>\n",
       "  </tbody>\n",
       "</table>\n",
       "</div>"
      ],
      "text/plain": [
       "   Density  BodyFat  Age  Weight  Height  Neck  Chest  Abdomen    Hip  Thigh  \\\n",
       "0   1.0708     12.3   23  154.25   67.75  36.2   93.1     85.2   94.5   59.0   \n",
       "1   1.0853      6.1   22  173.25   72.25  38.5   93.6     83.0   98.7   58.7   \n",
       "2   1.0414     25.3   22  154.00   66.25  34.0   95.8     87.9   99.2   59.6   \n",
       "3   1.0751     10.4   26  184.75   72.25  37.4  101.8     86.4  101.2   60.1   \n",
       "4   1.0340     28.7   24  184.25   71.25  34.4   97.3    100.0  101.9   63.2   \n",
       "\n",
       "   Knee  Ankle  Biceps  Forearm  Wrist  \n",
       "0  37.3   21.9    32.0     27.4   17.1  \n",
       "1  37.3   23.4    30.5     28.9   18.2  \n",
       "2  38.9   24.0    28.8     25.2   16.6  \n",
       "3  37.3   22.8    32.4     29.4   18.2  \n",
       "4  42.2   24.0    32.2     27.7   17.7  "
      ]
     },
     "execution_count": 3,
     "metadata": {},
     "output_type": "execute_result"
    }
   ],
   "source": [
    "path = os.getcwd()\n",
    "dataset = 'bodyfat.csv'\n",
    "path = os.getcwd() + '\\\\' + dataset\n",
    "\n",
    "df = pd.read_csv(path)\n",
    "Age = df['Age']\n",
    "#df.drop(columns=['Age'], inplace=True) ##\n",
    "\n",
    "df.head()"
   ]
  },
  {
   "cell_type": "markdown",
   "id": "c06655b6",
   "metadata": {},
   "source": [
    "#https://www.kaggle.com/fedesoriano/body-fat-prediction-dataset\n",
    "\n",
    "The percentage of body fat for an individual can be estimated once body density has been determined. Folks (e.g. Siri (1956)) assume that the body consists\n",
    "of two components - lean body tissue and fat tissue. Letting:\n",
    "\n",
    "D = Body Density (gm/cm^3) - This is measured - hydrostatic weighing\n",
    "\n",
    "\n",
    "A = proportion of lean body tissue  <br>\n",
    "B = proportion of fat tissue (A+B=1)\n",
    "\n",
    "\n",
    "a = density of lean body tissue (gm/cm^3) <br>\n",
    "b = density of fat tissue (gm/cm^3) - fat floats in water so (Wa - Ww) = lean body mass\n",
    "\n",
    "a and b have average value:\n",
    "\n",
    "Using the estimates \n",
    "\n",
    "a=1.10 gm/cm^3 and\n",
    "b=0.90 gm/cm^3 \n",
    "(see Katch and McArdle (1977), p. 111 or Wilmore (1976), p. 123) we come up with \"Siri's equation\":\n",
    "\n",
    "\n",
    "we have:\n",
    "\n",
    "D = 1/[(A/a) + (B/b)]\n",
    "\n",
    "solving for B we find:\n",
    "\n",
    "B = (1/D)*[ab/(a-b)] - [b/(a-b)].\n",
    "\n",
    "Percentage of Body Fat (i.e. 100*B)\n",
    "\n",
    "100*B = 495/D - 450\n"
   ]
  },
  {
   "cell_type": "markdown",
   "id": "1660f520",
   "metadata": {},
   "source": [
    "Density from hydrostatic weighing.\n",
    "\n",
    "Body Density;\n",
    "\n",
    "D = WA/[(WA-WW)/c.f. - LV]\n",
    "\n",
    "WA = Weight in air (kg) <br>\n",
    "WW = Weight in water (kg)\n",
    "\n",
    "c.f. = Water correction factor (=1 at 39.2 deg F as one-gram of water occupies exactly one cm^3 at this temperature, =.997 at 76-78 deg F)\n",
    "\n",
    "c.f. is really the density of water at test temperature\n",
    "\n",
    "(WA-WW)/c.f. is the volume of water displaced by submerged body\n",
    "Archemedies Principle\n",
    "\n",
    "LV = Residual Lung Volume (liters)\n",
    "\n",
    "Have to assume LV was accounted for appropiately\n",
    "\n",
    "B = (1/D)*[ab/(a-b)] - [b/(a-b)]"
   ]
  },
  {
   "cell_type": "code",
   "execution_count": 4,
   "id": "aa519ade",
   "metadata": {},
   "outputs": [],
   "source": [
    "def BodyFatP(D, a = 1.1, b = .9):\n",
    "    \"\"\"returns percentage of body fat as estimated by siri equation\"\"\"\n",
    "    B = 100*((1/D)*(a*b)/(a-b) - b/(a-b))\n",
    "    return B\n",
    "\n",
    "def calc_BMI(H, W):\n",
    "    \"\"\"Calculate BMI from Height (inches) and Weight (lbs)\"\"\"\n",
    "    BMI = 703*W/H**2\n",
    "    return BMI\n",
    "\n"
   ]
  },
  {
   "cell_type": "code",
   "execution_count": 5,
   "id": "26b12736",
   "metadata": {},
   "outputs": [
    {
     "name": "stdout",
     "output_type": "stream",
     "text": [
      "Minimum density in dataset =  0.995\n",
      "the lower bound seems reasonable wrt the Siri equation Coefficient\n",
      "\n",
      "Maximum density in dataset =  1.1089\n",
      "however the upper bound is suspicious because an entire body density is about the average of lean tissue\n",
      "\n",
      "body fat percentage corresponding to max density in dataset =  -3.611687257642604\n",
      "which is clearly nonsensical\n"
     ]
    }
   ],
   "source": [
    "min_d = min(df['Density'])\n",
    "max_d = max(df['Density'])\n",
    "\n",
    "print('Minimum density in dataset = ', str(min_d))\n",
    "print('the lower bound seems reasonable wrt the Siri equation Coefficient\\n')\n",
    "\n",
    "print('Maximum density in dataset = ', str(max_d))\n",
    "print('however the upper bound is suspicious because an entire body density is about the average of lean tissue\\n')\n",
    "\n",
    "bodyfat_max_d = BodyFatP(max_d)\n",
    "\n",
    "print('body fat percentage corresponding to max density in dataset = ', str(bodyfat_max_d))\n",
    "print('which is clearly nonsensical')"
   ]
  },
  {
   "cell_type": "code",
   "execution_count": 6,
   "id": "0c092cde",
   "metadata": {},
   "outputs": [
    {
     "data": {
      "image/png": "[encoded data removed]",
      "text/plain": [
       "<Figure size 432x288 with 1 Axes>"
      ]
     },
     "metadata": {
      "needs_background": "light"
     },
     "output_type": "display_data"
    }
   ],
   "source": [
    "DensityBounds = np.linspace(min(df['Density']), max(df['Density']), 25)\n",
    "SiriBP = [BodyFatP(i) for i in DensityBounds]\n",
    "\n",
    "fig=plt.figure()\n",
    "ax=fig.add_axes([0,0,1,1])\n",
    "ax.scatter(df['Density'],df['BodyFat'])\n",
    "ax.plot(DensityBounds,SiriBP,'r')\n",
    "\n",
    "ax.set_xlabel('Density (g/cm**3)')\n",
    "ax.set_ylabel('Body Fat %')\n",
    "ax.legend(['Siri Equation', 'Reported Data'])\n",
    "plt.show()"
   ]
  },
  {
   "cell_type": "code",
   "execution_count": 7,
   "id": "2e09d802",
   "metadata": {},
   "outputs": [
    {
     "name": "stdout",
     "output_type": "stream",
     "text": [
      "(5, 3)\n"
     ]
    },
    {
     "data": {
      "text/html": [
       "<div>\n",
       "<style scoped>\n",
       "    .dataframe tbody tr th:only-of-type {\n",
       "        vertical-align: middle;\n",
       "    }\n",
       "\n",
       "    .dataframe tbody tr th {\n",
       "        vertical-align: top;\n",
       "    }\n",
       "\n",
       "    .dataframe thead th {\n",
       "        text-align: right;\n",
       "    }\n",
       "</style>\n",
       "<table border=\"1\" class=\"dataframe\">\n",
       "  <thead>\n",
       "    <tr style=\"text-align: right;\">\n",
       "      <th></th>\n",
       "      <th>Density</th>\n",
       "      <th>BodyFat</th>\n",
       "      <th>BodyFatCalc</th>\n",
       "    </tr>\n",
       "  </thead>\n",
       "  <tbody>\n",
       "    <tr>\n",
       "      <th>47</th>\n",
       "      <td>1.0665</td>\n",
       "      <td>5.6</td>\n",
       "      <td>14.135021</td>\n",
       "    </tr>\n",
       "    <tr>\n",
       "      <th>75</th>\n",
       "      <td>1.0666</td>\n",
       "      <td>18.5</td>\n",
       "      <td>14.091506</td>\n",
       "    </tr>\n",
       "    <tr>\n",
       "      <th>95</th>\n",
       "      <td>1.0991</td>\n",
       "      <td>17.4</td>\n",
       "      <td>0.368483</td>\n",
       "    </tr>\n",
       "    <tr>\n",
       "      <th>168</th>\n",
       "      <td>1.0180</td>\n",
       "      <td>34.3</td>\n",
       "      <td>36.247544</td>\n",
       "    </tr>\n",
       "    <tr>\n",
       "      <th>181</th>\n",
       "      <td>1.1089</td>\n",
       "      <td>0.0</td>\n",
       "      <td>-3.611687</td>\n",
       "    </tr>\n",
       "  </tbody>\n",
       "</table>\n",
       "</div>"
      ],
      "text/plain": [
       "     Density  BodyFat  BodyFatCalc\n",
       "47    1.0665      5.6    14.135021\n",
       "75    1.0666     18.5    14.091506\n",
       "95    1.0991     17.4     0.368483\n",
       "168   1.0180     34.3    36.247544\n",
       "181   1.1089      0.0    -3.611687"
      ]
     },
     "execution_count": 7,
     "metadata": {},
     "output_type": "execute_result"
    }
   ],
   "source": [
    "#finding the data that is off of the siri equation line\n",
    "DensityPoints = df['Density']\n",
    "BodyFatP_Points = df['BodyFat']\n",
    "\n",
    "SiriBP_D = [BodyFatP(i) for i in DensityPoints]\n",
    "\n",
    "df_Sc = df[['Density', 'BodyFat']]\n",
    "df_Sc.insert(loc=2, column='BodyFatCalc',value=SiriBP_D)\n",
    "series1 = df_Sc['BodyFat'] - df_Sc['BodyFatCalc']\n",
    "df_Sc = df_Sc[abs(series1)>0.5]\n",
    "\n",
    "\n",
    "print(df_Sc.shape)\n",
    "df_Sc\n",
    "\n",
    "\n"
   ]
  },
  {
   "cell_type": "code",
   "execution_count": 8,
   "id": "f0c3d877",
   "metadata": {},
   "outputs": [],
   "source": [
    "#df_clean has removed the 5 points found above\n",
    "\n",
    "df_clean = df[abs(series1)<.5]\n"
   ]
  },
  {
   "cell_type": "code",
   "execution_count": 9,
   "id": "f2845674",
   "metadata": {},
   "outputs": [
    {
     "name": "stdout",
     "output_type": "stream",
     "text": [
      "Visual confirmation that data was removed successfully\n"
     ]
    },
    {
     "data": {
      "image/png": "[encoded data removed]",
      "text/plain": [
       "<Figure size 432x288 with 1 Axes>"
      ]
     },
     "metadata": {
      "needs_background": "light"
     },
     "output_type": "display_data"
    }
   ],
   "source": [
    "print('Visual confirmation that data was removed successfully')\n",
    "DensityBounds = np.linspace(min(df_clean['Density']), max(df_clean['Density']), 25)\n",
    "SiriBP = [BodyFatP(i) for i in DensityBounds]\n",
    "\n",
    "fig=plt.figure()\n",
    "ax=fig.add_axes([0,0,1,1])\n",
    "ax.scatter(df_clean['Density'],df_clean['BodyFat'])\n",
    "ax.plot(DensityBounds,SiriBP,'r')\n",
    "\n",
    "ax.set_xlabel('Density (g/cm**3)')\n",
    "ax.set_ylabel('Body Fat %')\n",
    "ax.legend(['Siri Equation', 'Reported Data'])\n",
    "fig.suptitle('Suspect Data Removed', fontsize=12)\n",
    "plt.show()"
   ]
  },
  {
   "cell_type": "code",
   "execution_count": 10,
   "id": "1dc96495",
   "metadata": {},
   "outputs": [
    {
     "data": {
      "text/html": [
       "<div>\n",
       "<style scoped>\n",
       "    .dataframe tbody tr th:only-of-type {\n",
       "        vertical-align: middle;\n",
       "    }\n",
       "\n",
       "    .dataframe tbody tr th {\n",
       "        vertical-align: top;\n",
       "    }\n",
       "\n",
       "    .dataframe thead th {\n",
       "        text-align: right;\n",
       "    }\n",
       "</style>\n",
       "<table border=\"1\" class=\"dataframe\">\n",
       "  <thead>\n",
       "    <tr style=\"text-align: right;\">\n",
       "      <th></th>\n",
       "      <th>Density</th>\n",
       "      <th>BodyFat</th>\n",
       "      <th>BMI</th>\n",
       "      <th>Age</th>\n",
       "      <th>Weight</th>\n",
       "      <th>Height</th>\n",
       "      <th>Neck</th>\n",
       "      <th>Chest</th>\n",
       "      <th>Abdomen</th>\n",
       "      <th>Hip</th>\n",
       "      <th>Thigh</th>\n",
       "      <th>Knee</th>\n",
       "      <th>Ankle</th>\n",
       "      <th>Biceps</th>\n",
       "      <th>Forearm</th>\n",
       "      <th>Wrist</th>\n",
       "    </tr>\n",
       "  </thead>\n",
       "  <tbody>\n",
       "    <tr>\n",
       "      <th>41</th>\n",
       "      <td>1.0250</td>\n",
       "      <td>32.9</td>\n",
       "      <td>165.601839</td>\n",
       "      <td>44</td>\n",
       "      <td>205.00</td>\n",
       "      <td>29.50</td>\n",
       "      <td>36.6</td>\n",
       "      <td>106.0</td>\n",
       "      <td>104.3</td>\n",
       "      <td>115.5</td>\n",
       "      <td>70.6</td>\n",
       "      <td>42.5</td>\n",
       "      <td>23.7</td>\n",
       "      <td>33.6</td>\n",
       "      <td>28.7</td>\n",
       "      <td>17.4</td>\n",
       "    </tr>\n",
       "    <tr>\n",
       "      <th>38</th>\n",
       "      <td>1.0202</td>\n",
       "      <td>35.2</td>\n",
       "      <td>48.906397</td>\n",
       "      <td>46</td>\n",
       "      <td>363.15</td>\n",
       "      <td>72.25</td>\n",
       "      <td>51.2</td>\n",
       "      <td>136.2</td>\n",
       "      <td>148.1</td>\n",
       "      <td>147.7</td>\n",
       "      <td>87.3</td>\n",
       "      <td>49.1</td>\n",
       "      <td>29.6</td>\n",
       "      <td>45.0</td>\n",
       "      <td>29.0</td>\n",
       "      <td>21.4</td>\n",
       "    </tr>\n",
       "    <tr>\n",
       "      <th>40</th>\n",
       "      <td>1.0217</td>\n",
       "      <td>34.5</td>\n",
       "      <td>39.079828</td>\n",
       "      <td>45</td>\n",
       "      <td>262.75</td>\n",
       "      <td>68.75</td>\n",
       "      <td>43.2</td>\n",
       "      <td>128.3</td>\n",
       "      <td>126.2</td>\n",
       "      <td>125.6</td>\n",
       "      <td>72.5</td>\n",
       "      <td>39.6</td>\n",
       "      <td>26.6</td>\n",
       "      <td>36.4</td>\n",
       "      <td>32.7</td>\n",
       "      <td>21.4</td>\n",
       "    </tr>\n",
       "    <tr>\n",
       "      <th>215</th>\n",
       "      <td>0.9950</td>\n",
       "      <td>47.5</td>\n",
       "      <td>37.587158</td>\n",
       "      <td>51</td>\n",
       "      <td>219.00</td>\n",
       "      <td>64.00</td>\n",
       "      <td>41.2</td>\n",
       "      <td>119.8</td>\n",
       "      <td>122.1</td>\n",
       "      <td>112.8</td>\n",
       "      <td>62.5</td>\n",
       "      <td>36.9</td>\n",
       "      <td>23.6</td>\n",
       "      <td>34.7</td>\n",
       "      <td>29.1</td>\n",
       "      <td>18.4</td>\n",
       "    </tr>\n",
       "    <tr>\n",
       "      <th>241</th>\n",
       "      <td>1.0207</td>\n",
       "      <td>35.0</td>\n",
       "      <td>33.881791</td>\n",
       "      <td>65</td>\n",
       "      <td>224.50</td>\n",
       "      <td>68.25</td>\n",
       "      <td>38.8</td>\n",
       "      <td>119.6</td>\n",
       "      <td>118.0</td>\n",
       "      <td>114.3</td>\n",
       "      <td>61.3</td>\n",
       "      <td>42.1</td>\n",
       "      <td>23.4</td>\n",
       "      <td>34.9</td>\n",
       "      <td>30.1</td>\n",
       "      <td>19.4</td>\n",
       "    </tr>\n",
       "  </tbody>\n",
       "</table>\n",
       "</div>"
      ],
      "text/plain": [
       "     Density  BodyFat         BMI  Age  Weight  Height  Neck  Chest  Abdomen  \\\n",
       "41    1.0250     32.9  165.601839   44  205.00   29.50  36.6  106.0    104.3   \n",
       "38    1.0202     35.2   48.906397   46  363.15   72.25  51.2  136.2    148.1   \n",
       "40    1.0217     34.5   39.079828   45  262.75   68.75  43.2  128.3    126.2   \n",
       "215   0.9950     47.5   37.587158   51  219.00   64.00  41.2  119.8    122.1   \n",
       "241   1.0207     35.0   33.881791   65  224.50   68.25  38.8  119.6    118.0   \n",
       "\n",
       "       Hip  Thigh  Knee  Ankle  Biceps  Forearm  Wrist  \n",
       "41   115.5   70.6  42.5   23.7    33.6     28.7   17.4  \n",
       "38   147.7   87.3  49.1   29.6    45.0     29.0   21.4  \n",
       "40   125.6   72.5  39.6   26.6    36.4     32.7   21.4  \n",
       "215  112.8   62.5  36.9   23.6    34.7     29.1   18.4  \n",
       "241  114.3   61.3  42.1   23.4    34.9     30.1   19.4  "
      ]
     },
     "execution_count": 10,
     "metadata": {},
     "output_type": "execute_result"
    }
   ],
   "source": [
    "#Inserting a BMI Feature\n",
    "df_clean.insert(loc=2, column='BMI',value=calc_BMI(df_clean['Height'],df_clean['Weight']))\n",
    "df_clean.sort_values(by='BMI', ascending=False).head()"
   ]
  },
  {
   "cell_type": "code",
   "execution_count": 11,
   "id": "eae0194b",
   "metadata": {},
   "outputs": [],
   "source": [
    "# #Using the BMI feature to count Obesity in the data and for outlier checks\n",
    "# print('min BMI in data ' + str(min(df_clean['BMI'])))\n",
    "# print('max BMI in data ' + str(max(df_clean['BMI'])))\n",
    "\n",
    "df_cleaner = df_clean[df_clean['BMI']<100] #remove the outlying data\n"
   ]
  },
  {
   "cell_type": "code",
   "execution_count": null,
   "id": "1031540b",
   "metadata": {},
   "outputs": [],
   "source": []
  },
  {
   "cell_type": "markdown",
   "id": "056bc48d",
   "metadata": {},
   "source": [
    "df_cleaner is the master dataframe in which all obviously outlying datapoints are removed. The code and cleaning procedure can be seen in the course 1 directory.\n",
    "\n"
   ]
  },
  {
   "cell_type": "code",
   "execution_count": 12,
   "id": "142b7011",
   "metadata": {},
   "outputs": [],
   "source": [
    "#next will be to construct a pairplot to examine feature association\n",
    "#sns.pairplot(df_cleaner[df_cleaner['BMI']<25])"
   ]
  },
  {
   "cell_type": "code",
   "execution_count": 13,
   "id": "438e849e",
   "metadata": {},
   "outputs": [],
   "source": [
    "def check_skew(df):\n",
    "    \"\"\"function to check the normality of the float columns of a dataframe.\n",
    "        Uses D'Agostino's K-Squared test\"\"\"\n",
    "    skewlist = []\n",
    "    vallist = []\n",
    "    X_cols = df.select_dtypes(include = 'float').columns.to_list()\n",
    "\n",
    "    for col in X_cols:\n",
    "        ob = normaltest(df[col])\n",
    "        if ob.pvalue < 0.05:\n",
    "            skewlist.append(col)\n",
    "            vallist.append(min(df[col])) #keep track of min value to ensure we are only working with nonnegative data\n",
    "    return skewlist, vallist       \n"
   ]
  },
  {
   "cell_type": "markdown",
   "id": "db6edb74",
   "metadata": {},
   "source": [
    "### Begin Unsupervised Learning Exercise"
   ]
  },
  {
   "cell_type": "code",
   "execution_count": 14,
   "id": "1758313e",
   "metadata": {},
   "outputs": [],
   "source": [
    "from scipy.stats.mstats import normaltest # D'Agostino K^2 Test\n",
    "from sklearn.preprocessing import StandardScaler"
   ]
  },
  {
   "cell_type": "code",
   "execution_count": 15,
   "id": "358bb334",
   "metadata": {},
   "outputs": [],
   "source": [
    "df_coef = pd.DataFrame() #initialize dataframe to store R2 coefficients for comparison\n",
    "len_list = []"
   ]
  },
  {
   "cell_type": "code",
   "execution_count": 16,
   "id": "a412e961",
   "metadata": {},
   "outputs": [],
   "source": [
    "#I have previously done some work justifying the two outlying ankly data points.  The pairplot can be used to visually confirm.\n",
    "df_cleaner = df_cleaner[df_cleaner['Ankle']<28]\n",
    "df = df_cleaner.copy() #df used to check skews and normalize \n",
    "\n",
    "\n",
    "df_bmi=df_cleaner.copy() #keep this copy before all the transformations so that \n",
    "#list of groups can be appended to a human interpretable version"
   ]
  },
  {
   "cell_type": "code",
   "execution_count": 71,
   "id": "de0f1b94",
   "metadata": {},
   "outputs": [
    {
     "name": "stdout",
     "output_type": "stream",
     "text": [
      "Lasso Regression\n",
      "alpha =  0.0052684210526315785\n",
      "r2 = 0.6548973114559451\n",
      "29.026434993413986\n"
     ]
    }
   ],
   "source": [
    "X_data = df_cleaner.drop(columns=['BodyFat', 'Density'])\n",
    "skew,_=check_skew(X_data)\n",
    "Y_data = df_cleaner['BodyFat']\n",
    "X_train, X_test, y_train, y_test = train_test_split(X_data, Y_data, test_size=0.3, random_state=72018)\n",
    "\n",
    "s = StandardScaler()\n",
    "\n",
    "X_train_s = s.fit_transform(X_train)\n",
    "X_test_s = s.transform(X_test)\n",
    "\n",
    "\n",
    "\n",
    "\n",
    "print('Lasso Regression')\n",
    "\n",
    "#Use the lassoCV function to tune alpha\n",
    "\n",
    "\n",
    "lassoCV = LassoCV(alphas=np.linspace(.00065,.0065,20),\n",
    "                  max_iter=5e4,\n",
    "                  cv=3).fit(X_train_s, y_train)\n",
    "\n",
    "alpha = lassoCV.alpha_\n",
    "print('alpha = ', alpha)\n",
    "\n",
    "\n",
    "y_pred_lasso = lassoCV.predict(X_test_s)\n",
    "r2=r2_score(y_test,y_pred_lasso)\n",
    "\n",
    "try:\n",
    "    df_coef['NO_Cluster'] =[r2]\n",
    "    len_list.append(len(X_data))\n",
    "except:\n",
    "    pass \n",
    "\n",
    "print('r2 =', r2)\n",
    "\n",
    "print(abs(lassoCV.coef_).sum())"
   ]
  },
  {
   "cell_type": "code",
   "execution_count": 72,
   "id": "2afed1da",
   "metadata": {},
   "outputs": [
    {
     "data": {
      "text/plain": [
       "['BMI', 'Weight', 'Chest', 'Abdomen', 'Hip', 'Forearm']"
      ]
     },
     "execution_count": 72,
     "metadata": {},
     "output_type": "execute_result"
    }
   ],
   "source": [
    "skew"
   ]
  },
  {
   "cell_type": "code",
   "execution_count": 18,
   "id": "d32a815d",
   "metadata": {},
   "outputs": [
    {
     "name": "stdout",
     "output_type": "stream",
     "text": [
      "columns with skew =  ['BMI', 'Weight', 'Chest', 'Abdomen', 'Hip', 'Forearm']\n",
      "skewed columns left after a log transform = ['Forearm']\n"
     ]
    }
   ],
   "source": [
    "#this cell was a normalizing exercise that proved unnecessary at this stage when the unsupervised learning algorithms were being explored.\n",
    "\n",
    "skewlist, vallist = check_skew(df)\n",
    "\n",
    "print('columns with skew = ', skewlist)   \n",
    "\n",
    "\n",
    "assert len([i for i in vallist if i < 0]) == 0 #make sure log transform is valid\n",
    "\n",
    "df_norm = df.copy()\n",
    "for x in skewlist:\n",
    "    df_norm[x] = np.log(df[x]) \n",
    "    \n",
    "c1, c2 = check_skew(df_norm)\n",
    "\n",
    "print('skewed columns left after a log transform =', c1)"
   ]
  },
  {
   "cell_type": "markdown",
   "id": "27518915",
   "metadata": {},
   "source": [
    "#### The goal of the unsupervised models is to see if they can come up with the obese/ not obese split that is in line with the overweight definition at BMI = 25.   \n",
    "\n",
    "#### In the supervised learning lab I used this fact to bin my data for the sake of normality.  It will be interesting to see if the algorithms come up with better splits."
   ]
  },
  {
   "cell_type": "markdown",
   "id": "315403f5",
   "metadata": {},
   "source": [
    "#### Through trial and error I learned that not transforming  the skewed columns leads to outlier detection that is more in line with human judgement.  6 more overweight/obese men are classified as outliers when the DMDBSCAN alogithm is run without the data transformation. "
   ]
  },
  {
   "cell_type": "code",
   "execution_count": 19,
   "id": "f8f14c94",
   "metadata": {},
   "outputs": [],
   "source": [
    "#df_bmi.skew().apply(abs).sort_values(ascending = False)\n",
    "df_final = df_bmi.copy()\n",
    "df = df_bmi.copy().drop(columns='BMI') #unnormalized data with the BMI column dropped -\n",
    "#                                       I don't want to give any hints to the algorithm "
   ]
  },
  {
   "cell_type": "code",
   "execution_count": 20,
   "id": "1179d5e2",
   "metadata": {},
   "outputs": [],
   "source": [
    "from sklearn.cluster import DBSCAN\n",
    "from sklearn.neighbors import NearestNeighbors\n",
    "\n",
    "#the combination of these two will reintroduce the DMDBSCAN algorithm"
   ]
  },
  {
   "cell_type": "code",
   "execution_count": 21,
   "id": "ceb92599",
   "metadata": {},
   "outputs": [],
   "source": [
    "Xu = df.drop(columns=['Density','BodyFat']) #these are related to targets\n",
    "\n",
    "s, l = check_skew(Xu)\n",
    "\n",
    "for i in s:\n",
    "    Xu[i] = np.log(Xu[i])\n",
    "\n",
    "y = df['BodyFat']\n",
    "\n",
    "s = StandardScaler() #normalizing is important for these distance based algorithms\n",
    "X = s.fit_transform(Xu)"
   ]
  },
  {
   "cell_type": "code",
   "execution_count": 22,
   "id": "6077ba43",
   "metadata": {},
   "outputs": [],
   "source": [
    "#this code is used to find the optimal epsilon\n",
    "neigh = NearestNeighbors(n_neighbors=3)\n",
    "nbrs = neigh.fit(X)\n",
    "distances, indices = nbrs.kneighbors(X)"
   ]
  },
  {
   "cell_type": "code",
   "execution_count": 23,
   "id": "d03ee8f0",
   "metadata": {},
   "outputs": [
    {
     "data": {
      "text/plain": [
       "Text(0.5, 1.0, 'DMDBSCAN - epsilon')"
      ]
     },
     "execution_count": 23,
     "metadata": {},
     "output_type": "execute_result"
    },
    {
     "data": {
      "image/png": "[encoded data removed]",
      "text/plain": [
       "<Figure size 432x288 with 1 Axes>"
      ]
     },
     "metadata": {
      "needs_background": "light"
     },
     "output_type": "display_data"
    }
   ],
   "source": [
    "distances = np.sort(distances, axis=0) #sorts each points distance to neighbor\n",
    "distances = distances[:,1] #keep the first nonzero entry of each row array\n",
    "plt.plot(distances)\n",
    "\n",
    "plt.xlabel('point number')\n",
    "plt.ylabel('distance to nearest neighbor')\n",
    "plt.title('DMDBSCAN - epsilon')"
   ]
  },
  {
   "cell_type": "code",
   "execution_count": 24,
   "id": "c1198d2c",
   "metadata": {},
   "outputs": [],
   "source": [
    "outliers=[]\n",
    "ep=2.25\n",
    "for i in range(1,25):\n",
    "    dbs = DBSCAN(eps=ep,min_samples=i, metric='euclidean')\n",
    "    dbs.fit(X)\n",
    "    outliers.append(np.count_nonzero(dbs.labels_==-1))"
   ]
  },
  {
   "cell_type": "code",
   "execution_count": 25,
   "id": "fa7cb41e",
   "metadata": {},
   "outputs": [
    {
     "data": {
      "image/png": "[encoded data removed]",
      "text/plain": [
       "<Figure size 432x288 with 1 Axes>"
      ]
     },
     "metadata": {
      "needs_background": "light"
     },
     "output_type": "display_data"
    }
   ],
   "source": [
    "plt.plot(outliers,'o')\n",
    "plt.xlabel('min number of core samples for core point')\n",
    "plt.ylabel('number of outliers')\n",
    "plt.show()"
   ]
  },
  {
   "cell_type": "code",
   "execution_count": 26,
   "id": "bda74250",
   "metadata": {},
   "outputs": [
    {
     "name": "stdout",
     "output_type": "stream",
     "text": [
      "17\n",
      "226\n",
      "[-1  0]\n"
     ]
    }
   ],
   "source": [
    "#fit the DBSCAN model with the optimized epsilon and min_samples\n",
    "\n",
    "dbs = DBSCAN(eps=ep,min_samples=3, metric='euclidean')\n",
    "dbs.fit(X)\n",
    "print(np.count_nonzero(dbs.labels_==-1))\n",
    "print(np.count_nonzero(dbs.labels_!=-1))\n",
    "print(np.unique(dbs.labels_))\n",
    "\n"
   ]
  },
  {
   "cell_type": "code",
   "execution_count": 27,
   "id": "40256814",
   "metadata": {},
   "outputs": [],
   "source": [
    "#add the cluster labels into the original dataset.  This is so we have a shot at identifying what makes an outlier\n",
    "df_final['Cluster_Assign_DB'] = dbs.labels_"
   ]
  },
  {
   "cell_type": "markdown",
   "id": "97161ded",
   "metadata": {},
   "source": [
    "#### The following cells are just to poke at the clustered data"
   ]
  },
  {
   "cell_type": "code",
   "execution_count": 28,
   "id": "24809001",
   "metadata": {},
   "outputs": [],
   "source": [
    "#sns.pairplot(df_cluster.drop(['Density','BodyFat'],axis=1))\n",
    "\n",
    "#![image.png](attachment:image.png)"
   ]
  },
  {
   "cell_type": "code",
   "execution_count": 75,
   "id": "00a7360e",
   "metadata": {},
   "outputs": [
    {
     "name": "stdout",
     "output_type": "stream",
     "text": [
      "Lasso Regression\n",
      "alpha =  1e-05\n",
      "r2 = 0.7037971581363891\n",
      "42.22904041186014\n"
     ]
    }
   ],
   "source": [
    "df_cluster = df_bmi.copy()\n",
    "df_cluster['Cluster_Assign_DB'] = dbs.labels_\n",
    "df_cluster=df_cluster[df_cluster['Cluster_Assign_DB']==0]\n",
    "df_cluster.drop(['Cluster_Assign_DB'],axis=1,inplace=True)\n",
    "\n",
    "X_data = df_cluster.drop(columns=['BodyFat', 'Density'])\n",
    "skew,_=check_skew(X_data)\n",
    "Y_data = df_cluster['BodyFat']\n",
    "\n",
    "X_train, X_test, y_train, y_test = train_test_split(X_data, Y_data, test_size=0.3, random_state=72018)\n",
    "\n",
    "\n",
    "\n",
    "s=StandardScaler()\n",
    "X_train_s = s.fit_transform(X_train)\n",
    "X_test_s = s.transform(X_test)\n",
    "\n",
    "print('Lasso Regression')\n",
    "\n",
    "#Use the lassoCV function to come up with alpha\n",
    "\n",
    "\n",
    "lassoCV = LassoCV(alphas=np.linspace(1e-6,.1e-4,200),\n",
    "                  max_iter=5e4,\n",
    "                  cv=3).fit(X_train_s, y_train)\n",
    "\n",
    "alpha = lassoCV.alpha_\n",
    "print('alpha = ', alpha)\n",
    "\n",
    "\n",
    "y_pred_lasso = lassoCV.predict(X_test_s)\n",
    "r2=r2_score(y_test,y_pred_lasso)\n",
    "try: \n",
    "    df_coef['DBSCAN'] =[r2]\n",
    "    len_list.append(len(X_data))\n",
    "except:\n",
    "    pass\n",
    "print('r2 =', r2)\n",
    "\n",
    "print(abs(lassoCV.coef_).sum())"
   ]
  },
  {
   "cell_type": "code",
   "execution_count": 76,
   "id": "cb16568f",
   "metadata": {},
   "outputs": [
    {
     "data": {
      "text/plain": [
       "['BMI', 'Weight', 'Chest']"
      ]
     },
     "execution_count": 76,
     "metadata": {},
     "output_type": "execute_result"
    }
   ],
   "source": [
    "skew"
   ]
  },
  {
   "cell_type": "code",
   "execution_count": 66,
   "id": "4c2d91b4",
   "metadata": {},
   "outputs": [
    {
     "data": {
      "text/plain": [
       "(['BMI', 'Weight', 'Chest'], [19.225921521997623, 125.0, 83.4])"
      ]
     },
     "execution_count": 66,
     "metadata": {},
     "output_type": "execute_result"
    }
   ],
   "source": [
    "check_skew(X_data)"
   ]
  },
  {
   "cell_type": "code",
   "execution_count": 30,
   "id": "d8b0dcbb",
   "metadata": {},
   "outputs": [
    {
     "data": {
      "text/plain": [
       "BMI        9.364777\n",
       "Weight     9.246741\n",
       "Abdomen    7.449869\n",
       "Height     5.087552\n",
       "Hip        2.573838\n",
       "Thigh      1.623398\n",
       "Wrist      1.445356\n",
       "Biceps     1.424410\n",
       "Age        1.291341\n",
       "Neck       0.858249\n",
       "Chest      0.722252\n",
       "Knee       0.698477\n",
       "Forearm    0.346246\n",
       "Ankle      0.096534\n",
       "Name: 0, dtype: float64"
      ]
     },
     "execution_count": 30,
     "metadata": {},
     "output_type": "execute_result"
    }
   ],
   "source": [
    "lasc = lassoCV.coef_\n",
    "cols = X_data.columns.to_list()\n",
    "noPFdf = pd.DataFrame(lasc,cols)\n",
    "\n",
    "noPFdf[0].abs().sort_values(ascending=False)"
   ]
  },
  {
   "cell_type": "code",
   "execution_count": 31,
   "id": "37a06931",
   "metadata": {},
   "outputs": [
    {
     "data": {
      "image/png": "[encoded data removed]",
      "text/plain": [
       "<Figure size 432x288 with 1 Axes>"
      ]
     },
     "metadata": {
      "needs_background": "light"
     },
     "output_type": "display_data"
    }
   ],
   "source": [
    "plt.plot(y_pred_lasso,y_test,'o',[0,35],[0,35])\n",
    "plt.xlabel('Predicted')\n",
    "plt.ylabel('Actual - (Measured)')\n",
    "plt.show()"
   ]
  },
  {
   "cell_type": "markdown",
   "id": "4fc2d096",
   "metadata": {},
   "source": [
    "# KMEANS"
   ]
  },
  {
   "cell_type": "code",
   "execution_count": 32,
   "id": "8d1e69ec",
   "metadata": {},
   "outputs": [],
   "source": [
    "from sklearn.cluster import KMeans"
   ]
  },
  {
   "cell_type": "code",
   "execution_count": 33,
   "id": "3c5d54d1",
   "metadata": {},
   "outputs": [],
   "source": [
    "Xu = df.drop(columns=['Density','BodyFat']) #these are related to targets\n",
    "skewlist,_= check_skew(Xu)\n",
    "\n",
    "for i in skewlist:\n",
    "    Xu[i]=np.log(Xu[i])\n",
    "\n",
    "y = df['BodyFat']\n",
    "\n",
    "s = StandardScaler()\n",
    "X = s.fit_transform(Xu)"
   ]
  },
  {
   "cell_type": "code",
   "execution_count": 34,
   "id": "23fc9e4c",
   "metadata": {},
   "outputs": [
    {
     "data": {
      "text/plain": [
       "KMeans(n_clusters=2, random_state=42)"
      ]
     },
     "execution_count": 34,
     "metadata": {},
     "output_type": "execute_result"
    }
   ],
   "source": [
    "k2 = KMeans(n_clusters=2,random_state=42)\n",
    "\n",
    "k2.fit(X)"
   ]
  },
  {
   "cell_type": "code",
   "execution_count": 35,
   "id": "69b0e623",
   "metadata": {},
   "outputs": [
    {
     "data": {
      "image/png": "[encoded data removed]",
      "text/plain": [
       "<Figure size 432x288 with 1 Axes>"
      ]
     },
     "metadata": {
      "needs_background": "light"
     },
     "output_type": "display_data"
    }
   ],
   "source": [
    "\n",
    "inertia = []\n",
    "list_num_clusters = list(range(1,11))\n",
    "for num_clusters in list_num_clusters:\n",
    "    km = KMeans(n_clusters=num_clusters)\n",
    "    km.fit(X)\n",
    "    inertia.append(km.inertia_)\n",
    "    \n",
    "plt.plot(list_num_clusters,inertia)\n",
    "plt.scatter(list_num_clusters,inertia)\n",
    "plt.xlabel('Number of Clusters')\n",
    "plt.ylabel('Inertia');\n"
   ]
  },
  {
   "cell_type": "code",
   "execution_count": 36,
   "id": "fc596ff8",
   "metadata": {},
   "outputs": [],
   "source": [
    "df_final['Cluster_Assign_kmeans'] = k2.labels_"
   ]
  },
  {
   "cell_type": "code",
   "execution_count": 37,
   "id": "c48c9d9f",
   "metadata": {},
   "outputs": [
    {
     "name": "stdout",
     "output_type": "stream",
     "text": [
      "Lasso Regression\n",
      "alpha =  0.15226130653266334\n",
      "r2 = 0.45666263792061157\n",
      "8.822522122797691\n"
     ]
    },
    {
     "data": {
      "text/plain": [
       "0.45666263792061157"
      ]
     },
     "execution_count": 37,
     "metadata": {},
     "output_type": "execute_result"
    }
   ],
   "source": [
    "\n",
    "#training regression model on kmeans cluster - with the high bmi group\n",
    "#I set a random state to the kmeans object.  Hopefully this deals with the arbitrary 0/1 labels\n",
    "\n",
    "df_kmeans=df_bmi.copy()\n",
    "df_kmeans['Cluster_Assign_kmeans'] = k2.labels_\n",
    "\n",
    "df_kr = df_kmeans[df_kmeans['Cluster_Assign_kmeans']==0]\n",
    "\n",
    "df_cluster = df_kr.drop(columns = ['Cluster_Assign_kmeans'])\n",
    "\n",
    "X_data = df_cluster.drop(columns=['BodyFat', 'Density'])\n",
    "Y_data = df_cluster['BodyFat']\n",
    "X_train, X_test, y_train, y_test = train_test_split(X_data, Y_data, test_size=0.3, random_state=72018)\n",
    "\n",
    "s = StandardScaler()\n",
    "\n",
    "X_train_s = s.fit_transform(X_train)\n",
    "X_test_s = s.transform(X_test)\n",
    "\n",
    "print('Lasso Regression')\n",
    "\n",
    "#Use the lassoCV function to come up with alpha\n",
    "\n",
    "\n",
    "lassoCV = LassoCV(alphas=np.linspace(.1,.5,200),\n",
    "                  max_iter=5e4,\n",
    "                  cv=3).fit(X_train_s, y_train)\n",
    "\n",
    "alpha = lassoCV.alpha_\n",
    "print('alpha = ', alpha)\n",
    "\n",
    "y_pred_lasso = lassoCV.predict(X_test_s)\n",
    "\n",
    "r2=r2_score(y_test,y_pred_lasso)\n",
    "try: \n",
    "    df_coef['kmeans'] = [r2]\n",
    "    len_list.append(len(X_data))\n",
    "except:    \n",
    "    pass\n",
    "\n",
    "print('r2 =', r2_score(y_test,y_pred_lasso))\n",
    "\n",
    "print(abs(lassoCV.coef_).sum())\n",
    "\n",
    "lassoCV.score(X_test_s,y_test)"
   ]
  },
  {
   "cell_type": "code",
   "execution_count": 67,
   "id": "0877b401",
   "metadata": {},
   "outputs": [
    {
     "name": "stdout",
     "output_type": "stream",
     "text": [
      "Lasso Regression\n",
      "alpha =  0.46798994974874375\n",
      "r2 = 0.6278570609242586\n",
      "7.503587336758982\n"
     ]
    }
   ],
   "source": [
    "\n",
    "#training regression model on kmeans cluster - with the low bmi group\n",
    "\n",
    "df_kmeans=df_bmi.copy()\n",
    "df_kmeans['Cluster_Assign_kmeans'] = k2.labels_\n",
    "\n",
    "df_kr = df_kmeans[df_kmeans['Cluster_Assign_kmeans']==1]\n",
    "\n",
    "df_cluster = df_kr.drop(columns = ['Cluster_Assign_kmeans'])\n",
    "\n",
    "X_data = df_cluster.drop(columns=['BodyFat', 'Density'])\n",
    "Y_data = df_cluster['BodyFat']\n",
    "X_train, X_test, y_train, y_test = train_test_split(X_data, Y_data, test_size=0.3, random_state=72018)\n",
    "\n",
    "s = StandardScaler()\n",
    "\n",
    "X_train_s = s.fit_transform(X_train)\n",
    "X_test_s = s.transform(X_test)\n",
    "\n",
    "print('Lasso Regression')\n",
    "\n",
    "#Use the lassoCV function to come up with alpha\n",
    "\n",
    "\n",
    "lassoCV = LassoCV(alphas=np.linspace(.01,.5,200),\n",
    "                  max_iter=5e4,\n",
    "                  cv=3).fit(X_train_s, y_train)\n",
    "\n",
    "alpha = lassoCV.alpha_\n",
    "print('alpha = ', alpha)\n",
    "\n",
    "y_pred_lasso = lassoCV.predict(X_test_s)\n",
    "\n",
    "r2=r2_score(y_test,y_pred_lasso)\n",
    "try: \n",
    "    df_coef['kmeans'] = [r2]\n",
    "    #len_list.append(len(X_data))\n",
    "except:    \n",
    "    pass\n",
    "\n",
    "print('r2 =', r2_score(y_test,y_pred_lasso))\n",
    "\n",
    "print(abs(lassoCV.coef_).sum())"
   ]
  },
  {
   "cell_type": "code",
   "execution_count": 69,
   "id": "4476b7f4",
   "metadata": {},
   "outputs": [
    {
     "data": {
      "text/plain": [
       "(['BMI', 'Weight', 'Chest', 'Hip', 'Biceps', 'Forearm', 'Wrist'],\n",
       " [22.02196878251821, 178.0, 95.4, 96.4, 30.5, 21.0, 17.0])"
      ]
     },
     "execution_count": 69,
     "metadata": {},
     "output_type": "execute_result"
    }
   ],
   "source": [
    "check_skew(X_data)"
   ]
  },
  {
   "cell_type": "code",
   "execution_count": 40,
   "id": "b8bf7f4c",
   "metadata": {},
   "outputs": [
    {
     "data": {
      "text/plain": [
       "Abdomen    5.568284\n",
       "Wrist      0.655426\n",
       "Age        0.652906\n",
       "Height     0.626972\n",
       "Forearm    0.000000\n",
       "Biceps     0.000000\n",
       "Ankle      0.000000\n",
       "Knee       0.000000\n",
       "Thigh      0.000000\n",
       "Hip        0.000000\n",
       "Chest      0.000000\n",
       "Neck       0.000000\n",
       "Weight     0.000000\n",
       "BMI        0.000000\n",
       "Name: 0, dtype: float64"
      ]
     },
     "execution_count": 40,
     "metadata": {},
     "output_type": "execute_result"
    }
   ],
   "source": [
    "lasc = lassoCV.coef_\n",
    "cols = X_data.columns.to_list()\n",
    "noPFdf = pd.DataFrame(lasc,cols)\n",
    "\n",
    "noPFdf[0].abs().sort_values(ascending=False)"
   ]
  },
  {
   "cell_type": "code",
   "execution_count": 41,
   "id": "80acb358",
   "metadata": {},
   "outputs": [
    {
     "data": {
      "text/plain": [
       "[<matplotlib.lines.Line2D at 0x23d43c574a8>,\n",
       " <matplotlib.lines.Line2D at 0x23d43c57588>]"
      ]
     },
     "execution_count": 41,
     "metadata": {},
     "output_type": "execute_result"
    },
    {
     "data": {
      "image/png": "[encoded data removed]",
      "text/plain": [
       "<Figure size 432x288 with 1 Axes>"
      ]
     },
     "metadata": {
      "needs_background": "light"
     },
     "output_type": "display_data"
    }
   ],
   "source": [
    "plt.plot(y_pred_lasso,y_test,'o',[0,35],[0,35])"
   ]
  },
  {
   "cell_type": "markdown",
   "id": "94bade02",
   "metadata": {},
   "source": [
    "## HA Clustering"
   ]
  },
  {
   "cell_type": "code",
   "execution_count": 42,
   "id": "dae170e8",
   "metadata": {},
   "outputs": [],
   "source": [
    "from sklearn.cluster import AgglomerativeClustering"
   ]
  },
  {
   "cell_type": "code",
   "execution_count": 43,
   "id": "b9ee0e1f",
   "metadata": {},
   "outputs": [],
   "source": [
    "Xu = df.drop(columns=['Density','BodyFat']) #these are related to targets\n",
    "y = df['BodyFat']\n",
    "\n",
    "skewlist,_= check_skew(Xu)\n",
    "\n",
    "for i in skewlist:\n",
    "    Xu[i]=np.log(Xu[i])\n",
    "\n",
    "\n",
    "s = StandardScaler() #normalizing is important for these distance based algorithms\n",
    "X = s.fit_transform(Xu)"
   ]
  },
  {
   "cell_type": "code",
   "execution_count": 44,
   "id": "56d103d4",
   "metadata": {},
   "outputs": [],
   "source": [
    "HA = AgglomerativeClustering(n_clusters = 2, affinity = 'euclidean', linkage = 'ward')"
   ]
  },
  {
   "cell_type": "code",
   "execution_count": 45,
   "id": "a13b92e7",
   "metadata": {},
   "outputs": [
    {
     "data": {
      "text/plain": [
       "67"
      ]
     },
     "execution_count": 45,
     "metadata": {},
     "output_type": "execute_result"
    }
   ],
   "source": [
    "HA.fit(Xu) #training on unstandardized data leads to drastically better model performance - why\n",
    "HA.labels_.sum()"
   ]
  },
  {
   "cell_type": "code",
   "execution_count": 46,
   "id": "09dbab29",
   "metadata": {},
   "outputs": [],
   "source": [
    "df_final['Cluster_Assign_HA'] = HA.labels_"
   ]
  },
  {
   "cell_type": "code",
   "execution_count": 73,
   "id": "75e2c9eb",
   "metadata": {},
   "outputs": [
    {
     "name": "stdout",
     "output_type": "stream",
     "text": [
      "Lasso Regression\n",
      "alpha =  0.1868421052631579\n",
      "r2 = 0.7217672447946248\n",
      "9.485850795297853\n"
     ]
    }
   ],
   "source": [
    "#training regression model on HA cluster\n",
    "\n",
    "df_ha = df_bmi.copy()\n",
    "df_ha['Cluster_Assign_HA'] = HA.labels_\n",
    "df_ha_r = df_ha[df_ha['Cluster_Assign_HA']==0]\n",
    "\n",
    "df_cluster = df_ha_r.drop(columns=['Cluster_Assign_HA'])\n",
    "\n",
    "X_data = df_cluster.drop(columns=['BodyFat', 'Density'])\n",
    "skew,_=check_skew(X_data)\n",
    "Y_data = df_cluster['BodyFat']\n",
    "X_train, X_test, y_train, y_test = train_test_split(X_data, Y_data, test_size=0.3, random_state=72018)\n",
    "\n",
    "s = StandardScaler()\n",
    "\n",
    "X_train_s = s.fit_transform(X_train)\n",
    "X_test_s = s.transform(X_test)\n",
    "\n",
    "print('Lasso Regression')\n",
    "\n",
    "#Use the lassoCV function to come up with alpha\n",
    "\n",
    "\n",
    "lassoCV = LassoCV(alphas=np.linspace(.15,.25,20),\n",
    "                  max_iter=5e4,\n",
    "                  cv=3).fit(X_train_s, y_train)\n",
    "\n",
    "alpha = lassoCV.alpha_\n",
    "print('alpha = ', alpha)\n",
    "\n",
    "y_pred_lasso = lassoCV.predict(X_test_s)\n",
    "\n",
    "r2=r2_score(y_test,y_pred_lasso)\n",
    "df_coef['HA'] = r2\n",
    "len_list.append(len(X_data))\n",
    "\n",
    "print('r2 =', r2_score(y_test,y_pred_lasso))\n",
    "\n",
    "print(abs(lassoCV.coef_).sum())"
   ]
  },
  {
   "cell_type": "code",
   "execution_count": 74,
   "id": "f73b4bbf",
   "metadata": {},
   "outputs": [
    {
     "data": {
      "text/plain": [
       "['BMI', 'Chest', 'Forearm']"
      ]
     },
     "execution_count": 74,
     "metadata": {},
     "output_type": "execute_result"
    }
   ],
   "source": [
    "skew"
   ]
  },
  {
   "cell_type": "code",
   "execution_count": 48,
   "id": "1b46e223",
   "metadata": {},
   "outputs": [
    {
     "data": {
      "text/plain": [
       "Abdomen    6.449187\n",
       "Height     1.160461\n",
       "Thigh      0.922706\n",
       "Ankle      0.480510\n",
       "Wrist      0.428996\n",
       "Neck       0.029024\n",
       "Biceps     0.014968\n",
       "Forearm    0.000000\n",
       "Knee       0.000000\n",
       "Hip        0.000000\n",
       "Chest      0.000000\n",
       "Weight     0.000000\n",
       "Age        0.000000\n",
       "BMI        0.000000\n",
       "Name: 0, dtype: float64"
      ]
     },
     "execution_count": 48,
     "metadata": {},
     "output_type": "execute_result"
    }
   ],
   "source": [
    "lasc = lassoCV.coef_\n",
    "cols = X_data.columns.to_list()\n",
    "noPFdf = pd.DataFrame(lasc,cols)\n",
    "\n",
    "noPFdf[0].abs().sort_values(ascending=False)"
   ]
  },
  {
   "cell_type": "code",
   "execution_count": 49,
   "id": "54d9fcac",
   "metadata": {},
   "outputs": [
    {
     "data": {
      "image/png": "[encoded data removed]",
      "text/plain": [
       "<Figure size 432x288 with 1 Axes>"
      ]
     },
     "metadata": {
      "needs_background": "light"
     },
     "output_type": "display_data"
    }
   ],
   "source": [
    "plt.plot(y_pred_lasso,y_test,'o',[0,35],[0,35])\n",
    "plt.xlabel('Predicted')\n",
    "plt.ylabel('Actual - (Measured)')\n",
    "plt.show()"
   ]
  },
  {
   "cell_type": "code",
   "execution_count": 50,
   "id": "91afeef3",
   "metadata": {},
   "outputs": [
    {
     "data": {
      "text/plain": [
       "(176, 16)"
      ]
     },
     "execution_count": 50,
     "metadata": {},
     "output_type": "execute_result"
    }
   ],
   "source": [
    "df_cluster.shape"
   ]
  },
  {
   "cell_type": "code",
   "execution_count": 51,
   "id": "1ec3ab66",
   "metadata": {},
   "outputs": [
    {
     "data": {
      "text/html": [
       "<div>\n",
       "<style scoped>\n",
       "    .dataframe tbody tr th:only-of-type {\n",
       "        vertical-align: middle;\n",
       "    }\n",
       "\n",
       "    .dataframe tbody tr th {\n",
       "        vertical-align: top;\n",
       "    }\n",
       "\n",
       "    .dataframe thead th {\n",
       "        text-align: right;\n",
       "    }\n",
       "</style>\n",
       "<table border=\"1\" class=\"dataframe\">\n",
       "  <thead>\n",
       "    <tr style=\"text-align: right;\">\n",
       "      <th></th>\n",
       "      <th>NO_Cluster</th>\n",
       "      <th>DBSCAN</th>\n",
       "      <th>kmeans</th>\n",
       "      <th>HA</th>\n",
       "    </tr>\n",
       "  </thead>\n",
       "  <tbody>\n",
       "    <tr>\n",
       "      <th>0</th>\n",
       "      <td>0.654897</td>\n",
       "      <td>0.703797</td>\n",
       "      <td>0.627857</td>\n",
       "      <td>0.721767</td>\n",
       "    </tr>\n",
       "  </tbody>\n",
       "</table>\n",
       "</div>"
      ],
      "text/plain": [
       "   NO_Cluster    DBSCAN    kmeans        HA\n",
       "0    0.654897  0.703797  0.627857  0.721767"
      ]
     },
     "execution_count": 51,
     "metadata": {},
     "output_type": "execute_result"
    }
   ],
   "source": [
    "df_coef"
   ]
  },
  {
   "cell_type": "code",
   "execution_count": 52,
   "id": "a1e7c49e",
   "metadata": {},
   "outputs": [],
   "source": [
    "#sns.pairplot(df_cluster.drop(['Density','BodyFat'],axis=1))\n",
    "try:\n",
    "    df_coef['HA'] = [r2]\n",
    "except:\n",
    "    df_coef.loc['HA'] = [r2]\n",
    "\n",
    "df_coef = df_coef.T\n",
    "df_coef.rename(columns={0:'R2'}, inplace=True)\n",
    "df_coef['Length']=len_list"
   ]
  },
  {
   "cell_type": "code",
   "execution_count": 53,
   "id": "8ee6b6b9",
   "metadata": {},
   "outputs": [
    {
     "data": {
      "text/html": [
       "<div>\n",
       "<style scoped>\n",
       "    .dataframe tbody tr th:only-of-type {\n",
       "        vertical-align: middle;\n",
       "    }\n",
       "\n",
       "    .dataframe tbody tr th {\n",
       "        vertical-align: top;\n",
       "    }\n",
       "\n",
       "    .dataframe thead th {\n",
       "        text-align: right;\n",
       "    }\n",
       "</style>\n",
       "<table border=\"1\" class=\"dataframe\">\n",
       "  <thead>\n",
       "    <tr style=\"text-align: right;\">\n",
       "      <th></th>\n",
       "      <th>R2</th>\n",
       "      <th>Length</th>\n",
       "    </tr>\n",
       "  </thead>\n",
       "  <tbody>\n",
       "    <tr>\n",
       "      <th>NO_Cluster</th>\n",
       "      <td>0.654897</td>\n",
       "      <td>243</td>\n",
       "    </tr>\n",
       "    <tr>\n",
       "      <th>DBSCAN</th>\n",
       "      <td>0.703797</td>\n",
       "      <td>226</td>\n",
       "    </tr>\n",
       "    <tr>\n",
       "      <th>kmeans</th>\n",
       "      <td>0.627857</td>\n",
       "      <td>137</td>\n",
       "    </tr>\n",
       "    <tr>\n",
       "      <th>HA</th>\n",
       "      <td>0.721767</td>\n",
       "      <td>176</td>\n",
       "    </tr>\n",
       "  </tbody>\n",
       "</table>\n",
       "</div>"
      ],
      "text/plain": [
       "                  R2  Length\n",
       "NO_Cluster  0.654897     243\n",
       "DBSCAN      0.703797     226\n",
       "kmeans      0.627857     137\n",
       "HA          0.721767     176"
      ]
     },
     "execution_count": 53,
     "metadata": {},
     "output_type": "execute_result"
    }
   ],
   "source": [
    "df_coef"
   ]
  },
  {
   "cell_type": "code",
   "execution_count": 54,
   "id": "569a5304",
   "metadata": {},
   "outputs": [],
   "source": [
    "df_final.to_csv('all2.csv')"
   ]
  },
  {
   "cell_type": "code",
   "execution_count": 55,
   "id": "20692285",
   "metadata": {},
   "outputs": [],
   "source": [
    "#sns.pairplot(df_bmi)\n"
   ]
  },
  {
   "cell_type": "markdown",
   "id": "cb3ee42a",
   "metadata": {},
   "source": [
    "# Polynomial Features Sandbox\n",
    "\n",
    "not part of the main project, but may be used in future directions"
   ]
  },
  {
   "cell_type": "code",
   "execution_count": 56,
   "id": "161c10ce",
   "metadata": {},
   "outputs": [],
   "source": [
    "from sklearn.preprocessing import PolynomialFeatures"
   ]
  },
  {
   "cell_type": "code",
   "execution_count": 57,
   "id": "dab1114d",
   "metadata": {},
   "outputs": [],
   "source": [
    "bmi_corr = df_bmi.corr()"
   ]
  },
  {
   "cell_type": "code",
   "execution_count": 58,
   "id": "9680e35f",
   "metadata": {},
   "outputs": [
    {
     "data": {
      "text/plain": [
       "BodyFat    1.000000\n",
       "Density    0.999738\n",
       "Abdomen    0.821529\n",
       "BMI        0.734194\n",
       "Chest      0.696042\n",
       "Hip        0.625044\n",
       "Weight     0.612093\n",
       "Thigh      0.531320\n",
       "Knee       0.486602\n",
       "Neck       0.480498\n",
       "Biceps     0.468211\n",
       "Forearm    0.345026\n",
       "Wrist      0.332579\n",
       "Age        0.297162\n",
       "Ankle      0.281236\n",
       "Height     0.023621\n",
       "Name: BodyFat, dtype: float64"
      ]
     },
     "execution_count": 58,
     "metadata": {},
     "output_type": "execute_result"
    }
   ],
   "source": [
    "#check of how variables are correlated with the target in base case\n",
    "\n",
    "bmi_corr['BodyFat'].abs().sort_values(ascending=False)"
   ]
  },
  {
   "cell_type": "code",
   "execution_count": 59,
   "id": "87213b81",
   "metadata": {},
   "outputs": [],
   "source": [
    "pf = PolynomialFeatures(degree=2)"
   ]
  },
  {
   "cell_type": "code",
   "execution_count": 60,
   "id": "880a173f",
   "metadata": {},
   "outputs": [],
   "source": [
    "df_low_corr_dropped=df_bmi.drop(columns=['Density','Age','Ankle','Height'])\n",
    "pf1 = pf.fit_transform(df_low_corr_dropped)\n",
    "intnames = pf.get_feature_names(df_low_corr_dropped.columns)\n",
    "featuresdf = pd.DataFrame(pf1,columns=intnames)\n",
    "corrdf=featuresdf.corr()['BodyFat'].abs().sort_values(ascending=False).to_frame()"
   ]
  },
  {
   "cell_type": "code",
   "execution_count": 61,
   "id": "ba829734",
   "metadata": {
    "scrolled": true
   },
   "outputs": [],
   "source": [
    "for i in corrdf.index:\n",
    "    if 'BodyFat' in i:\n",
    "        corrdf.drop(i,inplace=True)"
   ]
  },
  {
   "cell_type": "code",
   "execution_count": 62,
   "id": "aafa6809",
   "metadata": {},
   "outputs": [],
   "source": [
    "corrdf.drop('1',inplace=True) #remove degree 0 terms"
   ]
  },
  {
   "cell_type": "code",
   "execution_count": 63,
   "id": "0a253008",
   "metadata": {},
   "outputs": [
    {
     "data": {
      "text/html": [
       "<div>\n",
       "<style scoped>\n",
       "    .dataframe tbody tr th:only-of-type {\n",
       "        vertical-align: middle;\n",
       "    }\n",
       "\n",
       "    .dataframe tbody tr th {\n",
       "        vertical-align: top;\n",
       "    }\n",
       "\n",
       "    .dataframe thead th {\n",
       "        text-align: right;\n",
       "    }\n",
       "</style>\n",
       "<table border=\"1\" class=\"dataframe\">\n",
       "  <thead>\n",
       "    <tr style=\"text-align: right;\">\n",
       "      <th></th>\n",
       "      <th>BodyFat</th>\n",
       "    </tr>\n",
       "  </thead>\n",
       "  <tbody>\n",
       "    <tr>\n",
       "      <th>Abdomen</th>\n",
       "      <td>0.821529</td>\n",
       "    </tr>\n",
       "    <tr>\n",
       "      <th>Abdomen^2</th>\n",
       "      <td>0.817203</td>\n",
       "    </tr>\n",
       "    <tr>\n",
       "      <th>BMI Abdomen</th>\n",
       "      <td>0.784542</td>\n",
       "    </tr>\n",
       "    <tr>\n",
       "      <th>Chest Abdomen</th>\n",
       "      <td>0.782725</td>\n",
       "    </tr>\n",
       "    <tr>\n",
       "      <th>Abdomen Hip</th>\n",
       "      <td>0.771233</td>\n",
       "    </tr>\n",
       "    <tr>\n",
       "      <th>Abdomen Knee</th>\n",
       "      <td>0.751870</td>\n",
       "    </tr>\n",
       "    <tr>\n",
       "      <th>Neck Abdomen</th>\n",
       "      <td>0.749724</td>\n",
       "    </tr>\n",
       "    <tr>\n",
       "      <th>Abdomen Thigh</th>\n",
       "      <td>0.746188</td>\n",
       "    </tr>\n",
       "    <tr>\n",
       "      <th>BMI</th>\n",
       "      <td>0.734194</td>\n",
       "    </tr>\n",
       "    <tr>\n",
       "      <th>Abdomen Wrist</th>\n",
       "      <td>0.731265</td>\n",
       "    </tr>\n",
       "    <tr>\n",
       "      <th>BMI Chest</th>\n",
       "      <td>0.730665</td>\n",
       "    </tr>\n",
       "    <tr>\n",
       "      <th>Abdomen Biceps</th>\n",
       "      <td>0.726440</td>\n",
       "    </tr>\n",
       "    <tr>\n",
       "      <th>BMI^2</th>\n",
       "      <td>0.726250</td>\n",
       "    </tr>\n",
       "    <tr>\n",
       "      <th>Abdomen Forearm</th>\n",
       "      <td>0.723391</td>\n",
       "    </tr>\n",
       "    <tr>\n",
       "      <th>Weight Abdomen</th>\n",
       "      <td>0.718864</td>\n",
       "    </tr>\n",
       "    <tr>\n",
       "      <th>BMI Hip</th>\n",
       "      <td>0.715134</td>\n",
       "    </tr>\n",
       "    <tr>\n",
       "      <th>BMI Knee</th>\n",
       "      <td>0.703127</td>\n",
       "    </tr>\n",
       "    <tr>\n",
       "      <th>Chest</th>\n",
       "      <td>0.696042</td>\n",
       "    </tr>\n",
       "    <tr>\n",
       "      <th>Chest^2</th>\n",
       "      <td>0.694062</td>\n",
       "    </tr>\n",
       "    <tr>\n",
       "      <th>Chest Hip</th>\n",
       "      <td>0.693460</td>\n",
       "    </tr>\n",
       "    <tr>\n",
       "      <th>BMI Neck</th>\n",
       "      <td>0.690630</td>\n",
       "    </tr>\n",
       "    <tr>\n",
       "      <th>BMI Thigh</th>\n",
       "      <td>0.687226</td>\n",
       "    </tr>\n",
       "    <tr>\n",
       "      <th>BMI Weight</th>\n",
       "      <td>0.685148</td>\n",
       "    </tr>\n",
       "    <tr>\n",
       "      <th>BMI Wrist</th>\n",
       "      <td>0.673247</td>\n",
       "    </tr>\n",
       "    <tr>\n",
       "      <th>BMI Biceps</th>\n",
       "      <td>0.669574</td>\n",
       "    </tr>\n",
       "    <tr>\n",
       "      <th>Chest Thigh</th>\n",
       "      <td>0.662425</td>\n",
       "    </tr>\n",
       "    <tr>\n",
       "      <th>BMI Forearm</th>\n",
       "      <td>0.659113</td>\n",
       "    </tr>\n",
       "    <tr>\n",
       "      <th>Chest Knee</th>\n",
       "      <td>0.655976</td>\n",
       "    </tr>\n",
       "    <tr>\n",
       "      <th>Weight Chest</th>\n",
       "      <td>0.655200</td>\n",
       "    </tr>\n",
       "    <tr>\n",
       "      <th>Neck Chest</th>\n",
       "      <td>0.642961</td>\n",
       "    </tr>\n",
       "    <tr>\n",
       "      <th>Hip</th>\n",
       "      <td>0.625044</td>\n",
       "    </tr>\n",
       "    <tr>\n",
       "      <th>Hip^2</th>\n",
       "      <td>0.621491</td>\n",
       "    </tr>\n",
       "    <tr>\n",
       "      <th>Chest Biceps</th>\n",
       "      <td>0.621052</td>\n",
       "    </tr>\n",
       "    <tr>\n",
       "      <th>Weight Hip</th>\n",
       "      <td>0.619900</td>\n",
       "    </tr>\n",
       "    <tr>\n",
       "      <th>Weight</th>\n",
       "      <td>0.612093</td>\n",
       "    </tr>\n",
       "    <tr>\n",
       "      <th>Chest Wrist</th>\n",
       "      <td>0.609145</td>\n",
       "    </tr>\n",
       "    <tr>\n",
       "      <th>Weight^2</th>\n",
       "      <td>0.602567</td>\n",
       "    </tr>\n",
       "    <tr>\n",
       "      <th>Neck Hip</th>\n",
       "      <td>0.600603</td>\n",
       "    </tr>\n",
       "    <tr>\n",
       "      <th>Weight Thigh</th>\n",
       "      <td>0.595982</td>\n",
       "    </tr>\n",
       "    <tr>\n",
       "      <th>Weight Neck</th>\n",
       "      <td>0.595571</td>\n",
       "    </tr>\n",
       "    <tr>\n",
       "      <th>Chest Forearm</th>\n",
       "      <td>0.595536</td>\n",
       "    </tr>\n",
       "    <tr>\n",
       "      <th>Weight Knee</th>\n",
       "      <td>0.591371</td>\n",
       "    </tr>\n",
       "    <tr>\n",
       "      <th>Hip Thigh</th>\n",
       "      <td>0.585555</td>\n",
       "    </tr>\n",
       "    <tr>\n",
       "      <th>Hip Knee</th>\n",
       "      <td>0.584366</td>\n",
       "    </tr>\n",
       "    <tr>\n",
       "      <th>Weight Biceps</th>\n",
       "      <td>0.581451</td>\n",
       "    </tr>\n",
       "    <tr>\n",
       "      <th>Hip Biceps</th>\n",
       "      <td>0.571663</td>\n",
       "    </tr>\n",
       "    <tr>\n",
       "      <th>Weight Wrist</th>\n",
       "      <td>0.570127</td>\n",
       "    </tr>\n",
       "    <tr>\n",
       "      <th>Weight Forearm</th>\n",
       "      <td>0.564732</td>\n",
       "    </tr>\n",
       "    <tr>\n",
       "      <th>Neck Thigh</th>\n",
       "      <td>0.553435</td>\n",
       "    </tr>\n",
       "    <tr>\n",
       "      <th>Hip Wrist</th>\n",
       "      <td>0.548119</td>\n",
       "    </tr>\n",
       "  </tbody>\n",
       "</table>\n",
       "</div>"
      ],
      "text/plain": [
       "                  BodyFat\n",
       "Abdomen          0.821529\n",
       "Abdomen^2        0.817203\n",
       "BMI Abdomen      0.784542\n",
       "Chest Abdomen    0.782725\n",
       "Abdomen Hip      0.771233\n",
       "Abdomen Knee     0.751870\n",
       "Neck Abdomen     0.749724\n",
       "Abdomen Thigh    0.746188\n",
       "BMI              0.734194\n",
       "Abdomen Wrist    0.731265\n",
       "BMI Chest        0.730665\n",
       "Abdomen Biceps   0.726440\n",
       "BMI^2            0.726250\n",
       "Abdomen Forearm  0.723391\n",
       "Weight Abdomen   0.718864\n",
       "BMI Hip          0.715134\n",
       "BMI Knee         0.703127\n",
       "Chest            0.696042\n",
       "Chest^2          0.694062\n",
       "Chest Hip        0.693460\n",
       "BMI Neck         0.690630\n",
       "BMI Thigh        0.687226\n",
       "BMI Weight       0.685148\n",
       "BMI Wrist        0.673247\n",
       "BMI Biceps       0.669574\n",
       "Chest Thigh      0.662425\n",
       "BMI Forearm      0.659113\n",
       "Chest Knee       0.655976\n",
       "Weight Chest     0.655200\n",
       "Neck Chest       0.642961\n",
       "Hip              0.625044\n",
       "Hip^2            0.621491\n",
       "Chest Biceps     0.621052\n",
       "Weight Hip       0.619900\n",
       "Weight           0.612093\n",
       "Chest Wrist      0.609145\n",
       "Weight^2         0.602567\n",
       "Neck Hip         0.600603\n",
       "Weight Thigh     0.595982\n",
       "Weight Neck      0.595571\n",
       "Chest Forearm    0.595536\n",
       "Weight Knee      0.591371\n",
       "Hip Thigh        0.585555\n",
       "Hip Knee         0.584366\n",
       "Weight Biceps    0.581451\n",
       "Hip Biceps       0.571663\n",
       "Weight Wrist     0.570127\n",
       "Weight Forearm   0.564732\n",
       "Neck Thigh       0.553435\n",
       "Hip Wrist        0.548119"
      ]
     },
     "execution_count": 63,
     "metadata": {},
     "output_type": "execute_result"
    }
   ],
   "source": [
    "corrdf.head(50)"
   ]
  },
  {
   "cell_type": "code",
   "execution_count": null,
   "id": "8917d751",
   "metadata": {},
   "outputs": [],
   "source": []
  },
  {
   "cell_type": "code",
   "execution_count": null,
   "id": "3aeb7569",
   "metadata": {},
   "outputs": [],
   "source": []
  },
  {
   "cell_type": "code",
   "execution_count": null,
   "id": "6c2445a0",
   "metadata": {},
   "outputs": [],
   "source": []
  },
  {
   "cell_type": "code",
   "execution_count": null,
   "id": "01acecc5",
   "metadata": {},
   "outputs": [],
   "source": []
  }
 ],
 "metadata": {
  "kernelspec": {
   "display_name": "Python 3",
   "language": "python",
   "name": "python3"
  },
  "language_info": {
   "codemirror_mode": {
    "name": "ipython",
    "version": 3
   },
   "file_extension": ".py",
   "mimetype": "text/x-python",
   "name": "python",
   "nbconvert_exporter": "python",
   "pygments_lexer": "ipython3",
   "version": "3.6.13"
  }
 },
 "nbformat": 4,
 "nbformat_minor": 5
}
